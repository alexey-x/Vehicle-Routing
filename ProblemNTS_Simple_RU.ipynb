{
 "cells": [
  {
   "cell_type": "markdown",
   "metadata": {},
   "source": [
    "# Решение слегка упрощенной задачи от НТС"
   ]
  },
  {
   "attachments": {},
   "cell_type": "markdown",
   "metadata": {},
   "source": [
    "В данной задаче у всех заказов цена одинаковая, поэтому для уменьшения размерности задачи их можно агрегировать.\n",
    "\n",
    "После агрегации видно, что в каждом из городов находится по три заказа в непересекающихся временных окнах.\n",
    "\n",
    "Таким образом задачу можно свести к задаче описанной в ProblemDescription_RU, преообразовав каждый заказ к отдельному городу.\n",
    "\n",
    "Это было сделано. Преобразованный файл ./tests/data/test05_nts_simple.xlsx.\n",
    "\n",
    "Пример:\n",
    "\n",
    "_Район 1_ преобразуется в _Район 1 w1_,  _Район 1 w2_,  _Район 1 w3_, где w1, w2, w3 - означают различные окна по времени."
   ]
  },
  {
   "cell_type": "code",
   "execution_count": 1,
   "metadata": {},
   "outputs": [],
   "source": [
    "import sys\n",
    "import pandas as pd\n",
    "\n",
    "sys.path.append(\"vehicle_routing/\")\n",
    "\n",
    "from data_reader import DataReader\n",
    "from data_processor import DataProcessor\n",
    "from data_writer import DataWriter\n",
    "from linprog_maker import LinProgMaker"
   ]
  },
  {
   "cell_type": "code",
   "execution_count": 2,
   "metadata": {},
   "outputs": [],
   "source": [
    "in_file = \"tests/data/test05_nts_simple.xlsx\"\n",
    "out_file = \"tests/data/output_test05_nts_simple.xlsx\""
   ]
  },
  {
   "cell_type": "code",
   "execution_count": 4,
   "metadata": {},
   "outputs": [],
   "source": [
    "reader = DataReader(in_file)\n",
    "reader.set_trips([1])\n",
    "processor = DataProcessor(reader)\n",
    "task = LinProgMaker(processor)\n",
    "#task.solve()\n",
    "writer = DataWriter(task, out_file)"
   ]
  },
  {
   "cell_type": "markdown",
   "metadata": {},
   "source": [
    "## Данные\n",
    "\n",
    "#### Заказы - покупатели"
   ]
  },
  {
   "cell_type": "code",
   "execution_count": 5,
   "metadata": {},
   "outputs": [
    {
     "data": {
      "text/html": [
       "<div>\n",
       "<style scoped>\n",
       "    .dataframe tbody tr th:only-of-type {\n",
       "        vertical-align: middle;\n",
       "    }\n",
       "\n",
       "    .dataframe tbody tr th {\n",
       "        vertical-align: top;\n",
       "    }\n",
       "\n",
       "    .dataframe thead th {\n",
       "        text-align: right;\n",
       "    }\n",
       "</style>\n",
       "<table border=\"1\" class=\"dataframe\">\n",
       "  <thead>\n",
       "    <tr style=\"text-align: right;\">\n",
       "      <th></th>\n",
       "      <th>City</th>\n",
       "      <th>Price_per_unit</th>\n",
       "      <th>Deliver_from</th>\n",
       "      <th>Deliver_to</th>\n",
       "      <th>Demand</th>\n",
       "    </tr>\n",
       "  </thead>\n",
       "  <tbody>\n",
       "    <tr>\n",
       "      <th>0</th>\n",
       "      <td>Район 1 w1</td>\n",
       "      <td>100</td>\n",
       "      <td>1</td>\n",
       "      <td>8</td>\n",
       "      <td>10046</td>\n",
       "    </tr>\n",
       "    <tr>\n",
       "      <th>1</th>\n",
       "      <td>Район 1 w2</td>\n",
       "      <td>100</td>\n",
       "      <td>9</td>\n",
       "      <td>16</td>\n",
       "      <td>6328</td>\n",
       "    </tr>\n",
       "    <tr>\n",
       "      <th>2</th>\n",
       "      <td>Район 1 w3</td>\n",
       "      <td>100</td>\n",
       "      <td>17</td>\n",
       "      <td>24</td>\n",
       "      <td>5867</td>\n",
       "    </tr>\n",
       "    <tr>\n",
       "      <th>3</th>\n",
       "      <td>Район 2 w1</td>\n",
       "      <td>100</td>\n",
       "      <td>1</td>\n",
       "      <td>8</td>\n",
       "      <td>5507</td>\n",
       "    </tr>\n",
       "    <tr>\n",
       "      <th>4</th>\n",
       "      <td>Район 2 w2</td>\n",
       "      <td>100</td>\n",
       "      <td>9</td>\n",
       "      <td>16</td>\n",
       "      <td>6130</td>\n",
       "    </tr>\n",
       "    <tr>\n",
       "      <th>5</th>\n",
       "      <td>Район 2 w3</td>\n",
       "      <td>100</td>\n",
       "      <td>17</td>\n",
       "      <td>24</td>\n",
       "      <td>22603</td>\n",
       "    </tr>\n",
       "    <tr>\n",
       "      <th>6</th>\n",
       "      <td>Район 3 w1</td>\n",
       "      <td>100</td>\n",
       "      <td>1</td>\n",
       "      <td>8</td>\n",
       "      <td>2404</td>\n",
       "    </tr>\n",
       "    <tr>\n",
       "      <th>7</th>\n",
       "      <td>Район 3 w2</td>\n",
       "      <td>100</td>\n",
       "      <td>9</td>\n",
       "      <td>16</td>\n",
       "      <td>7110</td>\n",
       "    </tr>\n",
       "    <tr>\n",
       "      <th>8</th>\n",
       "      <td>Район 3 w3</td>\n",
       "      <td>100</td>\n",
       "      <td>17</td>\n",
       "      <td>24</td>\n",
       "      <td>3603</td>\n",
       "    </tr>\n",
       "    <tr>\n",
       "      <th>9</th>\n",
       "      <td>Район 4 w1</td>\n",
       "      <td>100</td>\n",
       "      <td>1</td>\n",
       "      <td>8</td>\n",
       "      <td>11236</td>\n",
       "    </tr>\n",
       "    <tr>\n",
       "      <th>10</th>\n",
       "      <td>Район 4 w2</td>\n",
       "      <td>100</td>\n",
       "      <td>9</td>\n",
       "      <td>16</td>\n",
       "      <td>4711</td>\n",
       "    </tr>\n",
       "    <tr>\n",
       "      <th>11</th>\n",
       "      <td>Район 4 w3</td>\n",
       "      <td>100</td>\n",
       "      <td>17</td>\n",
       "      <td>24</td>\n",
       "      <td>8666</td>\n",
       "    </tr>\n",
       "    <tr>\n",
       "      <th>12</th>\n",
       "      <td>Район 5 w1</td>\n",
       "      <td>100</td>\n",
       "      <td>1</td>\n",
       "      <td>8</td>\n",
       "      <td>15738</td>\n",
       "    </tr>\n",
       "    <tr>\n",
       "      <th>13</th>\n",
       "      <td>Район 5 w2</td>\n",
       "      <td>100</td>\n",
       "      <td>9</td>\n",
       "      <td>16</td>\n",
       "      <td>4500</td>\n",
       "    </tr>\n",
       "    <tr>\n",
       "      <th>14</th>\n",
       "      <td>Район 5 w3</td>\n",
       "      <td>100</td>\n",
       "      <td>17</td>\n",
       "      <td>24</td>\n",
       "      <td>4503</td>\n",
       "    </tr>\n",
       "  </tbody>\n",
       "</table>\n",
       "</div>"
      ],
      "text/plain": [
       "          City  Price_per_unit  Deliver_from  Deliver_to  Demand\n",
       "0   Район 1 w1             100             1           8   10046\n",
       "1   Район 1 w2             100             9          16    6328\n",
       "2   Район 1 w3             100            17          24    5867\n",
       "3   Район 2 w1             100             1           8    5507\n",
       "4   Район 2 w2             100             9          16    6130\n",
       "5   Район 2 w3             100            17          24   22603\n",
       "6   Район 3 w1             100             1           8    2404\n",
       "7   Район 3 w2             100             9          16    7110\n",
       "8   Район 3 w3             100            17          24    3603\n",
       "9   Район 4 w1             100             1           8   11236\n",
       "10  Район 4 w2             100             9          16    4711\n",
       "11  Район 4 w3             100            17          24    8666\n",
       "12  Район 5 w1             100             1           8   15738\n",
       "13  Район 5 w2             100             9          16    4500\n",
       "14  Район 5 w3             100            17          24    4503"
      ]
     },
     "execution_count": 5,
     "metadata": {},
     "output_type": "execute_result"
    }
   ],
   "source": [
    "reader.read_orders()"
   ]
  },
  {
   "cell_type": "markdown",
   "metadata": {},
   "source": [
    "#### ТС - машины"
   ]
  },
  {
   "cell_type": "code",
   "execution_count": 6,
   "metadata": {},
   "outputs": [
    {
     "data": {
      "text/html": [
       "<div>\n",
       "<style scoped>\n",
       "    .dataframe tbody tr th:only-of-type {\n",
       "        vertical-align: middle;\n",
       "    }\n",
       "\n",
       "    .dataframe tbody tr th {\n",
       "        vertical-align: top;\n",
       "    }\n",
       "\n",
       "    .dataframe thead th {\n",
       "        text-align: right;\n",
       "    }\n",
       "</style>\n",
       "<table border=\"1\" class=\"dataframe\">\n",
       "  <thead>\n",
       "    <tr style=\"text-align: right;\">\n",
       "      <th></th>\n",
       "      <th>CarName</th>\n",
       "      <th>Capacity</th>\n",
       "      <th>Price_per_km</th>\n",
       "    </tr>\n",
       "  </thead>\n",
       "  <tbody>\n",
       "    <tr>\n",
       "      <th>0</th>\n",
       "      <td>1</td>\n",
       "      <td>20000</td>\n",
       "      <td>200</td>\n",
       "    </tr>\n",
       "    <tr>\n",
       "      <th>1</th>\n",
       "      <td>2</td>\n",
       "      <td>20000</td>\n",
       "      <td>200</td>\n",
       "    </tr>\n",
       "    <tr>\n",
       "      <th>2</th>\n",
       "      <td>3</td>\n",
       "      <td>20000</td>\n",
       "      <td>200</td>\n",
       "    </tr>\n",
       "    <tr>\n",
       "      <th>3</th>\n",
       "      <td>4</td>\n",
       "      <td>7500</td>\n",
       "      <td>200</td>\n",
       "    </tr>\n",
       "    <tr>\n",
       "      <th>4</th>\n",
       "      <td>5</td>\n",
       "      <td>15000</td>\n",
       "      <td>300</td>\n",
       "    </tr>\n",
       "    <tr>\n",
       "      <th>5</th>\n",
       "      <td>6</td>\n",
       "      <td>10000</td>\n",
       "      <td>250</td>\n",
       "    </tr>\n",
       "  </tbody>\n",
       "</table>\n",
       "</div>"
      ],
      "text/plain": [
       "   CarName  Capacity  Price_per_km\n",
       "0        1     20000           200\n",
       "1        2     20000           200\n",
       "2        3     20000           200\n",
       "3        4      7500           200\n",
       "4        5     15000           300\n",
       "5        6     10000           250"
      ]
     },
     "execution_count": 6,
     "metadata": {},
     "output_type": "execute_result"
    }
   ],
   "source": [
    "reader.read_vehicles()"
   ]
  },
  {
   "cell_type": "markdown",
   "metadata": {},
   "source": [
    "#### Маршруты"
   ]
  },
  {
   "cell_type": "code",
   "execution_count": 7,
   "metadata": {},
   "outputs": [
    {
     "data": {
      "text/html": [
       "<div>\n",
       "<style scoped>\n",
       "    .dataframe tbody tr th:only-of-type {\n",
       "        vertical-align: middle;\n",
       "    }\n",
       "\n",
       "    .dataframe tbody tr th {\n",
       "        vertical-align: top;\n",
       "    }\n",
       "\n",
       "    .dataframe thead th {\n",
       "        text-align: right;\n",
       "    }\n",
       "</style>\n",
       "<table border=\"1\" class=\"dataframe\">\n",
       "  <thead>\n",
       "    <tr style=\"text-align: right;\">\n",
       "      <th></th>\n",
       "      <th>From</th>\n",
       "      <th>To</th>\n",
       "      <th>Time</th>\n",
       "      <th>Distance</th>\n",
       "    </tr>\n",
       "  </thead>\n",
       "  <tbody>\n",
       "    <tr>\n",
       "      <th>0</th>\n",
       "      <td>База</td>\n",
       "      <td>Район 1 w1</td>\n",
       "      <td>2</td>\n",
       "      <td>100</td>\n",
       "    </tr>\n",
       "    <tr>\n",
       "      <th>1</th>\n",
       "      <td>Район 2 w1</td>\n",
       "      <td>Район 1 w1</td>\n",
       "      <td>2</td>\n",
       "      <td>100</td>\n",
       "    </tr>\n",
       "    <tr>\n",
       "      <th>2</th>\n",
       "      <td>Район 3 w1</td>\n",
       "      <td>Район 1 w1</td>\n",
       "      <td>4</td>\n",
       "      <td>200</td>\n",
       "    </tr>\n",
       "    <tr>\n",
       "      <th>3</th>\n",
       "      <td>Район 4 w1</td>\n",
       "      <td>Район 1 w1</td>\n",
       "      <td>5</td>\n",
       "      <td>300</td>\n",
       "    </tr>\n",
       "    <tr>\n",
       "      <th>4</th>\n",
       "      <td>Район 5 w1</td>\n",
       "      <td>Район 1 w1</td>\n",
       "      <td>5</td>\n",
       "      <td>300</td>\n",
       "    </tr>\n",
       "  </tbody>\n",
       "</table>\n",
       "</div>"
      ],
      "text/plain": [
       "         From          To  Time  Distance\n",
       "0        База  Район 1 w1     2       100\n",
       "1  Район 2 w1  Район 1 w1     2       100\n",
       "2  Район 3 w1  Район 1 w1     4       200\n",
       "3  Район 4 w1  Район 1 w1     5       300\n",
       "4  Район 5 w1  Район 1 w1     5       300"
      ]
     },
     "execution_count": 7,
     "metadata": {},
     "output_type": "execute_result"
    }
   ],
   "source": [
    "reader.read_routes().head()"
   ]
  },
  {
   "cell_type": "markdown",
   "metadata": {},
   "source": [
    "## Решение и комментарии"
   ]
  },
  {
   "cell_type": "markdown",
   "metadata": {},
   "source": [
    "#### Таблица - Распределение маршрутов"
   ]
  },
  {
   "cell_type": "code",
   "execution_count": 9,
   "metadata": {},
   "outputs": [],
   "source": [
    "#writer.make_vehicle_routing()"
   ]
  },
  {
   "cell_type": "markdown",
   "metadata": {},
   "source": [
    "В этой таблице:\n",
    "\n",
    "- TripNumber - номер поездки, но его порядок не должен согласовываться с временем отправления. \n",
    "\n",
    "- Delivered - доставлено продукта в City_to.\n",
    "\n",
    "- Lack - сколько продукта все еще требуется доставить.\n",
    "\n",
    "- DepartureTime - время отправки из вершины.\n",
    "\n",
    "- ArrivalTime - время прибытия в вершину.\n",
    "\n",
    "- Deliver_From, Deliver_To - ограничения по времени доставки продукта покупателю (для справки)."
   ]
  },
  {
   "cell_type": "markdown",
   "metadata": {},
   "source": [
    "#### Таблица - Доставлено покупателям, начальный спрос, неудалось доставить"
   ]
  },
  {
   "cell_type": "code",
   "execution_count": 10,
   "metadata": {
    "scrolled": true
   },
   "outputs": [],
   "source": [
    "#writer.make_delivery()"
   ]
  },
  {
   "cell_type": "markdown",
   "metadata": {},
   "source": [
    "#### Комментарии\n",
    "\n",
    "- Остановил оптимизатор после 30 минут работы. \n",
    "\n",
    "- Ввденное руками ограничение на количество рейсов = 1 не помогло. \n",
    "\n",
    "- Слишком много вариантов решения. Нужно делать оганичения более жесткими."
   ]
  },
  {
   "cell_type": "markdown",
   "metadata": {},
   "source": []
  }
 ],
 "metadata": {
  "kernelspec": {
   "display_name": "Python 3",
   "language": "python",
   "name": "python3"
  },
  "language_info": {
   "codemirror_mode": {
    "name": "ipython",
    "version": 3
   },
   "file_extension": ".py",
   "mimetype": "text/x-python",
   "name": "python",
   "nbconvert_exporter": "python",
   "pygments_lexer": "ipython3",
   "version": "3.7.1"
  }
 },
 "nbformat": 4,
 "nbformat_minor": 2
}
