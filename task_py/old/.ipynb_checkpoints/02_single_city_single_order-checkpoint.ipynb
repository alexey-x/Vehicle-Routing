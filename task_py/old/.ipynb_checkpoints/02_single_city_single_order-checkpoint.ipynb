{
 "cells": [
  {
   "cell_type": "markdown",
   "metadata": {},
   "source": [
    "# Simple problem -- single city - single order\n",
    "\n",
    "\n"
   ]
  },
  {
   "cell_type": "code",
   "execution_count": 1,
   "metadata": {},
   "outputs": [],
   "source": [
    "import pandas as pd\n",
    "import pulp as plp"
   ]
  },
  {
   "cell_type": "code",
   "execution_count": 2,
   "metadata": {},
   "outputs": [],
   "source": [
    "input_file = \"../data/test_input.xlsx\"\n",
    "output_file = \"../data/test_output.xlsx\""
   ]
  },
  {
   "cell_type": "markdown",
   "metadata": {},
   "source": [
    "## Data"
   ]
  },
  {
   "cell_type": "code",
   "execution_count": 3,
   "metadata": {},
   "outputs": [
    {
     "data": {
      "text/plain": [
       "(0, 25)"
      ]
     },
     "execution_count": 3,
     "metadata": {},
     "output_type": "execute_result"
    }
   ],
   "source": [
    "sheet_name = \"Parameters\"\n",
    "df_param = pd.read_excel(input_file, sheet_name=sheet_name)\n",
    "df_param.set_index(\"ParamName\", inplace=True)\n",
    "minPeriod = df_param.loc[\"minPeriod\"].ParamValue\n",
    "maxPeriod = df_param.loc[\"maxPeriod\"].ParamValue\n",
    "minPeriod, maxPeriod"
   ]
  },
  {
   "cell_type": "code",
   "execution_count": 4,
   "metadata": {
    "scrolled": true
   },
   "outputs": [
    {
     "data": {
      "text/html": [
       "<div>\n",
       "<style scoped>\n",
       "    .dataframe tbody tr th:only-of-type {\n",
       "        vertical-align: middle;\n",
       "    }\n",
       "\n",
       "    .dataframe tbody tr th {\n",
       "        vertical-align: top;\n",
       "    }\n",
       "\n",
       "    .dataframe thead th {\n",
       "        text-align: right;\n",
       "    }\n",
       "</style>\n",
       "<table border=\"1\" class=\"dataframe\">\n",
       "  <thead>\n",
       "    <tr style=\"text-align: right;\">\n",
       "      <th></th>\n",
       "      <th>ID</th>\n",
       "      <th>City</th>\n",
       "      <th>Demand</th>\n",
       "      <th>Price_per_unit</th>\n",
       "      <th>Deliver_from</th>\n",
       "      <th>Deliver_to</th>\n",
       "    </tr>\n",
       "  </thead>\n",
       "  <tbody>\n",
       "    <tr>\n",
       "      <th>0</th>\n",
       "      <td>1</td>\n",
       "      <td>Tambov</td>\n",
       "      <td>110</td>\n",
       "      <td>80</td>\n",
       "      <td>3</td>\n",
       "      <td>6</td>\n",
       "    </tr>\n",
       "    <tr>\n",
       "      <th>1</th>\n",
       "      <td>2</td>\n",
       "      <td>Voronezh</td>\n",
       "      <td>90</td>\n",
       "      <td>110</td>\n",
       "      <td>7</td>\n",
       "      <td>10</td>\n",
       "    </tr>\n",
       "  </tbody>\n",
       "</table>\n",
       "</div>"
      ],
      "text/plain": [
       "   ID      City  Demand  Price_per_unit  Deliver_from  Deliver_to\n",
       "0   1    Tambov     110              80             3           6\n",
       "1   2  Voronezh      90             110             7          10"
      ]
     },
     "execution_count": 4,
     "metadata": {},
     "output_type": "execute_result"
    }
   ],
   "source": [
    "sheet_name = \"SimpleOrders\"\n",
    "df_orders = pd.read_excel(input_file, sheet_name=sheet_name)\n",
    "df_orders.head()"
   ]
  },
  {
   "cell_type": "code",
   "execution_count": 5,
   "metadata": {},
   "outputs": [
    {
     "data": {
      "text/html": [
       "<div>\n",
       "<style scoped>\n",
       "    .dataframe tbody tr th:only-of-type {\n",
       "        vertical-align: middle;\n",
       "    }\n",
       "\n",
       "    .dataframe tbody tr th {\n",
       "        vertical-align: top;\n",
       "    }\n",
       "\n",
       "    .dataframe thead th {\n",
       "        text-align: right;\n",
       "    }\n",
       "</style>\n",
       "<table border=\"1\" class=\"dataframe\">\n",
       "  <thead>\n",
       "    <tr style=\"text-align: right;\">\n",
       "      <th></th>\n",
       "      <th>ID</th>\n",
       "      <th>From</th>\n",
       "      <th>To</th>\n",
       "      <th>Time</th>\n",
       "      <th>Distance</th>\n",
       "    </tr>\n",
       "  </thead>\n",
       "  <tbody>\n",
       "    <tr>\n",
       "      <th>0</th>\n",
       "      <td>1</td>\n",
       "      <td>Moscow</td>\n",
       "      <td>Tambov</td>\n",
       "      <td>4</td>\n",
       "      <td>500</td>\n",
       "    </tr>\n",
       "    <tr>\n",
       "      <th>1</th>\n",
       "      <td>2</td>\n",
       "      <td>Moscow</td>\n",
       "      <td>Voronezh</td>\n",
       "      <td>3</td>\n",
       "      <td>400</td>\n",
       "    </tr>\n",
       "    <tr>\n",
       "      <th>2</th>\n",
       "      <td>3</td>\n",
       "      <td>Tambov</td>\n",
       "      <td>Moscow</td>\n",
       "      <td>4</td>\n",
       "      <td>500</td>\n",
       "    </tr>\n",
       "    <tr>\n",
       "      <th>3</th>\n",
       "      <td>4</td>\n",
       "      <td>Tambov</td>\n",
       "      <td>Voronezh</td>\n",
       "      <td>2</td>\n",
       "      <td>200</td>\n",
       "    </tr>\n",
       "    <tr>\n",
       "      <th>4</th>\n",
       "      <td>5</td>\n",
       "      <td>Voronezh</td>\n",
       "      <td>Moscow</td>\n",
       "      <td>3</td>\n",
       "      <td>400</td>\n",
       "    </tr>\n",
       "  </tbody>\n",
       "</table>\n",
       "</div>"
      ],
      "text/plain": [
       "   ID      From        To  Time  Distance\n",
       "0   1    Moscow    Tambov     4       500\n",
       "1   2    Moscow  Voronezh     3       400\n",
       "2   3    Tambov    Moscow     4       500\n",
       "3   4    Tambov  Voronezh     2       200\n",
       "4   5  Voronezh    Moscow     3       400"
      ]
     },
     "execution_count": 5,
     "metadata": {},
     "output_type": "execute_result"
    }
   ],
   "source": [
    "sheet_name = \"Routes\"\n",
    "df_routes = pd.read_excel(input_file, sheet_name=sheet_name)\n",
    "df_routes.head()"
   ]
  },
  {
   "cell_type": "code",
   "execution_count": 6,
   "metadata": {},
   "outputs": [
    {
     "data": {
      "text/html": [
       "<div>\n",
       "<style scoped>\n",
       "    .dataframe tbody tr th:only-of-type {\n",
       "        vertical-align: middle;\n",
       "    }\n",
       "\n",
       "    .dataframe tbody tr th {\n",
       "        vertical-align: top;\n",
       "    }\n",
       "\n",
       "    .dataframe thead th {\n",
       "        text-align: right;\n",
       "    }\n",
       "</style>\n",
       "<table border=\"1\" class=\"dataframe\">\n",
       "  <thead>\n",
       "    <tr style=\"text-align: right;\">\n",
       "      <th></th>\n",
       "      <th>ID</th>\n",
       "      <th>City</th>\n",
       "    </tr>\n",
       "  </thead>\n",
       "  <tbody>\n",
       "    <tr>\n",
       "      <th>0</th>\n",
       "      <td>1</td>\n",
       "      <td>Moscow</td>\n",
       "    </tr>\n",
       "    <tr>\n",
       "      <th>1</th>\n",
       "      <td>2</td>\n",
       "      <td>Tambov</td>\n",
       "    </tr>\n",
       "    <tr>\n",
       "      <th>2</th>\n",
       "      <td>3</td>\n",
       "      <td>Voronezh</td>\n",
       "    </tr>\n",
       "  </tbody>\n",
       "</table>\n",
       "</div>"
      ],
      "text/plain": [
       "   ID      City\n",
       "0   1    Moscow\n",
       "1   2    Tambov\n",
       "2   3  Voronezh"
      ]
     },
     "execution_count": 6,
     "metadata": {},
     "output_type": "execute_result"
    }
   ],
   "source": [
    "sheet_name = \"Cities\"\n",
    "df_cities = pd.read_excel(input_file, sheet_name=sheet_name)\n",
    "df_cities.head()"
   ]
  },
  {
   "cell_type": "code",
   "execution_count": 7,
   "metadata": {},
   "outputs": [
    {
     "data": {
      "text/html": [
       "<div>\n",
       "<style scoped>\n",
       "    .dataframe tbody tr th:only-of-type {\n",
       "        vertical-align: middle;\n",
       "    }\n",
       "\n",
       "    .dataframe tbody tr th {\n",
       "        vertical-align: top;\n",
       "    }\n",
       "\n",
       "    .dataframe thead th {\n",
       "        text-align: right;\n",
       "    }\n",
       "</style>\n",
       "<table border=\"1\" class=\"dataframe\">\n",
       "  <thead>\n",
       "    <tr style=\"text-align: right;\">\n",
       "      <th></th>\n",
       "      <th>ID</th>\n",
       "      <th>CarName</th>\n",
       "      <th>Capacity</th>\n",
       "      <th>Price_per_km</th>\n",
       "    </tr>\n",
       "  </thead>\n",
       "  <tbody>\n",
       "    <tr>\n",
       "      <th>0</th>\n",
       "      <td>1</td>\n",
       "      <td>big</td>\n",
       "      <td>200</td>\n",
       "      <td>10</td>\n",
       "    </tr>\n",
       "  </tbody>\n",
       "</table>\n",
       "</div>"
      ],
      "text/plain": [
       "   ID CarName  Capacity  Price_per_km\n",
       "0   1     big       200            10"
      ]
     },
     "execution_count": 7,
     "metadata": {},
     "output_type": "execute_result"
    }
   ],
   "source": [
    "sheet_name = \"Cars\"\n",
    "df_cars= pd.read_excel(input_file, sheet_name=sheet_name, nrows=1)\n",
    "df_cars.head()"
   ]
  },
  {
   "cell_type": "markdown",
   "metadata": {},
   "source": [
    "## Structures\n",
    "\n",
    "Moscow - origin depot and destination depot"
   ]
  },
  {
   "cell_type": "code",
   "execution_count": 8,
   "metadata": {},
   "outputs": [],
   "source": [
    "def convert_dataframe_to_dict(dataframe, key_columns, value_column):\n",
    "    return (\n",
    "        dataframe.loc[:, key_columns + [value_column]]\n",
    "        .set_index(key_columns)\n",
    "        .to_dict()[value_column]\n",
    "    )\n",
    "\n",
    "def convert_dataframe_to_set(dataframe, key_columns, value_column):\n",
    "    return set(\n",
    "        list(convert_dataframe_to_dict(dataframe, key_columns, value_column).keys())\n",
    "    )\n"
   ]
  },
  {
   "cell_type": "code",
   "execution_count": 9,
   "metadata": {},
   "outputs": [],
   "source": [
    "default_depot = df_cities.City[0]"
   ]
  },
  {
   "cell_type": "code",
   "execution_count": 10,
   "metadata": {
    "scrolled": true
   },
   "outputs": [
    {
     "data": {
      "text/plain": [
       "{'Tambov', 'Voronezh'}"
      ]
     },
     "execution_count": 10,
     "metadata": {},
     "output_type": "execute_result"
    }
   ],
   "source": [
    "order_cities = set(df_cities.City.values).difference(set([default_depot]))\n",
    "order_cities"
   ]
  },
  {
   "cell_type": "code",
   "execution_count": 11,
   "metadata": {},
   "outputs": [],
   "source": [
    "origin_depot = default_depot + '_start'\n",
    "destination_depot = default_depot + '_end'"
   ]
  },
  {
   "cell_type": "code",
   "execution_count": 12,
   "metadata": {},
   "outputs": [
    {
     "data": {
      "text/plain": [
       "{'Moscow_end', 'Moscow_start', 'Tambov', 'Voronezh'}"
      ]
     },
     "execution_count": 12,
     "metadata": {},
     "output_type": "execute_result"
    }
   ],
   "source": [
    "all_cities = order_cities.union([origin_depot]).union([destination_depot])\n",
    "all_cities"
   ]
  },
  {
   "cell_type": "code",
   "execution_count": 13,
   "metadata": {},
   "outputs": [
    {
     "data": {
      "text/plain": [
       "{'big': 200}"
      ]
     },
     "execution_count": 13,
     "metadata": {},
     "output_type": "execute_result"
    }
   ],
   "source": [
    "car_capacity = convert_dataframe_to_dict(df_cars, [\"CarName\"], \"Capacity\")\n",
    "car_capacity"
   ]
  },
  {
   "cell_type": "code",
   "execution_count": 14,
   "metadata": {},
   "outputs": [
    {
     "data": {
      "text/plain": [
       "{'big': 10}"
      ]
     },
     "execution_count": 14,
     "metadata": {},
     "output_type": "execute_result"
    }
   ],
   "source": [
    "car_price = convert_dataframe_to_dict(df_cars, [\"CarName\"], \"Price_per_km\")\n",
    "car_price"
   ]
  },
  {
   "cell_type": "code",
   "execution_count": 15,
   "metadata": {},
   "outputs": [],
   "source": [
    "df_routes[\"From\"] = df_routes[\"From\"].apply(lambda v: origin_depot if v == default_depot else v)\n",
    "df_routes[\"To\"] = df_routes[\"To\"].apply(lambda v: destination_depot if v == default_depot else v)"
   ]
  },
  {
   "cell_type": "code",
   "execution_count": 16,
   "metadata": {},
   "outputs": [],
   "source": [
    "routes = convert_dataframe_to_set(df_routes, [\"From\", \"To\"], \"Distance\")"
   ]
  },
  {
   "cell_type": "code",
   "execution_count": 17,
   "metadata": {},
   "outputs": [],
   "source": [
    "route_time = convert_dataframe_to_dict(df_routes, [\"From\", \"To\"], \"Time\")\n",
    "route_distance = convert_dataframe_to_dict(df_routes, [\"From\", \"To\"], \"Distance\")"
   ]
  },
  {
   "cell_type": "code",
   "execution_count": 18,
   "metadata": {},
   "outputs": [
    {
     "data": {
      "text/plain": [
       "({('Moscow_start', 'Tambov'): 4,\n",
       "  ('Moscow_start', 'Voronezh'): 3,\n",
       "  ('Tambov', 'Moscow_end'): 4,\n",
       "  ('Tambov', 'Voronezh'): 2,\n",
       "  ('Voronezh', 'Moscow_end'): 3,\n",
       "  ('Voronezh', 'Tambov'): 2},\n",
       " {('Moscow_start', 'Tambov'): 500,\n",
       "  ('Moscow_start', 'Voronezh'): 400,\n",
       "  ('Tambov', 'Moscow_end'): 500,\n",
       "  ('Tambov', 'Voronezh'): 200,\n",
       "  ('Voronezh', 'Moscow_end'): 400,\n",
       "  ('Voronezh', 'Tambov'): 200})"
      ]
     },
     "execution_count": 18,
     "metadata": {},
     "output_type": "execute_result"
    }
   ],
   "source": [
    "route_time, route_distance"
   ]
  },
  {
   "cell_type": "code",
   "execution_count": 19,
   "metadata": {},
   "outputs": [
    {
     "data": {
      "text/html": [
       "<div>\n",
       "<style scoped>\n",
       "    .dataframe tbody tr th:only-of-type {\n",
       "        vertical-align: middle;\n",
       "    }\n",
       "\n",
       "    .dataframe tbody tr th {\n",
       "        vertical-align: top;\n",
       "    }\n",
       "\n",
       "    .dataframe thead th {\n",
       "        text-align: right;\n",
       "    }\n",
       "</style>\n",
       "<table border=\"1\" class=\"dataframe\">\n",
       "  <thead>\n",
       "    <tr style=\"text-align: right;\">\n",
       "      <th></th>\n",
       "      <th>Demand</th>\n",
       "      <th>Price_per_unit</th>\n",
       "      <th>Deliver_from</th>\n",
       "      <th>Deliver_to</th>\n",
       "    </tr>\n",
       "    <tr>\n",
       "      <th>City</th>\n",
       "      <th></th>\n",
       "      <th></th>\n",
       "      <th></th>\n",
       "      <th></th>\n",
       "    </tr>\n",
       "  </thead>\n",
       "  <tbody>\n",
       "    <tr>\n",
       "      <th>Tambov</th>\n",
       "      <td>110</td>\n",
       "      <td>80</td>\n",
       "      <td>3</td>\n",
       "      <td>6</td>\n",
       "    </tr>\n",
       "    <tr>\n",
       "      <th>Voronezh</th>\n",
       "      <td>90</td>\n",
       "      <td>110</td>\n",
       "      <td>7</td>\n",
       "      <td>10</td>\n",
       "    </tr>\n",
       "  </tbody>\n",
       "</table>\n",
       "</div>"
      ],
      "text/plain": [
       "          Demand  Price_per_unit  Deliver_from  Deliver_to\n",
       "City                                                      \n",
       "Tambov       110              80             3           6\n",
       "Voronezh      90             110             7          10"
      ]
     },
     "execution_count": 19,
     "metadata": {},
     "output_type": "execute_result"
    }
   ],
   "source": [
    "orders = df_orders.drop(\"ID\", axis=1).set_index(\"City\")\n",
    "orders"
   ]
  },
  {
   "cell_type": "code",
   "execution_count": 20,
   "metadata": {},
   "outputs": [
    {
     "data": {
      "text/plain": [
       "{'big'}"
      ]
     },
     "execution_count": 20,
     "metadata": {},
     "output_type": "execute_result"
    }
   ],
   "source": [
    "cars = convert_dataframe_to_set(df_cars, [\"CarName\"], \"Price_per_km\")\n",
    "cars"
   ]
  },
  {
   "cell_type": "markdown",
   "metadata": {},
   "source": [
    "## Task"
   ]
  },
  {
   "cell_type": "code",
   "execution_count": 65,
   "metadata": {},
   "outputs": [],
   "source": [
    "prob = plp.LpProblem(\"VRPTW\", plp.LpMaximize)"
   ]
  },
  {
   "cell_type": "code",
   "execution_count": 66,
   "metadata": {},
   "outputs": [],
   "source": [
    "x = plp.LpVariable.dicts(\"x\", [(k, r) for k in cars for r in routes], cat=plp.LpBinary)"
   ]
  },
  {
   "cell_type": "code",
   "execution_count": 67,
   "metadata": {},
   "outputs": [],
   "source": [
    "t = plp.LpVariable.dicts(\"t\", [(k, c) for k in cars for c in all_cities], cat=plp.LpContinuous, lowBound=0)\n",
    "tx_prod = plp.LpVariable.dicts(\"tx\", [(k, r) for k in cars for r in routes], cat=plp.LpContinuous, lowBound=0)"
   ]
  },
  {
   "cell_type": "code",
   "execution_count": 68,
   "metadata": {},
   "outputs": [],
   "source": [
    "car_load = plp.LpVariable.dicts(\"load\", [(k, c) for k in cars for c in all_cities], cat=plp.LpContinuous, lowBound=0)\n",
    "cx_prod = plp.LpVariable.dicts(\"cx\", [(k, r) for k in cars for r in routes], cat=plp.LpContinuous, lowBound=0)\n",
    "delivered_volume = plp.LpVariable.dicts(\"vol\", [(k, c) for k in cars for c in order_cities], cat=plp.LpContinuous, lowBound=0)\n",
    "#undelivered_volume = plp.LpVariable.dicts(\"undel\", [c for c in order_cities], cat=plp.LpContinuous, lowBound=0)"
   ]
  },
  {
   "cell_type": "code",
   "execution_count": 69,
   "metadata": {},
   "outputs": [],
   "source": [
    "# maximize revenue\n",
    "#revenue = sales_profit - devlivery_cost + expensive_undelivered\n",
    "prob += plp.lpSum(orders.loc[c].Price_per_unit * delivered_volume[k, c] \n",
    "          for k in cars \n",
    "          for c in order_cities) \\\n",
    "    - plp.lpSum(route_distance[r] * car_price[k] * x[k, r] for k in cars for r in routes)\n",
    "    #+ plp.lpSum(100*orders.loc[c].Price_per_unit*undelivered_volume[c] for c in order_cities)"
   ]
  },
  {
   "cell_type": "code",
   "execution_count": 70,
   "metadata": {},
   "outputs": [],
   "source": [
    "# minimize distance cost\n",
    "#prob += plp.lpSum(route_distance[r] * car_price[k] * x[k, r] for k in cars for r in routes)"
   ]
  },
  {
   "cell_type": "code",
   "execution_count": 71,
   "metadata": {},
   "outputs": [],
   "source": [
    "for k in cars:\n",
    "    for i in order_cities:\n",
    "        prob += plp.lpSum(x[k, (i, j)] for j in order_cities.union([destination_depot]) if i!=j) <= 1\n",
    "    # city start and end\n",
    "    prob += plp.lpSum(x[k, (origin_depot, j)] for j in order_cities) == 1\n",
    "    prob += plp.lpSum(x[k, (j, destination_depot)] for j in order_cities) == 1\n",
    "    \n",
    "    # time start and end \n",
    "    prob += t[k, origin_depot] == minPeriod\n",
    "    prob += t[k, destination_depot] <= maxPeriod\n",
    "    \n",
    "    #for i in order_cities:\n",
    "    #    prob += t[k, i] >= orders.loc[i].Deliver_from\n",
    "    #    prob += t[k, i] <= orders.loc[i].Deliver_to\n",
    "     \n",
    "    # start, end load\n",
    "    prob += car_load[k, origin_depot] == car_capacity[k]\n",
    "    prob += car_load[k, destination_depot] + plp.lpSum(delivered_volume[k, i] for i in order_cities) == car_capacity[k]\n",
    "    \n",
    "    # ctFlux: // поток -- куда приехали, оттуда уехали\n",
    "    for j in order_cities:\n",
    "        prob += plp.lpSum(x[k, (i, j)] for i  in order_cities.union([origin_depot]) if i!=j) \\\n",
    "                - plp.lpSum(x[k, (j, i)] for i in order_cities.union([destination_depot]) if i!=j) == 0\n",
    "        \n",
    "    # ctTimeBetweenNodes:// время выполнения заявок между узлами\n",
    "    # ctLoadBetweenNodes: // загрузка между узлами\n",
    "    for i, j in routes:\n",
    "        # x[k, (i, j)] * (t[k, i] + route_time[i, j] - t[k, j]) <= 0\n",
    "        prob += tx_prod[k, (i, j)] <= t[k, i] + route_time[i, j] - t[k, j]\n",
    "        prob += tx_prod[k, (i, j)] >= t[k, i] + route_time[i, j] - t[k, j] - maxPeriod * (1 - x[k, (i, j)])\n",
    "        prob += tx_prod[k, (i, j)] <= maxPeriod * x[k, (i, j)]\n",
    "        if j == destination_depot:\n",
    "            _delivered = 0\n",
    "        else:\n",
    "            _delivered = delivered_volume[k, j]\n",
    "        #  x[k, (i, j)] * (car_load[k, i] - delivered_volume[k, j] - car_load[k, j]) <= 0\n",
    "        prob += cx_prod[k, (i, j)] <= car_load[k, i] - _delivered - car_load[k, j]\n",
    "        prob += cx_prod[k, (i, j)] >= car_load[k, i] - _delivered - car_load[k, j] - car_capacity[k] * (1 - x[k, (i, j)])\n",
    "        prob += cx_prod[k, (i, j)] <= car_capacity[k] * x[k, (i, j)] \n",
    "        \n",
    "for i in order_cities:\n",
    "    prob += plp.lpSum(delivered_volume[k, i] for k in cars) == orders.loc[i].Demand# - undelivered_volume[i]\n",
    "    for k in cars:\n",
    "        prob += delivered_volume[k, i] <= orders.loc[i].Demand \\\n",
    "                                    * plp.lpSum(x[k, (i, j)] for j in order_cities.union([destination_depot]) if i!=j)"
   ]
  },
  {
   "cell_type": "code",
   "execution_count": 72,
   "metadata": {},
   "outputs": [
    {
     "data": {
      "text/plain": [
       "1"
      ]
     },
     "execution_count": 72,
     "metadata": {},
     "output_type": "execute_result"
    }
   ],
   "source": [
    "prob.solve()"
   ]
  },
  {
   "cell_type": "code",
   "execution_count": 73,
   "metadata": {
    "scrolled": true
   },
   "outputs": [
    {
     "data": {
      "text/plain": [
       "('Optimal', 7700.0)"
      ]
     },
     "execution_count": 73,
     "metadata": {},
     "output_type": "execute_result"
    }
   ],
   "source": [
    "plp.LpStatus[prob.status], plp.value(prob.objective)"
   ]
  },
  {
   "cell_type": "code",
   "execution_count": 74,
   "metadata": {},
   "outputs": [],
   "source": [
    "#prob"
   ]
  },
  {
   "cell_type": "markdown",
   "metadata": {},
   "source": [
    "## Save result"
   ]
  },
  {
   "cell_type": "code",
   "execution_count": 75,
   "metadata": {},
   "outputs": [],
   "source": [
    "cols = [\"CarName\", \n",
    "        \"City_From\", \n",
    "        \"City_To\", \n",
    "        \"LoadBefore\", \n",
    "        \"LoadAfter\", \n",
    "        \"DeliveredVolume\", \"StartService\", \"Deliver_From\", \"Deliver_To\"]\n",
    "result = pd.DataFrame(columns=cols)\n",
    "row_number = 0\n",
    "for k in cars:\n",
    "    for i, j in routes:\n",
    "        if x[k, (i, j)].value() == 0:\n",
    "            continue\n",
    "        #print(k, i, j, t[k, i].value(), car_load[k, j].value())\n",
    "        result.loc[row_number, cols] = k, i, j, \\\n",
    "                                     car_load[k, i].value(), \\\n",
    "                                     car_load[k, j].value(),\\\n",
    "                                     delivered_volume[k, i].value() if i in order_cities else None, \\\n",
    "                                     t[k, i].value(), \\\n",
    "                                     orders.loc[j].Deliver_from if j in order_cities else None, \\\n",
    "                                     orders.loc[j].Deliver_to if j in order_cities else None\n",
    "                        \n",
    "        #print(k, j, t[k, j].value())\n",
    "        row_number += 1"
   ]
  },
  {
   "cell_type": "code",
   "execution_count": 76,
   "metadata": {},
   "outputs": [
    {
     "data": {
      "text/html": [
       "<div>\n",
       "<style scoped>\n",
       "    .dataframe tbody tr th:only-of-type {\n",
       "        vertical-align: middle;\n",
       "    }\n",
       "\n",
       "    .dataframe tbody tr th {\n",
       "        vertical-align: top;\n",
       "    }\n",
       "\n",
       "    .dataframe thead th {\n",
       "        text-align: right;\n",
       "    }\n",
       "</style>\n",
       "<table border=\"1\" class=\"dataframe\">\n",
       "  <thead>\n",
       "    <tr style=\"text-align: right;\">\n",
       "      <th></th>\n",
       "      <th>CarName</th>\n",
       "      <th>City_From</th>\n",
       "      <th>City_To</th>\n",
       "      <th>LoadBefore</th>\n",
       "      <th>LoadAfter</th>\n",
       "      <th>DeliveredVolume</th>\n",
       "      <th>StartService</th>\n",
       "      <th>Deliver_From</th>\n",
       "      <th>Deliver_To</th>\n",
       "    </tr>\n",
       "  </thead>\n",
       "  <tbody>\n",
       "    <tr>\n",
       "      <th>0</th>\n",
       "      <td>big</td>\n",
       "      <td>Moscow_start</td>\n",
       "      <td>Voronezh</td>\n",
       "      <td>200</td>\n",
       "      <td>None</td>\n",
       "      <td>None</td>\n",
       "      <td>0</td>\n",
       "      <td>7</td>\n",
       "      <td>10</td>\n",
       "    </tr>\n",
       "    <tr>\n",
       "      <th>1</th>\n",
       "      <td>big</td>\n",
       "      <td>Tambov</td>\n",
       "      <td>Moscow_end</td>\n",
       "      <td>None</td>\n",
       "      <td>0</td>\n",
       "      <td>110</td>\n",
       "      <td>0</td>\n",
       "      <td>None</td>\n",
       "      <td>None</td>\n",
       "    </tr>\n",
       "    <tr>\n",
       "      <th>2</th>\n",
       "      <td>big</td>\n",
       "      <td>Voronezh</td>\n",
       "      <td>Tambov</td>\n",
       "      <td>None</td>\n",
       "      <td>None</td>\n",
       "      <td>90</td>\n",
       "      <td>1</td>\n",
       "      <td>3</td>\n",
       "      <td>6</td>\n",
       "    </tr>\n",
       "  </tbody>\n",
       "</table>\n",
       "</div>"
      ],
      "text/plain": [
       "  CarName     City_From     City_To LoadBefore LoadAfter DeliveredVolume  \\\n",
       "0     big  Moscow_start    Voronezh        200      None            None   \n",
       "1     big        Tambov  Moscow_end       None         0             110   \n",
       "2     big      Voronezh      Tambov       None      None              90   \n",
       "\n",
       "  StartService Deliver_From Deliver_To  \n",
       "0            0            7         10  \n",
       "1            0         None       None  \n",
       "2            1            3          6  "
      ]
     },
     "execution_count": 76,
     "metadata": {},
     "output_type": "execute_result"
    }
   ],
   "source": [
    "result.sort_values(by=[\"CarName\", \"StartService\"])"
   ]
  },
  {
   "cell_type": "code",
   "execution_count": 77,
   "metadata": {},
   "outputs": [
    {
     "name": "stdout",
     "output_type": "stream",
     "text": [
      "big Tambov 0.0 110.0\n",
      "big Voronezh 1.0 90.0\n"
     ]
    }
   ],
   "source": [
    "for k in cars:\n",
    "    for i in order_cities:\n",
    "        print(k, i, t[k, i].value(), delivered_volume[k, i].value())"
   ]
  },
  {
   "cell_type": "code",
   "execution_count": 78,
   "metadata": {
    "scrolled": true
   },
   "outputs": [
    {
     "name": "stdout",
     "output_type": "stream",
     "text": [
      "big Moscow_start Voronezh 1.0 0.0\n",
      "big Tambov Moscow_end 1.0 0.0\n",
      "big Voronezh Tambov 1.0 1.0\n",
      "big Voronezh Moscow_end 0.0 1.0\n",
      "big Moscow_start Tambov 0.0 0.0\n",
      "big Tambov Voronezh 0.0 0.0\n"
     ]
    }
   ],
   "source": [
    "for k in cars:\n",
    "    for i, j in routes:\n",
    "        print(k, i, j, x[k, (i, j)].value(), t[k, i].value())"
   ]
  },
  {
   "cell_type": "code",
   "execution_count": null,
   "metadata": {},
   "outputs": [],
   "source": []
  }
 ],
 "metadata": {
  "kernelspec": {
   "display_name": "Python 3",
   "language": "python",
   "name": "python3"
  },
  "language_info": {
   "codemirror_mode": {
    "name": "ipython",
    "version": 3
   },
   "file_extension": ".py",
   "mimetype": "text/x-python",
   "name": "python",
   "nbconvert_exporter": "python",
   "pygments_lexer": "ipython3",
   "version": "3.7.1"
  }
 },
 "nbformat": 4,
 "nbformat_minor": 2
}
