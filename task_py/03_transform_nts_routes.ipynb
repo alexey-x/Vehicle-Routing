{
 "cells": [
  {
   "cell_type": "markdown",
   "metadata": {},
   "source": [
    "# One use notebook"
   ]
  },
  {
   "cell_type": "code",
   "execution_count": 1,
   "metadata": {},
   "outputs": [],
   "source": [
    "import pandas as pd"
   ]
  },
  {
   "cell_type": "code",
   "execution_count": 2,
   "metadata": {},
   "outputs": [],
   "source": [
    "def add_suff(in_str, suffix):\n",
    "    return in_str + \" \" + suffix if in_str != \"База\" else in_str"
   ]
  },
  {
   "cell_type": "code",
   "execution_count": 3,
   "metadata": {},
   "outputs": [],
   "source": [
    "infile = \"../nts_source/input.xlsx\"\n",
    "outfile = \"../tests/data/test05_nts_simple.xlsx\""
   ]
  },
  {
   "cell_type": "markdown",
   "metadata": {},
   "source": [
    "## Deal with cities"
   ]
  },
  {
   "cell_type": "code",
   "execution_count": 24,
   "metadata": {},
   "outputs": [
    {
     "data": {
      "text/html": [
       "<div>\n",
       "<style scoped>\n",
       "    .dataframe tbody tr th:only-of-type {\n",
       "        vertical-align: middle;\n",
       "    }\n",
       "\n",
       "    .dataframe tbody tr th {\n",
       "        vertical-align: top;\n",
       "    }\n",
       "\n",
       "    .dataframe thead th {\n",
       "        text-align: right;\n",
       "    }\n",
       "</style>\n",
       "<table border=\"1\" class=\"dataframe\">\n",
       "  <thead>\n",
       "    <tr style=\"text-align: right;\">\n",
       "      <th></th>\n",
       "      <th>ID</th>\n",
       "      <th>Name</th>\n",
       "    </tr>\n",
       "  </thead>\n",
       "  <tbody>\n",
       "    <tr>\n",
       "      <th>0</th>\n",
       "      <td>1</td>\n",
       "      <td>База</td>\n",
       "    </tr>\n",
       "    <tr>\n",
       "      <th>1</th>\n",
       "      <td>2</td>\n",
       "      <td>Район 1</td>\n",
       "    </tr>\n",
       "    <tr>\n",
       "      <th>2</th>\n",
       "      <td>3</td>\n",
       "      <td>Район 2</td>\n",
       "    </tr>\n",
       "    <tr>\n",
       "      <th>3</th>\n",
       "      <td>4</td>\n",
       "      <td>Район 3</td>\n",
       "    </tr>\n",
       "    <tr>\n",
       "      <th>4</th>\n",
       "      <td>5</td>\n",
       "      <td>Район 4</td>\n",
       "    </tr>\n",
       "  </tbody>\n",
       "</table>\n",
       "</div>"
      ],
      "text/plain": [
       "   ID     Name\n",
       "0   1     База\n",
       "1   2  Район 1\n",
       "2   3  Район 2\n",
       "3   4  Район 3\n",
       "4   5  Район 4"
      ]
     },
     "execution_count": 24,
     "metadata": {},
     "output_type": "execute_result"
    }
   ],
   "source": [
    "df_cities = pd.read_excel(infile, sheet_name=\"Cities\", skiprows=3)\n",
    "df_cities.head()"
   ]
  },
  {
   "cell_type": "code",
   "execution_count": 25,
   "metadata": {},
   "outputs": [],
   "source": [
    "df_cities = df_cities.drop(\"ID\", axis=1).rename(columns={\"Name\":\"City\"})"
   ]
  },
  {
   "cell_type": "code",
   "execution_count": 26,
   "metadata": {},
   "outputs": [],
   "source": [
    "df1 = df_cities.copy()\n",
    "df2 = df_cities.copy()\n",
    "df3 = df_cities.copy()\n",
    "\n",
    "df1[\"CityNew\"] = df1.City.apply(lambda r: add_suff(r, \"w1\"))\n",
    "df2[\"CityNew\"] = df2.City.apply(lambda r: add_suff(r, \"w2\"))\n",
    "df3[\"CityNew\"] = df3.City.apply(lambda r: add_suff(r, \"w3\"))\n",
    "\n",
    "df_cities = pd.concat([df1, df2, df3], axis=0).drop_duplicates()\n",
    "df1 = df2 = df3 = None"
   ]
  },
  {
   "cell_type": "code",
   "execution_count": 27,
   "metadata": {
    "scrolled": true
   },
   "outputs": [
    {
     "data": {
      "text/html": [
       "<div>\n",
       "<style scoped>\n",
       "    .dataframe tbody tr th:only-of-type {\n",
       "        vertical-align: middle;\n",
       "    }\n",
       "\n",
       "    .dataframe tbody tr th {\n",
       "        vertical-align: top;\n",
       "    }\n",
       "\n",
       "    .dataframe thead th {\n",
       "        text-align: right;\n",
       "    }\n",
       "</style>\n",
       "<table border=\"1\" class=\"dataframe\">\n",
       "  <thead>\n",
       "    <tr style=\"text-align: right;\">\n",
       "      <th></th>\n",
       "      <th>City</th>\n",
       "      <th>CityNew</th>\n",
       "    </tr>\n",
       "  </thead>\n",
       "  <tbody>\n",
       "    <tr>\n",
       "      <th>0</th>\n",
       "      <td>База</td>\n",
       "      <td>База</td>\n",
       "    </tr>\n",
       "    <tr>\n",
       "      <th>1</th>\n",
       "      <td>Район 1</td>\n",
       "      <td>Район 1 w1</td>\n",
       "    </tr>\n",
       "    <tr>\n",
       "      <th>2</th>\n",
       "      <td>Район 2</td>\n",
       "      <td>Район 2 w1</td>\n",
       "    </tr>\n",
       "    <tr>\n",
       "      <th>3</th>\n",
       "      <td>Район 3</td>\n",
       "      <td>Район 3 w1</td>\n",
       "    </tr>\n",
       "    <tr>\n",
       "      <th>4</th>\n",
       "      <td>Район 4</td>\n",
       "      <td>Район 4 w1</td>\n",
       "    </tr>\n",
       "    <tr>\n",
       "      <th>5</th>\n",
       "      <td>Район 5</td>\n",
       "      <td>Район 5 w1</td>\n",
       "    </tr>\n",
       "    <tr>\n",
       "      <th>1</th>\n",
       "      <td>Район 1</td>\n",
       "      <td>Район 1 w2</td>\n",
       "    </tr>\n",
       "    <tr>\n",
       "      <th>2</th>\n",
       "      <td>Район 2</td>\n",
       "      <td>Район 2 w2</td>\n",
       "    </tr>\n",
       "    <tr>\n",
       "      <th>3</th>\n",
       "      <td>Район 3</td>\n",
       "      <td>Район 3 w2</td>\n",
       "    </tr>\n",
       "    <tr>\n",
       "      <th>4</th>\n",
       "      <td>Район 4</td>\n",
       "      <td>Район 4 w2</td>\n",
       "    </tr>\n",
       "    <tr>\n",
       "      <th>5</th>\n",
       "      <td>Район 5</td>\n",
       "      <td>Район 5 w2</td>\n",
       "    </tr>\n",
       "    <tr>\n",
       "      <th>1</th>\n",
       "      <td>Район 1</td>\n",
       "      <td>Район 1 w3</td>\n",
       "    </tr>\n",
       "    <tr>\n",
       "      <th>2</th>\n",
       "      <td>Район 2</td>\n",
       "      <td>Район 2 w3</td>\n",
       "    </tr>\n",
       "    <tr>\n",
       "      <th>3</th>\n",
       "      <td>Район 3</td>\n",
       "      <td>Район 3 w3</td>\n",
       "    </tr>\n",
       "    <tr>\n",
       "      <th>4</th>\n",
       "      <td>Район 4</td>\n",
       "      <td>Район 4 w3</td>\n",
       "    </tr>\n",
       "    <tr>\n",
       "      <th>5</th>\n",
       "      <td>Район 5</td>\n",
       "      <td>Район 5 w3</td>\n",
       "    </tr>\n",
       "  </tbody>\n",
       "</table>\n",
       "</div>"
      ],
      "text/plain": [
       "      City     CityNew\n",
       "0     База        База\n",
       "1  Район 1  Район 1 w1\n",
       "2  Район 2  Район 2 w1\n",
       "3  Район 3  Район 3 w1\n",
       "4  Район 4  Район 4 w1\n",
       "5  Район 5  Район 5 w1\n",
       "1  Район 1  Район 1 w2\n",
       "2  Район 2  Район 2 w2\n",
       "3  Район 3  Район 3 w2\n",
       "4  Район 4  Район 4 w2\n",
       "5  Район 5  Район 5 w2\n",
       "1  Район 1  Район 1 w3\n",
       "2  Район 2  Район 2 w3\n",
       "3  Район 3  Район 3 w3\n",
       "4  Район 4  Район 4 w3\n",
       "5  Район 5  Район 5 w3"
      ]
     },
     "execution_count": 27,
     "metadata": {},
     "output_type": "execute_result"
    }
   ],
   "source": [
    "df_cities"
   ]
  },
  {
   "cell_type": "code",
   "execution_count": 8,
   "metadata": {},
   "outputs": [],
   "source": [
    "#df_cities.drop(\"City\", axis=1).rename(columns={\"CityNew\":\"City\"}).to_excel(infile, sheet_name=\"Cities\", index=False)"
   ]
  },
  {
   "cell_type": "code",
   "execution_count": 28,
   "metadata": {},
   "outputs": [],
   "source": [
    "df_cities_product = pd.DataFrame(index=pd.MultiIndex.from_product([df_cities.CityNew.values, \n",
    "                                                    df_cities.CityNew.values], names=[\"From\", \"To\"])).reset_index()"
   ]
  },
  {
   "cell_type": "code",
   "execution_count": 29,
   "metadata": {},
   "outputs": [],
   "source": [
    "df_cities_product = df_cities_product[df_cities_product.From != df_cities_product.To]"
   ]
  },
  {
   "cell_type": "code",
   "execution_count": 30,
   "metadata": {},
   "outputs": [],
   "source": [
    "df_cities_product = df_cities_product.merge(df_cities, \n",
    "                                            left_on=\"From\", \n",
    "                                            right_on=\"CityNew\").drop(\"CityNew\", \n",
    "                                                                     axis=1).rename(columns={\"City\": \"FromOld\"})"
   ]
  },
  {
   "cell_type": "code",
   "execution_count": 31,
   "metadata": {},
   "outputs": [],
   "source": [
    "df_cities_product = df_cities_product.merge(df_cities, \n",
    "                                            left_on=\"To\", \n",
    "                                            right_on=\"CityNew\").drop(\"CityNew\", \n",
    "                                                                     axis=1).rename(columns={\"City\": \"ToOld\"})"
   ]
  },
  {
   "cell_type": "code",
   "execution_count": 33,
   "metadata": {},
   "outputs": [],
   "source": [
    "#df_cities_product"
   ]
  },
  {
   "cell_type": "markdown",
   "metadata": {},
   "source": [
    "## Deal with routes"
   ]
  },
  {
   "cell_type": "code",
   "execution_count": 41,
   "metadata": {},
   "outputs": [
    {
     "data": {
      "text/html": [
       "<div>\n",
       "<style scoped>\n",
       "    .dataframe tbody tr th:only-of-type {\n",
       "        vertical-align: middle;\n",
       "    }\n",
       "\n",
       "    .dataframe tbody tr th {\n",
       "        vertical-align: top;\n",
       "    }\n",
       "\n",
       "    .dataframe thead th {\n",
       "        text-align: right;\n",
       "    }\n",
       "</style>\n",
       "<table border=\"1\" class=\"dataframe\">\n",
       "  <thead>\n",
       "    <tr style=\"text-align: right;\">\n",
       "      <th></th>\n",
       "      <th>Route_Id</th>\n",
       "      <th>from_Name</th>\n",
       "      <th>from_ID</th>\n",
       "      <th>to_Name</th>\n",
       "      <th>to_ID</th>\n",
       "      <th>Time</th>\n",
       "      <th>Distance</th>\n",
       "    </tr>\n",
       "  </thead>\n",
       "  <tbody>\n",
       "    <tr>\n",
       "      <th>0</th>\n",
       "      <td>1</td>\n",
       "      <td>База</td>\n",
       "      <td>1</td>\n",
       "      <td>Район 1</td>\n",
       "      <td>2</td>\n",
       "      <td>2</td>\n",
       "      <td>100</td>\n",
       "    </tr>\n",
       "    <tr>\n",
       "      <th>1</th>\n",
       "      <td>2</td>\n",
       "      <td>Район 2</td>\n",
       "      <td>3</td>\n",
       "      <td>Район 1</td>\n",
       "      <td>2</td>\n",
       "      <td>2</td>\n",
       "      <td>100</td>\n",
       "    </tr>\n",
       "    <tr>\n",
       "      <th>2</th>\n",
       "      <td>3</td>\n",
       "      <td>Район 3</td>\n",
       "      <td>4</td>\n",
       "      <td>Район 1</td>\n",
       "      <td>2</td>\n",
       "      <td>4</td>\n",
       "      <td>200</td>\n",
       "    </tr>\n",
       "    <tr>\n",
       "      <th>3</th>\n",
       "      <td>4</td>\n",
       "      <td>Район 4</td>\n",
       "      <td>5</td>\n",
       "      <td>Район 1</td>\n",
       "      <td>2</td>\n",
       "      <td>5</td>\n",
       "      <td>300</td>\n",
       "    </tr>\n",
       "    <tr>\n",
       "      <th>4</th>\n",
       "      <td>5</td>\n",
       "      <td>Район 5</td>\n",
       "      <td>6</td>\n",
       "      <td>Район 1</td>\n",
       "      <td>2</td>\n",
       "      <td>5</td>\n",
       "      <td>300</td>\n",
       "    </tr>\n",
       "  </tbody>\n",
       "</table>\n",
       "</div>"
      ],
      "text/plain": [
       "   Route_Id from_Name  from_ID  to_Name  to_ID  Time  Distance\n",
       "0         1      База        1  Район 1      2     2       100\n",
       "1         2   Район 2        3  Район 1      2     2       100\n",
       "2         3   Район 3        4  Район 1      2     4       200\n",
       "3         4   Район 4        5  Район 1      2     5       300\n",
       "4         5   Район 5        6  Район 1      2     5       300"
      ]
     },
     "execution_count": 41,
     "metadata": {},
     "output_type": "execute_result"
    }
   ],
   "source": [
    "df_routes = pd.read_excel(infile, sheet_name=\"Routes\", skiprows=3)\n",
    "df_routes.head()"
   ]
  },
  {
   "cell_type": "code",
   "execution_count": 42,
   "metadata": {},
   "outputs": [],
   "source": [
    "df_routes = df_routes.drop([\"Route_Id\", \"from_ID\", \"to_ID\"], axis=1).rename(columns={\"from_Name\":\"FromOld\", \"to_Name\":\"ToOld\"})"
   ]
  },
  {
   "cell_type": "code",
   "execution_count": 43,
   "metadata": {},
   "outputs": [],
   "source": [
    "df_routes = df_cities_product.merge(df_routes, \n",
    "                                    how=\"left\", \n",
    "                                    on=[\"FromOld\", \"ToOld\"]).drop([\"FromOld\", \"ToOld\"], axis=1).fillna(0)\n",
    "#df_routes"
   ]
  },
  {
   "cell_type": "code",
   "execution_count": 45,
   "metadata": {},
   "outputs": [
    {
     "data": {
      "text/html": [
       "<div>\n",
       "<style scoped>\n",
       "    .dataframe tbody tr th:only-of-type {\n",
       "        vertical-align: middle;\n",
       "    }\n",
       "\n",
       "    .dataframe tbody tr th {\n",
       "        vertical-align: top;\n",
       "    }\n",
       "\n",
       "    .dataframe thead th {\n",
       "        text-align: right;\n",
       "    }\n",
       "</style>\n",
       "<table border=\"1\" class=\"dataframe\">\n",
       "  <thead>\n",
       "    <tr style=\"text-align: right;\">\n",
       "      <th></th>\n",
       "      <th>From</th>\n",
       "      <th>To</th>\n",
       "      <th>Time</th>\n",
       "      <th>Distance</th>\n",
       "    </tr>\n",
       "  </thead>\n",
       "  <tbody>\n",
       "    <tr>\n",
       "      <th>0</th>\n",
       "      <td>База</td>\n",
       "      <td>Район 1 w1</td>\n",
       "      <td>2.0</td>\n",
       "      <td>100.0</td>\n",
       "    </tr>\n",
       "    <tr>\n",
       "      <th>1</th>\n",
       "      <td>Район 2 w1</td>\n",
       "      <td>Район 1 w1</td>\n",
       "      <td>2.0</td>\n",
       "      <td>100.0</td>\n",
       "    </tr>\n",
       "    <tr>\n",
       "      <th>2</th>\n",
       "      <td>Район 3 w1</td>\n",
       "      <td>Район 1 w1</td>\n",
       "      <td>4.0</td>\n",
       "      <td>200.0</td>\n",
       "    </tr>\n",
       "    <tr>\n",
       "      <th>3</th>\n",
       "      <td>Район 4 w1</td>\n",
       "      <td>Район 1 w1</td>\n",
       "      <td>5.0</td>\n",
       "      <td>300.0</td>\n",
       "    </tr>\n",
       "    <tr>\n",
       "      <th>4</th>\n",
       "      <td>Район 5 w1</td>\n",
       "      <td>Район 1 w1</td>\n",
       "      <td>5.0</td>\n",
       "      <td>300.0</td>\n",
       "    </tr>\n",
       "    <tr>\n",
       "      <th>5</th>\n",
       "      <td>Район 1 w2</td>\n",
       "      <td>Район 1 w1</td>\n",
       "      <td>0.0</td>\n",
       "      <td>0.0</td>\n",
       "    </tr>\n",
       "    <tr>\n",
       "      <th>6</th>\n",
       "      <td>Район 2 w2</td>\n",
       "      <td>Район 1 w1</td>\n",
       "      <td>2.0</td>\n",
       "      <td>100.0</td>\n",
       "    </tr>\n",
       "    <tr>\n",
       "      <th>7</th>\n",
       "      <td>Район 3 w2</td>\n",
       "      <td>Район 1 w1</td>\n",
       "      <td>4.0</td>\n",
       "      <td>200.0</td>\n",
       "    </tr>\n",
       "    <tr>\n",
       "      <th>8</th>\n",
       "      <td>Район 4 w2</td>\n",
       "      <td>Район 1 w1</td>\n",
       "      <td>5.0</td>\n",
       "      <td>300.0</td>\n",
       "    </tr>\n",
       "    <tr>\n",
       "      <th>9</th>\n",
       "      <td>Район 5 w2</td>\n",
       "      <td>Район 1 w1</td>\n",
       "      <td>5.0</td>\n",
       "      <td>300.0</td>\n",
       "    </tr>\n",
       "    <tr>\n",
       "      <th>10</th>\n",
       "      <td>Район 1 w3</td>\n",
       "      <td>Район 1 w1</td>\n",
       "      <td>0.0</td>\n",
       "      <td>0.0</td>\n",
       "    </tr>\n",
       "    <tr>\n",
       "      <th>11</th>\n",
       "      <td>Район 2 w3</td>\n",
       "      <td>Район 1 w1</td>\n",
       "      <td>2.0</td>\n",
       "      <td>100.0</td>\n",
       "    </tr>\n",
       "    <tr>\n",
       "      <th>12</th>\n",
       "      <td>Район 3 w3</td>\n",
       "      <td>Район 1 w1</td>\n",
       "      <td>4.0</td>\n",
       "      <td>200.0</td>\n",
       "    </tr>\n",
       "    <tr>\n",
       "      <th>13</th>\n",
       "      <td>Район 4 w3</td>\n",
       "      <td>Район 1 w1</td>\n",
       "      <td>5.0</td>\n",
       "      <td>300.0</td>\n",
       "    </tr>\n",
       "    <tr>\n",
       "      <th>14</th>\n",
       "      <td>Район 5 w3</td>\n",
       "      <td>Район 1 w1</td>\n",
       "      <td>5.0</td>\n",
       "      <td>300.0</td>\n",
       "    </tr>\n",
       "    <tr>\n",
       "      <th>15</th>\n",
       "      <td>База</td>\n",
       "      <td>Район 2 w1</td>\n",
       "      <td>4.0</td>\n",
       "      <td>200.0</td>\n",
       "    </tr>\n",
       "    <tr>\n",
       "      <th>16</th>\n",
       "      <td>Район 1 w1</td>\n",
       "      <td>Район 2 w1</td>\n",
       "      <td>2.0</td>\n",
       "      <td>100.0</td>\n",
       "    </tr>\n",
       "    <tr>\n",
       "      <th>17</th>\n",
       "      <td>Район 3 w1</td>\n",
       "      <td>Район 2 w1</td>\n",
       "      <td>2.0</td>\n",
       "      <td>100.0</td>\n",
       "    </tr>\n",
       "    <tr>\n",
       "      <th>18</th>\n",
       "      <td>Район 4 w1</td>\n",
       "      <td>Район 2 w1</td>\n",
       "      <td>4.0</td>\n",
       "      <td>200.0</td>\n",
       "    </tr>\n",
       "    <tr>\n",
       "      <th>19</th>\n",
       "      <td>Район 5 w1</td>\n",
       "      <td>Район 2 w1</td>\n",
       "      <td>7.0</td>\n",
       "      <td>400.0</td>\n",
       "    </tr>\n",
       "  </tbody>\n",
       "</table>\n",
       "</div>"
      ],
      "text/plain": [
       "          From          To  Time  Distance\n",
       "0         База  Район 1 w1   2.0     100.0\n",
       "1   Район 2 w1  Район 1 w1   2.0     100.0\n",
       "2   Район 3 w1  Район 1 w1   4.0     200.0\n",
       "3   Район 4 w1  Район 1 w1   5.0     300.0\n",
       "4   Район 5 w1  Район 1 w1   5.0     300.0\n",
       "5   Район 1 w2  Район 1 w1   0.0       0.0\n",
       "6   Район 2 w2  Район 1 w1   2.0     100.0\n",
       "7   Район 3 w2  Район 1 w1   4.0     200.0\n",
       "8   Район 4 w2  Район 1 w1   5.0     300.0\n",
       "9   Район 5 w2  Район 1 w1   5.0     300.0\n",
       "10  Район 1 w3  Район 1 w1   0.0       0.0\n",
       "11  Район 2 w3  Район 1 w1   2.0     100.0\n",
       "12  Район 3 w3  Район 1 w1   4.0     200.0\n",
       "13  Район 4 w3  Район 1 w1   5.0     300.0\n",
       "14  Район 5 w3  Район 1 w1   5.0     300.0\n",
       "15        База  Район 2 w1   4.0     200.0\n",
       "16  Район 1 w1  Район 2 w1   2.0     100.0\n",
       "17  Район 3 w1  Район 2 w1   2.0     100.0\n",
       "18  Район 4 w1  Район 2 w1   4.0     200.0\n",
       "19  Район 5 w1  Район 2 w1   7.0     400.0"
      ]
     },
     "execution_count": 45,
     "metadata": {},
     "output_type": "execute_result"
    }
   ],
   "source": [
    "df_routes.head(20)"
   ]
  },
  {
   "cell_type": "markdown",
   "metadata": {},
   "source": [
    "## Deal with orders"
   ]
  },
  {
   "cell_type": "code",
   "execution_count": 46,
   "metadata": {},
   "outputs": [
    {
     "data": {
      "text/html": [
       "<div>\n",
       "<style scoped>\n",
       "    .dataframe tbody tr th:only-of-type {\n",
       "        vertical-align: middle;\n",
       "    }\n",
       "\n",
       "    .dataframe tbody tr th {\n",
       "        vertical-align: top;\n",
       "    }\n",
       "\n",
       "    .dataframe thead th {\n",
       "        text-align: right;\n",
       "    }\n",
       "</style>\n",
       "<table border=\"1\" class=\"dataframe\">\n",
       "  <thead>\n",
       "    <tr style=\"text-align: right;\">\n",
       "      <th></th>\n",
       "      <th>ID</th>\n",
       "      <th>Customer</th>\n",
       "      <th>City</th>\n",
       "      <th>city_ID</th>\n",
       "      <th>Quantity</th>\n",
       "      <th>Price_per_unit</th>\n",
       "      <th>Deliver_From</th>\n",
       "      <th>Deliver_To</th>\n",
       "    </tr>\n",
       "  </thead>\n",
       "  <tbody>\n",
       "    <tr>\n",
       "      <th>0</th>\n",
       "      <td>1</td>\n",
       "      <td>Покупатель 1</td>\n",
       "      <td>Район 1</td>\n",
       "      <td>2</td>\n",
       "      <td>5000</td>\n",
       "      <td>100</td>\n",
       "      <td>1</td>\n",
       "      <td>8</td>\n",
       "    </tr>\n",
       "    <tr>\n",
       "      <th>1</th>\n",
       "      <td>2</td>\n",
       "      <td>Покупатель 2</td>\n",
       "      <td>Район 1</td>\n",
       "      <td>2</td>\n",
       "      <td>5046</td>\n",
       "      <td>100</td>\n",
       "      <td>1</td>\n",
       "      <td>8</td>\n",
       "    </tr>\n",
       "    <tr>\n",
       "      <th>2</th>\n",
       "      <td>3</td>\n",
       "      <td>Покупатель 3</td>\n",
       "      <td>Район 2</td>\n",
       "      <td>3</td>\n",
       "      <td>642</td>\n",
       "      <td>100</td>\n",
       "      <td>1</td>\n",
       "      <td>8</td>\n",
       "    </tr>\n",
       "    <tr>\n",
       "      <th>3</th>\n",
       "      <td>4</td>\n",
       "      <td>Покупатель 4</td>\n",
       "      <td>Район 2</td>\n",
       "      <td>3</td>\n",
       "      <td>4865</td>\n",
       "      <td>100</td>\n",
       "      <td>1</td>\n",
       "      <td>8</td>\n",
       "    </tr>\n",
       "    <tr>\n",
       "      <th>4</th>\n",
       "      <td>5</td>\n",
       "      <td>Покупатель 5</td>\n",
       "      <td>Район 3</td>\n",
       "      <td>4</td>\n",
       "      <td>218</td>\n",
       "      <td>100</td>\n",
       "      <td>1</td>\n",
       "      <td>8</td>\n",
       "    </tr>\n",
       "  </tbody>\n",
       "</table>\n",
       "</div>"
      ],
      "text/plain": [
       "   ID      Customer     City  city_ID  Quantity  Price_per_unit  Deliver_From  \\\n",
       "0   1  Покупатель 1  Район 1        2      5000             100             1   \n",
       "1   2  Покупатель 2  Район 1        2      5046             100             1   \n",
       "2   3  Покупатель 3  Район 2        3       642             100             1   \n",
       "3   4  Покупатель 4  Район 2        3      4865             100             1   \n",
       "4   5  Покупатель 5  Район 3        4       218             100             1   \n",
       "\n",
       "   Deliver_To  \n",
       "0           8  \n",
       "1           8  \n",
       "2           8  \n",
       "3           8  \n",
       "4           8  "
      ]
     },
     "execution_count": 46,
     "metadata": {},
     "output_type": "execute_result"
    }
   ],
   "source": [
    "df_orders = pd.read_excel(infile, sheet_name=\"OrdersBase\", skiprows=3)\n",
    "df_orders.head()"
   ]
  },
  {
   "cell_type": "code",
   "execution_count": 52,
   "metadata": {},
   "outputs": [],
   "source": [
    "grp_cols = [\"City\", \"Price_per_unit\", \"Deliver_From\", \"Deliver_To\"]\n",
    "rename_cols = {\"Deliver_From\": \"Deliver_from\" , \"Deliver_To\": \"Deliver_to\", \"Quantity\": \"Demand\"}\n",
    "df_orders = df_orders.groupby(cols)[\"Quantity\"].sum().to_frame().reset_index().rename(columns=rename_cols)"
   ]
  },
  {
   "cell_type": "code",
   "execution_count": 56,
   "metadata": {
    "scrolled": true
   },
   "outputs": [],
   "source": [
    "df_orders[\"RN\"] = df_orders.sort_values(\"Deliver_from\").groupby(\"City\").cumcount()"
   ]
  },
  {
   "cell_type": "code",
   "execution_count": 66,
   "metadata": {},
   "outputs": [],
   "source": [
    "df_orders[\"City\"] = df_orders[\"City\"] + \" w\" + (df_orders[\"RN\"] + 1).astype(\"str\")"
   ]
  },
  {
   "cell_type": "code",
   "execution_count": 68,
   "metadata": {},
   "outputs": [],
   "source": [
    "df_orders = df_orders.drop(\"RN\", axis=1)"
   ]
  },
  {
   "cell_type": "markdown",
   "metadata": {},
   "source": [
    "## Deal with  cars"
   ]
  },
  {
   "cell_type": "code",
   "execution_count": 69,
   "metadata": {},
   "outputs": [
    {
     "data": {
      "text/html": [
       "<div>\n",
       "<style scoped>\n",
       "    .dataframe tbody tr th:only-of-type {\n",
       "        vertical-align: middle;\n",
       "    }\n",
       "\n",
       "    .dataframe tbody tr th {\n",
       "        vertical-align: top;\n",
       "    }\n",
       "\n",
       "    .dataframe thead th {\n",
       "        text-align: right;\n",
       "    }\n",
       "</style>\n",
       "<table border=\"1\" class=\"dataframe\">\n",
       "  <thead>\n",
       "    <tr style=\"text-align: right;\">\n",
       "      <th></th>\n",
       "      <th>car_ID</th>\n",
       "      <th>Capacity_Max</th>\n",
       "      <th>Price_per_km</th>\n",
       "    </tr>\n",
       "  </thead>\n",
       "  <tbody>\n",
       "    <tr>\n",
       "      <th>0</th>\n",
       "      <td>1</td>\n",
       "      <td>20000</td>\n",
       "      <td>200</td>\n",
       "    </tr>\n",
       "    <tr>\n",
       "      <th>1</th>\n",
       "      <td>2</td>\n",
       "      <td>20000</td>\n",
       "      <td>200</td>\n",
       "    </tr>\n",
       "    <tr>\n",
       "      <th>2</th>\n",
       "      <td>3</td>\n",
       "      <td>20000</td>\n",
       "      <td>200</td>\n",
       "    </tr>\n",
       "    <tr>\n",
       "      <th>3</th>\n",
       "      <td>4</td>\n",
       "      <td>7500</td>\n",
       "      <td>200</td>\n",
       "    </tr>\n",
       "    <tr>\n",
       "      <th>4</th>\n",
       "      <td>5</td>\n",
       "      <td>15000</td>\n",
       "      <td>300</td>\n",
       "    </tr>\n",
       "  </tbody>\n",
       "</table>\n",
       "</div>"
      ],
      "text/plain": [
       "   car_ID  Capacity_Max  Price_per_km\n",
       "0       1         20000           200\n",
       "1       2         20000           200\n",
       "2       3         20000           200\n",
       "3       4          7500           200\n",
       "4       5         15000           300"
      ]
     },
     "execution_count": 69,
     "metadata": {},
     "output_type": "execute_result"
    }
   ],
   "source": [
    "df_cars = pd.read_excel(infile, sheet_name=\"Cars\", skiprows=3)\n",
    "df_cars.head()"
   ]
  },
  {
   "cell_type": "code",
   "execution_count": 71,
   "metadata": {},
   "outputs": [],
   "source": [
    "df_cars = df_cars.rename(columns={\"car_ID\": \"CarName\", \"Capacity_Max\": \"Capacity\"})"
   ]
  },
  {
   "cell_type": "markdown",
   "metadata": {},
   "source": [
    "## Deal with  parameters"
   ]
  },
  {
   "cell_type": "code",
   "execution_count": 77,
   "metadata": {},
   "outputs": [
    {
     "data": {
      "text/html": [
       "<div>\n",
       "<style scoped>\n",
       "    .dataframe tbody tr th:only-of-type {\n",
       "        vertical-align: middle;\n",
       "    }\n",
       "\n",
       "    .dataframe tbody tr th {\n",
       "        vertical-align: top;\n",
       "    }\n",
       "\n",
       "    .dataframe thead th {\n",
       "        text-align: right;\n",
       "    }\n",
       "</style>\n",
       "<table border=\"1\" class=\"dataframe\">\n",
       "  <thead>\n",
       "    <tr style=\"text-align: right;\">\n",
       "      <th></th>\n",
       "      <th>Unnamed: 0</th>\n",
       "      <th>Unnamed: 1</th>\n",
       "    </tr>\n",
       "  </thead>\n",
       "  <tbody>\n",
       "    <tr>\n",
       "      <th>0</th>\n",
       "      <td>minPeriod</td>\n",
       "      <td>0</td>\n",
       "    </tr>\n",
       "    <tr>\n",
       "      <th>1</th>\n",
       "      <td>maxPeriod</td>\n",
       "      <td>25</td>\n",
       "    </tr>\n",
       "  </tbody>\n",
       "</table>\n",
       "</div>"
      ],
      "text/plain": [
       "  Unnamed: 0  Unnamed: 1\n",
       "0  minPeriod           0\n",
       "1  maxPeriod          25"
      ]
     },
     "execution_count": 77,
     "metadata": {},
     "output_type": "execute_result"
    }
   ],
   "source": [
    "df_param =  pd.read_excel(infile, sheet_name=\"Parametres\", skiprows=1)\n",
    "df_param"
   ]
  },
  {
   "cell_type": "code",
   "execution_count": 78,
   "metadata": {},
   "outputs": [],
   "source": [
    "df_param.columns = [\"ParamName\", \"ParamValue\"]"
   ]
  },
  {
   "cell_type": "markdown",
   "metadata": {},
   "source": [
    "## Save to file"
   ]
  },
  {
   "cell_type": "code",
   "execution_count": 81,
   "metadata": {},
   "outputs": [],
   "source": [
    "writer = pd.ExcelWriter(outfile, engine=\"xlsxwriter\")\n",
    "\n",
    "df_param.to_excel(writer, sheet_name=\"Parameters\", index=False)\n",
    "df_cities.drop(\"City\", axis=1).rename(columns={\"CityNew\":\"City\"}).to_excel(writer, sheet_name=\"Cities\", index=False)\n",
    "df_cars.to_excel(writer, sheet_name=\"Vehicles\", index=False)\n",
    "df_orders.to_excel(writer, sheet_name=\"Orders\", index=False)\n",
    "df_routes.to_excel(writer, sheet_name=\"Routes\", index=False)\n",
    "writer.save()\n",
    "writer.close()"
   ]
  },
  {
   "cell_type": "code",
   "execution_count": null,
   "metadata": {},
   "outputs": [],
   "source": []
  },
  {
   "cell_type": "code",
   "execution_count": null,
   "metadata": {},
   "outputs": [],
   "source": []
  },
  {
   "cell_type": "code",
   "execution_count": null,
   "metadata": {},
   "outputs": [],
   "source": []
  },
  {
   "cell_type": "code",
   "execution_count": null,
   "metadata": {},
   "outputs": [],
   "source": []
  }
 ],
 "metadata": {
  "kernelspec": {
   "display_name": "Python 3",
   "language": "python",
   "name": "python3"
  },
  "language_info": {
   "codemirror_mode": {
    "name": "ipython",
    "version": 3
   },
   "file_extension": ".py",
   "mimetype": "text/x-python",
   "name": "python",
   "nbconvert_exporter": "python",
   "pygments_lexer": "ipython3",
   "version": "3.7.1"
  }
 },
 "nbformat": 4,
 "nbformat_minor": 2
}
