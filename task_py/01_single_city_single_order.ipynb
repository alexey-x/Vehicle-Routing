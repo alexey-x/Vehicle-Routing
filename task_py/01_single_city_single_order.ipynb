{
 "cells": [
  {
   "cell_type": "markdown",
   "metadata": {},
   "source": [
    "# Simple problem -- single city - single order\n",
    "\n",
    "\n"
   ]
  },
  {
   "cell_type": "code",
   "execution_count": 1,
   "metadata": {},
   "outputs": [],
   "source": [
    "import pandas as pd\n",
    "import pulp as plp"
   ]
  },
  {
   "cell_type": "code",
   "execution_count": 2,
   "metadata": {},
   "outputs": [],
   "source": [
    "input_file = \"../tests/data/test01_v1c3dhuge.xlsx\"\n",
    "output_file = \"../data/test_output.xlsx\""
   ]
  },
  {
   "cell_type": "markdown",
   "metadata": {},
   "source": [
    "## Data"
   ]
  },
  {
   "cell_type": "code",
   "execution_count": 3,
   "metadata": {},
   "outputs": [
    {
     "data": {
      "text/plain": [
       "(0, 25)"
      ]
     },
     "execution_count": 3,
     "metadata": {},
     "output_type": "execute_result"
    }
   ],
   "source": [
    "sheet_name = \"Parameters\"\n",
    "df_param = pd.read_excel(input_file, sheet_name=sheet_name)\n",
    "df_param.set_index(\"ParamName\", inplace=True)\n",
    "minPeriod = df_param.loc[\"minPeriod\"].ParamValue\n",
    "maxPeriod = df_param.loc[\"maxPeriod\"].ParamValue\n",
    "minPeriod, maxPeriod"
   ]
  },
  {
   "cell_type": "code",
   "execution_count": 4,
   "metadata": {
    "scrolled": false
   },
   "outputs": [
    {
     "data": {
      "text/html": [
       "<div>\n",
       "<style scoped>\n",
       "    .dataframe tbody tr th:only-of-type {\n",
       "        vertical-align: middle;\n",
       "    }\n",
       "\n",
       "    .dataframe tbody tr th {\n",
       "        vertical-align: top;\n",
       "    }\n",
       "\n",
       "    .dataframe thead th {\n",
       "        text-align: right;\n",
       "    }\n",
       "</style>\n",
       "<table border=\"1\" class=\"dataframe\">\n",
       "  <thead>\n",
       "    <tr style=\"text-align: right;\">\n",
       "      <th></th>\n",
       "      <th>City</th>\n",
       "      <th>Demand</th>\n",
       "      <th>Price_per_unit</th>\n",
       "      <th>Deliver_from</th>\n",
       "      <th>Deliver_to</th>\n",
       "    </tr>\n",
       "  </thead>\n",
       "  <tbody>\n",
       "    <tr>\n",
       "      <th>0</th>\n",
       "      <td>Tambov</td>\n",
       "      <td>200</td>\n",
       "      <td>800</td>\n",
       "      <td>3</td>\n",
       "      <td>15</td>\n",
       "    </tr>\n",
       "    <tr>\n",
       "      <th>1</th>\n",
       "      <td>Voronezh</td>\n",
       "      <td>100</td>\n",
       "      <td>1100</td>\n",
       "      <td>17</td>\n",
       "      <td>24</td>\n",
       "    </tr>\n",
       "  </tbody>\n",
       "</table>\n",
       "</div>"
      ],
      "text/plain": [
       "       City  Demand  Price_per_unit  Deliver_from  Deliver_to\n",
       "0    Tambov     200             800             3          15\n",
       "1  Voronezh     100            1100            17          24"
      ]
     },
     "execution_count": 4,
     "metadata": {},
     "output_type": "execute_result"
    }
   ],
   "source": [
    "sheet_name = \"Orders\"\n",
    "df_orders = pd.read_excel(input_file, sheet_name=sheet_name)\n",
    "df_orders.head()"
   ]
  },
  {
   "cell_type": "code",
   "execution_count": 5,
   "metadata": {},
   "outputs": [
    {
     "data": {
      "text/html": [
       "<div>\n",
       "<style scoped>\n",
       "    .dataframe tbody tr th:only-of-type {\n",
       "        vertical-align: middle;\n",
       "    }\n",
       "\n",
       "    .dataframe tbody tr th {\n",
       "        vertical-align: top;\n",
       "    }\n",
       "\n",
       "    .dataframe thead th {\n",
       "        text-align: right;\n",
       "    }\n",
       "</style>\n",
       "<table border=\"1\" class=\"dataframe\">\n",
       "  <thead>\n",
       "    <tr style=\"text-align: right;\">\n",
       "      <th></th>\n",
       "      <th>From</th>\n",
       "      <th>To</th>\n",
       "      <th>Time</th>\n",
       "      <th>Distance</th>\n",
       "    </tr>\n",
       "  </thead>\n",
       "  <tbody>\n",
       "    <tr>\n",
       "      <th>0</th>\n",
       "      <td>Moscow</td>\n",
       "      <td>Tambov</td>\n",
       "      <td>3.000000</td>\n",
       "      <td>400</td>\n",
       "    </tr>\n",
       "    <tr>\n",
       "      <th>1</th>\n",
       "      <td>Moscow</td>\n",
       "      <td>Voronezh</td>\n",
       "      <td>5.000000</td>\n",
       "      <td>450</td>\n",
       "    </tr>\n",
       "    <tr>\n",
       "      <th>2</th>\n",
       "      <td>Tambov</td>\n",
       "      <td>Moscow</td>\n",
       "      <td>3.000000</td>\n",
       "      <td>400</td>\n",
       "    </tr>\n",
       "    <tr>\n",
       "      <th>3</th>\n",
       "      <td>Tambov</td>\n",
       "      <td>Voronezh</td>\n",
       "      <td>2.111111</td>\n",
       "      <td>190</td>\n",
       "    </tr>\n",
       "    <tr>\n",
       "      <th>4</th>\n",
       "      <td>Voronezh</td>\n",
       "      <td>Tambov</td>\n",
       "      <td>2.111111</td>\n",
       "      <td>190</td>\n",
       "    </tr>\n",
       "  </tbody>\n",
       "</table>\n",
       "</div>"
      ],
      "text/plain": [
       "       From        To      Time  Distance\n",
       "0    Moscow    Tambov  3.000000       400\n",
       "1    Moscow  Voronezh  5.000000       450\n",
       "2    Tambov    Moscow  3.000000       400\n",
       "3    Tambov  Voronezh  2.111111       190\n",
       "4  Voronezh    Tambov  2.111111       190"
      ]
     },
     "execution_count": 5,
     "metadata": {},
     "output_type": "execute_result"
    }
   ],
   "source": [
    "sheet_name = \"Routes\"\n",
    "df_routes = pd.read_excel(input_file, sheet_name=sheet_name)\n",
    "df_routes.head()"
   ]
  },
  {
   "cell_type": "code",
   "execution_count": 6,
   "metadata": {},
   "outputs": [
    {
     "data": {
      "text/html": [
       "<div>\n",
       "<style scoped>\n",
       "    .dataframe tbody tr th:only-of-type {\n",
       "        vertical-align: middle;\n",
       "    }\n",
       "\n",
       "    .dataframe tbody tr th {\n",
       "        vertical-align: top;\n",
       "    }\n",
       "\n",
       "    .dataframe thead th {\n",
       "        text-align: right;\n",
       "    }\n",
       "</style>\n",
       "<table border=\"1\" class=\"dataframe\">\n",
       "  <thead>\n",
       "    <tr style=\"text-align: right;\">\n",
       "      <th></th>\n",
       "      <th>City</th>\n",
       "    </tr>\n",
       "  </thead>\n",
       "  <tbody>\n",
       "    <tr>\n",
       "      <th>0</th>\n",
       "      <td>Moscow</td>\n",
       "    </tr>\n",
       "    <tr>\n",
       "      <th>1</th>\n",
       "      <td>Tambov</td>\n",
       "    </tr>\n",
       "    <tr>\n",
       "      <th>2</th>\n",
       "      <td>Voronezh</td>\n",
       "    </tr>\n",
       "  </tbody>\n",
       "</table>\n",
       "</div>"
      ],
      "text/plain": [
       "       City\n",
       "0    Moscow\n",
       "1    Tambov\n",
       "2  Voronezh"
      ]
     },
     "execution_count": 6,
     "metadata": {},
     "output_type": "execute_result"
    }
   ],
   "source": [
    "sheet_name = \"Cities\"\n",
    "df_cities = pd.read_excel(input_file, sheet_name=sheet_name)\n",
    "df_cities.head()"
   ]
  },
  {
   "cell_type": "code",
   "execution_count": 7,
   "metadata": {
    "scrolled": true
   },
   "outputs": [
    {
     "data": {
      "text/html": [
       "<div>\n",
       "<style scoped>\n",
       "    .dataframe tbody tr th:only-of-type {\n",
       "        vertical-align: middle;\n",
       "    }\n",
       "\n",
       "    .dataframe tbody tr th {\n",
       "        vertical-align: top;\n",
       "    }\n",
       "\n",
       "    .dataframe thead th {\n",
       "        text-align: right;\n",
       "    }\n",
       "</style>\n",
       "<table border=\"1\" class=\"dataframe\">\n",
       "  <thead>\n",
       "    <tr style=\"text-align: right;\">\n",
       "      <th></th>\n",
       "      <th>CarName</th>\n",
       "      <th>Capacity</th>\n",
       "      <th>Price_per_km</th>\n",
       "    </tr>\n",
       "  </thead>\n",
       "  <tbody>\n",
       "    <tr>\n",
       "      <th>0</th>\n",
       "      <td>Nissan</td>\n",
       "      <td>60</td>\n",
       "      <td>9</td>\n",
       "    </tr>\n",
       "  </tbody>\n",
       "</table>\n",
       "</div>"
      ],
      "text/plain": [
       "  CarName  Capacity  Price_per_km\n",
       "0  Nissan        60             9"
      ]
     },
     "execution_count": 7,
     "metadata": {},
     "output_type": "execute_result"
    }
   ],
   "source": [
    "sheet_name = \"Vehicles\"\n",
    "df_cars= pd.read_excel(input_file, sheet_name=sheet_name, nrows=None)\n",
    "df_cars.head()"
   ]
  },
  {
   "cell_type": "code",
   "execution_count": 8,
   "metadata": {},
   "outputs": [
    {
     "data": {
      "text/plain": [
       "60"
      ]
     },
     "execution_count": 8,
     "metadata": {},
     "output_type": "execute_result"
    }
   ],
   "source": [
    "TOT_CAPACITY = df_cars.Capacity.sum()\n",
    "TOT_CAPACITY"
   ]
  },
  {
   "cell_type": "markdown",
   "metadata": {},
   "source": [
    "## Structures\n",
    "\n",
    "Moscow - origin depot and destination depot"
   ]
  },
  {
   "cell_type": "code",
   "execution_count": 9,
   "metadata": {},
   "outputs": [],
   "source": [
    "def convert_dataframe_to_dict(dataframe, key_columns, value_column):\n",
    "    return (\n",
    "        dataframe.loc[:, key_columns + [value_column]]\n",
    "        .set_index(key_columns)\n",
    "        .to_dict()[value_column]\n",
    "    )"
   ]
  },
  {
   "cell_type": "code",
   "execution_count": 10,
   "metadata": {},
   "outputs": [],
   "source": [
    "def convert_dataframe_to_set(dataframe, key_columns, value_column):\n",
    "    return set(\n",
    "        list(convert_dataframe_to_dict(dataframe, key_columns, value_column).keys())\n",
    "    )"
   ]
  },
  {
   "cell_type": "code",
   "execution_count": 11,
   "metadata": {},
   "outputs": [
    {
     "data": {
      "text/plain": [
       "('Moscow', {'Moscow', 'Tambov', 'Voronezh'})"
      ]
     },
     "execution_count": 11,
     "metadata": {},
     "output_type": "execute_result"
    }
   ],
   "source": [
    "depot = df_cities.City[0]\n",
    "\n",
    "cities = set(df_cities.City.values).difference(set([depot]))\n",
    "\n",
    "#origin_depot = default_depot + '_start'\n",
    "#destination_depot = default_depot + '_end'\n",
    "\n",
    "all_cities = cities.union([depot])\n",
    "depot, all_cities"
   ]
  },
  {
   "cell_type": "code",
   "execution_count": 12,
   "metadata": {},
   "outputs": [
    {
     "data": {
      "text/plain": [
       "{'Nissan': 60}"
      ]
     },
     "execution_count": 12,
     "metadata": {},
     "output_type": "execute_result"
    }
   ],
   "source": [
    "capacity = convert_dataframe_to_dict(df_cars, [\"CarName\"], \"Capacity\")\n",
    "capacity"
   ]
  },
  {
   "cell_type": "code",
   "execution_count": 13,
   "metadata": {},
   "outputs": [
    {
     "data": {
      "text/plain": [
       "{'Nissan': 9}"
      ]
     },
     "execution_count": 13,
     "metadata": {},
     "output_type": "execute_result"
    }
   ],
   "source": [
    "car_price = convert_dataframe_to_dict(df_cars, [\"CarName\"], \"Price_per_km\")\n",
    "car_price"
   ]
  },
  {
   "cell_type": "code",
   "execution_count": 14,
   "metadata": {},
   "outputs": [],
   "source": [
    "routes = convert_dataframe_to_set(df_routes, [\"From\", \"To\"], \"Distance\")"
   ]
  },
  {
   "cell_type": "code",
   "execution_count": 15,
   "metadata": {},
   "outputs": [],
   "source": [
    "route_time = convert_dataframe_to_dict(df_routes, [\"From\", \"To\"], \"Time\")\n",
    "route_distance = convert_dataframe_to_dict(df_routes, [\"From\", \"To\"], \"Distance\")"
   ]
  },
  {
   "cell_type": "code",
   "execution_count": 16,
   "metadata": {},
   "outputs": [],
   "source": [
    "#route_time, route_distance, routes"
   ]
  },
  {
   "cell_type": "code",
   "execution_count": 17,
   "metadata": {},
   "outputs": [
    {
     "data": {
      "text/html": [
       "<div>\n",
       "<style scoped>\n",
       "    .dataframe tbody tr th:only-of-type {\n",
       "        vertical-align: middle;\n",
       "    }\n",
       "\n",
       "    .dataframe tbody tr th {\n",
       "        vertical-align: top;\n",
       "    }\n",
       "\n",
       "    .dataframe thead th {\n",
       "        text-align: right;\n",
       "    }\n",
       "</style>\n",
       "<table border=\"1\" class=\"dataframe\">\n",
       "  <thead>\n",
       "    <tr style=\"text-align: right;\">\n",
       "      <th></th>\n",
       "      <th>Demand</th>\n",
       "      <th>Price_per_unit</th>\n",
       "      <th>Deliver_from</th>\n",
       "      <th>Deliver_to</th>\n",
       "    </tr>\n",
       "    <tr>\n",
       "      <th>City</th>\n",
       "      <th></th>\n",
       "      <th></th>\n",
       "      <th></th>\n",
       "      <th></th>\n",
       "    </tr>\n",
       "  </thead>\n",
       "  <tbody>\n",
       "    <tr>\n",
       "      <th>Tambov</th>\n",
       "      <td>200</td>\n",
       "      <td>800</td>\n",
       "      <td>3</td>\n",
       "      <td>15</td>\n",
       "    </tr>\n",
       "    <tr>\n",
       "      <th>Voronezh</th>\n",
       "      <td>100</td>\n",
       "      <td>1100</td>\n",
       "      <td>17</td>\n",
       "      <td>24</td>\n",
       "    </tr>\n",
       "  </tbody>\n",
       "</table>\n",
       "</div>"
      ],
      "text/plain": [
       "          Demand  Price_per_unit  Deliver_from  Deliver_to\n",
       "City                                                      \n",
       "Tambov       200             800             3          15\n",
       "Voronezh     100            1100            17          24"
      ]
     },
     "execution_count": 17,
     "metadata": {},
     "output_type": "execute_result"
    }
   ],
   "source": [
    "orders = df_orders.set_index(\"City\")\n",
    "orders"
   ]
  },
  {
   "cell_type": "code",
   "execution_count": 18,
   "metadata": {},
   "outputs": [
    {
     "data": {
      "text/plain": [
       "300"
      ]
     },
     "execution_count": 18,
     "metadata": {},
     "output_type": "execute_result"
    }
   ],
   "source": [
    "TOT_DEMAND = df_orders.Demand.sum()\n",
    "TOT_DEMAND"
   ]
  },
  {
   "cell_type": "code",
   "execution_count": 19,
   "metadata": {},
   "outputs": [
    {
     "data": {
      "text/plain": [
       "{'Nissan'}"
      ]
     },
     "execution_count": 19,
     "metadata": {},
     "output_type": "execute_result"
    }
   ],
   "source": [
    "cars = convert_dataframe_to_set(df_cars, [\"CarName\"], \"Price_per_km\")\n",
    "cars"
   ]
  },
  {
   "cell_type": "code",
   "execution_count": 20,
   "metadata": {},
   "outputs": [
    {
     "data": {
      "text/plain": [
       "([1, 2, 3, 4, 5, 6], 6)"
      ]
     },
     "execution_count": 20,
     "metadata": {},
     "output_type": "execute_result"
    }
   ],
   "source": [
    "# trips - number of trips performed by one vehicle\n",
    "#trips = list(range(1, len(cities)))\n",
    "trips = list(range(1, TOT_DEMAND//TOT_CAPACITY + 2))\n",
    "fin_trip = trips[-1]\n",
    "trips, fin_trip"
   ]
  },
  {
   "cell_type": "markdown",
   "metadata": {},
   "source": [
    "## Task"
   ]
  },
  {
   "cell_type": "code",
   "execution_count": 21,
   "metadata": {},
   "outputs": [],
   "source": [
    "pbm = plp.LpProblem(\"VRPTW\", plp.LpMaximize)"
   ]
  },
  {
   "cell_type": "code",
   "execution_count": 22,
   "metadata": {},
   "outputs": [],
   "source": [
    "x = plp.LpVariable.dicts(\"x\", [(k, n, r) for k in cars for n in trips for r in routes], cat=plp.LpBinary)"
   ]
  },
  {
   "cell_type": "code",
   "execution_count": 23,
   "metadata": {},
   "outputs": [],
   "source": [
    "y = plp.LpVariable.dicts(\"y\", [(k, n, i) for k in cars for n in trips for i in all_cities], cat=plp.LpBinary)"
   ]
  },
  {
   "cell_type": "code",
   "execution_count": 24,
   "metadata": {},
   "outputs": [],
   "source": [
    "d = plp.LpVariable.dicts(\"d\", [(k, n, i) for k in cars for n in trips for i in cities], cat=plp.LpContinuous, lowBound=0)"
   ]
  },
  {
   "cell_type": "code",
   "execution_count": 25,
   "metadata": {},
   "outputs": [],
   "source": [
    "#lack\n",
    "lack = plp.LpVariable.dicts(\"lack\", [i for i in cities], cat=plp.LpContinuous, lowBound=0)"
   ]
  },
  {
   "cell_type": "code",
   "execution_count": 26,
   "metadata": {},
   "outputs": [],
   "source": [
    "t = plp.LpVariable.dicts(\"t\", [(k, n, i) for k in cars for n in trips for i in all_cities], cat=plp.LpContinuous, lowBound=0)"
   ]
  },
  {
   "cell_type": "code",
   "execution_count": 27,
   "metadata": {},
   "outputs": [],
   "source": [
    "# end time of the trip n\n",
    "te = plp.LpVariable.dicts(\"te\", [(k, n) for k in cars for n in trips], cat=plp.LpContinuous, lowBound=0)"
   ]
  },
  {
   "cell_type": "code",
   "execution_count": 28,
   "metadata": {},
   "outputs": [],
   "source": [
    "# maximize revenue\n",
    "#revenue = sales_profit - devlivery_cost + expensive_undelivered\n",
    "pbm += plp.lpSum(orders.loc[i].Price_per_unit * d[k, n, i] for k in cars for n in trips for i in cities) \\\n",
    "    - plp.lpSum(route_distance[r] * car_price[k] * x[k, n, r] for k in cars for n in trips for r in routes) \\\n",
    "    - plp.lpSum(te[k, n] for k in cars for n in trips) \\\n",
    "    - plp.lpSum(100 * orders.loc[i].Price_per_unit * lack[i] for i in cities)"
   ]
  },
  {
   "cell_type": "code",
   "execution_count": 29,
   "metadata": {},
   "outputs": [],
   "source": [
    "# time constraints\n",
    "for k in cars:\n",
    "    pbm += t[k, 1, depot] == 0\n",
    "    for n in trips:\n",
    "        if n != fin_trip:\n",
    "            pbm += te[k, n] <= t[k, n+1, depot]\n",
    "            pbm += t[k, n, depot] <= t[k, n+1, depot]\n",
    "        pbm += te[k, n] <= maxPeriod\n",
    "        \n",
    "        for i, j in routes:\n",
    "            if j == depot:\n",
    "                continue\n",
    "            pbm += t[k, n, i] + route_time[i, j] <= t[k, n, j] + maxPeriod * (1 - x[k, n, (i, j)])\n",
    "        for i in cities:\n",
    "            pbm += t[k, n, i] + route_time[i, depot] <= te[k, n] + maxPeriod * (1 - x[k, n, (i, depot)])\n",
    "            pbm += t[k, n, i] >= orders.loc[i].Deliver_from * y[k, n, i]\n",
    "            pbm += t[k, n, i] <= orders.loc[i].Deliver_to * y[k, n, i]"
   ]
  },
  {
   "cell_type": "code",
   "execution_count": 30,
   "metadata": {},
   "outputs": [],
   "source": [
    "for i in cities:\n",
    "    # every city visited at least once by one vehicle\n",
    "    pbm += plp.lpSum(y[k, n, i] for k in cars for n in trips) >= 1\n",
    "\n",
    "    # demand\n",
    "    pbm += plp.lpSum(d[k, n, i] for k in cars for n in trips) == orders.loc[i].Demand - lack[i]\n",
    "    \n",
    "    \n",
    "for k in cars:\n",
    "    for i in all_cities:\n",
    "        for n in trips:\n",
    "            pbm += plp.lpSum(x[k, n, (i, j)] for j in all_cities if i != j) == y[k, n, i]\n",
    "            pbm += plp.lpSum(x[k, n, (j, i)] for j in all_cities if i != j) == y[k, n, i]\n",
    "    \n",
    "    for n in trips:\n",
    "        pbm += plp.lpSum(d[k, n, i] for i in cities) <= capacity[k] \n",
    "        for i in cities:\n",
    "            pbm += d[k, n, i] <= capacity[k] * y[k, n, i] "
   ]
  },
  {
   "cell_type": "code",
   "execution_count": 31,
   "metadata": {},
   "outputs": [
    {
     "name": "stdout",
     "output_type": "stream",
     "text": [
      "Wall time: 527 ms\n"
     ]
    },
    {
     "data": {
      "text/plain": [
       "1"
      ]
     },
     "execution_count": 31,
     "metadata": {},
     "output_type": "execute_result"
    }
   ],
   "source": [
    "%%time\n",
    "pbm.solve(plp.PULP_CBC_CMD(msg=True))"
   ]
  },
  {
   "cell_type": "code",
   "execution_count": 32,
   "metadata": {
    "scrolled": false
   },
   "outputs": [
    {
     "data": {
      "text/plain": [
       "('Optimal', -10660540.0)"
      ]
     },
     "execution_count": 32,
     "metadata": {},
     "output_type": "execute_result"
    }
   ],
   "source": [
    "plp.LpStatus[pbm.status], plp.value(pbm.objective)"
   ]
  },
  {
   "cell_type": "code",
   "execution_count": 33,
   "metadata": {},
   "outputs": [
    {
     "data": {
      "text/plain": [
       "139500.0"
      ]
     },
     "execution_count": 33,
     "metadata": {},
     "output_type": "execute_result"
    }
   ],
   "source": [
    "revenue = sum(orders.loc[i].Price_per_unit * d[k, n, i].value() for k in cars for n in trips for i in cities) \\\n",
    "    - sum(route_distance[r] * car_price[k] * x[k, n, r].value() for k in cars for n in trips for r in routes)\n",
    "revenue"
   ]
  },
  {
   "cell_type": "code",
   "execution_count": 39,
   "metadata": {},
   "outputs": [
    {
     "data": {
      "text/plain": [
       "VRPTW:\n",
       "MAXIMIZE\n",
       "800*d_('Nissan',_1,_'Tambov') + 1100*d_('Nissan',_1,_'Voronezh') + 800*d_('Nissan',_2,_'Tambov') + 1100*d_('Nissan',_2,_'Voronezh') + 800*d_('Nissan',_3,_'Tambov') + 1100*d_('Nissan',_3,_'Voronezh') + 800*d_('Nissan',_4,_'Tambov') + 1100*d_('Nissan',_4,_'Voronezh') + 800*d_('Nissan',_5,_'Tambov') + 1100*d_('Nissan',_5,_'Voronezh') + 800*d_('Nissan',_6,_'Tambov') + 1100*d_('Nissan',_6,_'Voronezh') + -80000*lack_Tambov + -110000*lack_Voronezh + -1*te_('Nissan',_1) + -1*te_('Nissan',_2) + -1*te_('Nissan',_3) + -1*te_('Nissan',_4) + -1*te_('Nissan',_5) + -1*te_('Nissan',_6) + -3600*x_('Nissan',_1,_('Moscow',_'Tambov')) + -4050*x_('Nissan',_1,_('Moscow',_'Voronezh')) + -3600*x_('Nissan',_1,_('Tambov',_'Moscow')) + -1710*x_('Nissan',_1,_('Tambov',_'Voronezh')) + -4050*x_('Nissan',_1,_('Voronezh',_'Moscow')) + -1710*x_('Nissan',_1,_('Voronezh',_'Tambov')) + -3600*x_('Nissan',_2,_('Moscow',_'Tambov')) + -4050*x_('Nissan',_2,_('Moscow',_'Voronezh')) + -3600*x_('Nissan',_2,_('Tambov',_'Moscow')) + -1710*x_('Nissan',_2,_('Tambov',_'Voronezh')) + -4050*x_('Nissan',_2,_('Voronezh',_'Moscow')) + -1710*x_('Nissan',_2,_('Voronezh',_'Tambov')) + -3600*x_('Nissan',_3,_('Moscow',_'Tambov')) + -4050*x_('Nissan',_3,_('Moscow',_'Voronezh')) + -3600*x_('Nissan',_3,_('Tambov',_'Moscow')) + -1710*x_('Nissan',_3,_('Tambov',_'Voronezh')) + -4050*x_('Nissan',_3,_('Voronezh',_'Moscow')) + -1710*x_('Nissan',_3,_('Voronezh',_'Tambov')) + -3600*x_('Nissan',_4,_('Moscow',_'Tambov')) + -4050*x_('Nissan',_4,_('Moscow',_'Voronezh')) + -3600*x_('Nissan',_4,_('Tambov',_'Moscow')) + -1710*x_('Nissan',_4,_('Tambov',_'Voronezh')) + -4050*x_('Nissan',_4,_('Voronezh',_'Moscow')) + -1710*x_('Nissan',_4,_('Voronezh',_'Tambov')) + -3600*x_('Nissan',_5,_('Moscow',_'Tambov')) + -4050*x_('Nissan',_5,_('Moscow',_'Voronezh')) + -3600*x_('Nissan',_5,_('Tambov',_'Moscow')) + -1710*x_('Nissan',_5,_('Tambov',_'Voronezh')) + -4050*x_('Nissan',_5,_('Voronezh',_'Moscow')) + -1710*x_('Nissan',_5,_('Voronezh',_'Tambov')) + -3600*x_('Nissan',_6,_('Moscow',_'Tambov')) + -4050*x_('Nissan',_6,_('Moscow',_'Voronezh')) + -3600*x_('Nissan',_6,_('Tambov',_'Moscow')) + -1710*x_('Nissan',_6,_('Tambov',_'Voronezh')) + -4050*x_('Nissan',_6,_('Voronezh',_'Moscow')) + -1710*x_('Nissan',_6,_('Voronezh',_'Tambov')) + 0\n",
       "SUBJECT TO\n",
       "_C1: t_('Nissan',_1,_'Moscow') = 0\n",
       "\n",
       "_C2: - t_('Nissan',_2,_'Moscow') + te_('Nissan',_1) <= 0\n",
       "\n",
       "_C3: t_('Nissan',_1,_'Moscow') - t_('Nissan',_2,_'Moscow') <= 0\n",
       "\n",
       "_C4: te_('Nissan',_1) <= 25\n",
       "\n",
       "_C5: - t_('Nissan',_1,_'Tambov') + t_('Nissan',_1,_'Voronezh')\n",
       " + 25 x_('Nissan',_1,_('Voronezh',_'Tambov')) <= 22.8888888889\n",
       "\n",
       "_C6: t_('Nissan',_1,_'Tambov') - t_('Nissan',_1,_'Voronezh')\n",
       " + 25 x_('Nissan',_1,_('Tambov',_'Voronezh')) <= 22.8888888889\n",
       "\n",
       "_C7: t_('Nissan',_1,_'Moscow') - t_('Nissan',_1,_'Tambov')\n",
       " + 25 x_('Nissan',_1,_('Moscow',_'Tambov')) <= 22\n",
       "\n",
       "_C8: t_('Nissan',_1,_'Moscow') - t_('Nissan',_1,_'Voronezh')\n",
       " + 25 x_('Nissan',_1,_('Moscow',_'Voronezh')) <= 20\n",
       "\n",
       "_C9: t_('Nissan',_1,_'Tambov') - te_('Nissan',_1)\n",
       " + 25 x_('Nissan',_1,_('Tambov',_'Moscow')) <= 22\n",
       "\n",
       "_C10: t_('Nissan',_1,_'Tambov') - 3 y_('Nissan',_1,_'Tambov') >= 0\n",
       "\n",
       "_C11: t_('Nissan',_1,_'Tambov') - 15 y_('Nissan',_1,_'Tambov') <= 0\n",
       "\n",
       "_C12: t_('Nissan',_1,_'Voronezh') - te_('Nissan',_1)\n",
       " + 25 x_('Nissan',_1,_('Voronezh',_'Moscow')) <= 20\n",
       "\n",
       "_C13: t_('Nissan',_1,_'Voronezh') - 17 y_('Nissan',_1,_'Voronezh') >= 0\n",
       "\n",
       "_C14: t_('Nissan',_1,_'Voronezh') - 24 y_('Nissan',_1,_'Voronezh') <= 0\n",
       "\n",
       "_C15: - t_('Nissan',_3,_'Moscow') + te_('Nissan',_2) <= 0\n",
       "\n",
       "_C16: t_('Nissan',_2,_'Moscow') - t_('Nissan',_3,_'Moscow') <= 0\n",
       "\n",
       "_C17: te_('Nissan',_2) <= 25\n",
       "\n",
       "_C18: - t_('Nissan',_2,_'Tambov') + t_('Nissan',_2,_'Voronezh')\n",
       " + 25 x_('Nissan',_2,_('Voronezh',_'Tambov')) <= 22.8888888889\n",
       "\n",
       "_C19: t_('Nissan',_2,_'Tambov') - t_('Nissan',_2,_'Voronezh')\n",
       " + 25 x_('Nissan',_2,_('Tambov',_'Voronezh')) <= 22.8888888889\n",
       "\n",
       "_C20: t_('Nissan',_2,_'Moscow') - t_('Nissan',_2,_'Tambov')\n",
       " + 25 x_('Nissan',_2,_('Moscow',_'Tambov')) <= 22\n",
       "\n",
       "_C21: t_('Nissan',_2,_'Moscow') - t_('Nissan',_2,_'Voronezh')\n",
       " + 25 x_('Nissan',_2,_('Moscow',_'Voronezh')) <= 20\n",
       "\n",
       "_C22: t_('Nissan',_2,_'Tambov') - te_('Nissan',_2)\n",
       " + 25 x_('Nissan',_2,_('Tambov',_'Moscow')) <= 22\n",
       "\n",
       "_C23: t_('Nissan',_2,_'Tambov') - 3 y_('Nissan',_2,_'Tambov') >= 0\n",
       "\n",
       "_C24: t_('Nissan',_2,_'Tambov') - 15 y_('Nissan',_2,_'Tambov') <= 0\n",
       "\n",
       "_C25: t_('Nissan',_2,_'Voronezh') - te_('Nissan',_2)\n",
       " + 25 x_('Nissan',_2,_('Voronezh',_'Moscow')) <= 20\n",
       "\n",
       "_C26: t_('Nissan',_2,_'Voronezh') - 17 y_('Nissan',_2,_'Voronezh') >= 0\n",
       "\n",
       "_C27: t_('Nissan',_2,_'Voronezh') - 24 y_('Nissan',_2,_'Voronezh') <= 0\n",
       "\n",
       "_C28: - t_('Nissan',_4,_'Moscow') + te_('Nissan',_3) <= 0\n",
       "\n",
       "_C29: t_('Nissan',_3,_'Moscow') - t_('Nissan',_4,_'Moscow') <= 0\n",
       "\n",
       "_C30: te_('Nissan',_3) <= 25\n",
       "\n",
       "_C31: - t_('Nissan',_3,_'Tambov') + t_('Nissan',_3,_'Voronezh')\n",
       " + 25 x_('Nissan',_3,_('Voronezh',_'Tambov')) <= 22.8888888889\n",
       "\n",
       "_C32: t_('Nissan',_3,_'Tambov') - t_('Nissan',_3,_'Voronezh')\n",
       " + 25 x_('Nissan',_3,_('Tambov',_'Voronezh')) <= 22.8888888889\n",
       "\n",
       "_C33: t_('Nissan',_3,_'Moscow') - t_('Nissan',_3,_'Tambov')\n",
       " + 25 x_('Nissan',_3,_('Moscow',_'Tambov')) <= 22\n",
       "\n",
       "_C34: t_('Nissan',_3,_'Moscow') - t_('Nissan',_3,_'Voronezh')\n",
       " + 25 x_('Nissan',_3,_('Moscow',_'Voronezh')) <= 20\n",
       "\n",
       "_C35: t_('Nissan',_3,_'Tambov') - te_('Nissan',_3)\n",
       " + 25 x_('Nissan',_3,_('Tambov',_'Moscow')) <= 22\n",
       "\n",
       "_C36: t_('Nissan',_3,_'Tambov') - 3 y_('Nissan',_3,_'Tambov') >= 0\n",
       "\n",
       "_C37: t_('Nissan',_3,_'Tambov') - 15 y_('Nissan',_3,_'Tambov') <= 0\n",
       "\n",
       "_C38: t_('Nissan',_3,_'Voronezh') - te_('Nissan',_3)\n",
       " + 25 x_('Nissan',_3,_('Voronezh',_'Moscow')) <= 20\n",
       "\n",
       "_C39: t_('Nissan',_3,_'Voronezh') - 17 y_('Nissan',_3,_'Voronezh') >= 0\n",
       "\n",
       "_C40: t_('Nissan',_3,_'Voronezh') - 24 y_('Nissan',_3,_'Voronezh') <= 0\n",
       "\n",
       "_C41: - t_('Nissan',_5,_'Moscow') + te_('Nissan',_4) <= 0\n",
       "\n",
       "_C42: t_('Nissan',_4,_'Moscow') - t_('Nissan',_5,_'Moscow') <= 0\n",
       "\n",
       "_C43: te_('Nissan',_4) <= 25\n",
       "\n",
       "_C44: - t_('Nissan',_4,_'Tambov') + t_('Nissan',_4,_'Voronezh')\n",
       " + 25 x_('Nissan',_4,_('Voronezh',_'Tambov')) <= 22.8888888889\n",
       "\n",
       "_C45: t_('Nissan',_4,_'Tambov') - t_('Nissan',_4,_'Voronezh')\n",
       " + 25 x_('Nissan',_4,_('Tambov',_'Voronezh')) <= 22.8888888889\n",
       "\n",
       "_C46: t_('Nissan',_4,_'Moscow') - t_('Nissan',_4,_'Tambov')\n",
       " + 25 x_('Nissan',_4,_('Moscow',_'Tambov')) <= 22\n",
       "\n",
       "_C47: t_('Nissan',_4,_'Moscow') - t_('Nissan',_4,_'Voronezh')\n",
       " + 25 x_('Nissan',_4,_('Moscow',_'Voronezh')) <= 20\n",
       "\n",
       "_C48: t_('Nissan',_4,_'Tambov') - te_('Nissan',_4)\n",
       " + 25 x_('Nissan',_4,_('Tambov',_'Moscow')) <= 22\n",
       "\n",
       "_C49: t_('Nissan',_4,_'Tambov') - 3 y_('Nissan',_4,_'Tambov') >= 0\n",
       "\n",
       "_C50: t_('Nissan',_4,_'Tambov') - 15 y_('Nissan',_4,_'Tambov') <= 0\n",
       "\n",
       "_C51: t_('Nissan',_4,_'Voronezh') - te_('Nissan',_4)\n",
       " + 25 x_('Nissan',_4,_('Voronezh',_'Moscow')) <= 20\n",
       "\n",
       "_C52: t_('Nissan',_4,_'Voronezh') - 17 y_('Nissan',_4,_'Voronezh') >= 0\n",
       "\n",
       "_C53: t_('Nissan',_4,_'Voronezh') - 24 y_('Nissan',_4,_'Voronezh') <= 0\n",
       "\n",
       "_C54: - t_('Nissan',_6,_'Moscow') + te_('Nissan',_5) <= 0\n",
       "\n",
       "_C55: t_('Nissan',_5,_'Moscow') - t_('Nissan',_6,_'Moscow') <= 0\n",
       "\n",
       "_C56: te_('Nissan',_5) <= 25\n",
       "\n",
       "_C57: - t_('Nissan',_5,_'Tambov') + t_('Nissan',_5,_'Voronezh')\n",
       " + 25 x_('Nissan',_5,_('Voronezh',_'Tambov')) <= 22.8888888889\n",
       "\n",
       "_C58: t_('Nissan',_5,_'Tambov') - t_('Nissan',_5,_'Voronezh')\n",
       " + 25 x_('Nissan',_5,_('Tambov',_'Voronezh')) <= 22.8888888889\n",
       "\n",
       "_C59: t_('Nissan',_5,_'Moscow') - t_('Nissan',_5,_'Tambov')\n",
       " + 25 x_('Nissan',_5,_('Moscow',_'Tambov')) <= 22\n",
       "\n",
       "_C60: t_('Nissan',_5,_'Moscow') - t_('Nissan',_5,_'Voronezh')\n",
       " + 25 x_('Nissan',_5,_('Moscow',_'Voronezh')) <= 20\n",
       "\n",
       "_C61: t_('Nissan',_5,_'Tambov') - te_('Nissan',_5)\n",
       " + 25 x_('Nissan',_5,_('Tambov',_'Moscow')) <= 22\n",
       "\n",
       "_C62: t_('Nissan',_5,_'Tambov') - 3 y_('Nissan',_5,_'Tambov') >= 0\n",
       "\n",
       "_C63: t_('Nissan',_5,_'Tambov') - 15 y_('Nissan',_5,_'Tambov') <= 0\n",
       "\n",
       "_C64: t_('Nissan',_5,_'Voronezh') - te_('Nissan',_5)\n",
       " + 25 x_('Nissan',_5,_('Voronezh',_'Moscow')) <= 20\n",
       "\n",
       "_C65: t_('Nissan',_5,_'Voronezh') - 17 y_('Nissan',_5,_'Voronezh') >= 0\n",
       "\n",
       "_C66: t_('Nissan',_5,_'Voronezh') - 24 y_('Nissan',_5,_'Voronezh') <= 0\n",
       "\n",
       "_C67: te_('Nissan',_6) <= 25\n",
       "\n",
       "_C68: - t_('Nissan',_6,_'Tambov') + t_('Nissan',_6,_'Voronezh')\n",
       " + 25 x_('Nissan',_6,_('Voronezh',_'Tambov')) <= 22.8888888889\n",
       "\n",
       "_C69: t_('Nissan',_6,_'Tambov') - t_('Nissan',_6,_'Voronezh')\n",
       " + 25 x_('Nissan',_6,_('Tambov',_'Voronezh')) <= 22.8888888889\n",
       "\n",
       "_C70: t_('Nissan',_6,_'Moscow') - t_('Nissan',_6,_'Tambov')\n",
       " + 25 x_('Nissan',_6,_('Moscow',_'Tambov')) <= 22\n",
       "\n",
       "_C71: t_('Nissan',_6,_'Moscow') - t_('Nissan',_6,_'Voronezh')\n",
       " + 25 x_('Nissan',_6,_('Moscow',_'Voronezh')) <= 20\n",
       "\n",
       "_C72: t_('Nissan',_6,_'Tambov') - te_('Nissan',_6)\n",
       " + 25 x_('Nissan',_6,_('Tambov',_'Moscow')) <= 22\n",
       "\n",
       "_C73: t_('Nissan',_6,_'Tambov') - 3 y_('Nissan',_6,_'Tambov') >= 0\n",
       "\n",
       "_C74: t_('Nissan',_6,_'Tambov') - 15 y_('Nissan',_6,_'Tambov') <= 0\n",
       "\n",
       "_C75: t_('Nissan',_6,_'Voronezh') - te_('Nissan',_6)\n",
       " + 25 x_('Nissan',_6,_('Voronezh',_'Moscow')) <= 20\n",
       "\n",
       "_C76: t_('Nissan',_6,_'Voronezh') - 17 y_('Nissan',_6,_'Voronezh') >= 0\n",
       "\n",
       "_C77: t_('Nissan',_6,_'Voronezh') - 24 y_('Nissan',_6,_'Voronezh') <= 0\n",
       "\n",
       "_C78: y_('Nissan',_1,_'Tambov') + y_('Nissan',_2,_'Tambov')\n",
       " + y_('Nissan',_3,_'Tambov') + y_('Nissan',_4,_'Tambov')\n",
       " + y_('Nissan',_5,_'Tambov') + y_('Nissan',_6,_'Tambov') >= 1\n",
       "\n",
       "_C79: d_('Nissan',_1,_'Tambov') + d_('Nissan',_2,_'Tambov')\n",
       " + d_('Nissan',_3,_'Tambov') + d_('Nissan',_4,_'Tambov')\n",
       " + d_('Nissan',_5,_'Tambov') + d_('Nissan',_6,_'Tambov') + lack_Tambov = 200\n",
       "\n",
       "_C80: y_('Nissan',_1,_'Voronezh') + y_('Nissan',_2,_'Voronezh')\n",
       " + y_('Nissan',_3,_'Voronezh') + y_('Nissan',_4,_'Voronezh')\n",
       " + y_('Nissan',_5,_'Voronezh') + y_('Nissan',_6,_'Voronezh') >= 1\n",
       "\n",
       "_C81: d_('Nissan',_1,_'Voronezh') + d_('Nissan',_2,_'Voronezh')\n",
       " + d_('Nissan',_3,_'Voronezh') + d_('Nissan',_4,_'Voronezh')\n",
       " + d_('Nissan',_5,_'Voronezh') + d_('Nissan',_6,_'Voronezh') + lack_Voronezh\n",
       " = 100\n",
       "\n",
       "_C82: x_('Nissan',_1,_('Tambov',_'Moscow'))\n",
       " + x_('Nissan',_1,_('Tambov',_'Voronezh')) - y_('Nissan',_1,_'Tambov') = 0\n",
       "\n",
       "_C83: x_('Nissan',_1,_('Moscow',_'Tambov'))\n",
       " + x_('Nissan',_1,_('Voronezh',_'Tambov')) - y_('Nissan',_1,_'Tambov') = 0\n",
       "\n",
       "_C84: x_('Nissan',_2,_('Tambov',_'Moscow'))\n",
       " + x_('Nissan',_2,_('Tambov',_'Voronezh')) - y_('Nissan',_2,_'Tambov') = 0\n",
       "\n",
       "_C85: x_('Nissan',_2,_('Moscow',_'Tambov'))\n",
       " + x_('Nissan',_2,_('Voronezh',_'Tambov')) - y_('Nissan',_2,_'Tambov') = 0\n",
       "\n",
       "_C86: x_('Nissan',_3,_('Tambov',_'Moscow'))\n",
       " + x_('Nissan',_3,_('Tambov',_'Voronezh')) - y_('Nissan',_3,_'Tambov') = 0\n",
       "\n",
       "_C87: x_('Nissan',_3,_('Moscow',_'Tambov'))\n",
       " + x_('Nissan',_3,_('Voronezh',_'Tambov')) - y_('Nissan',_3,_'Tambov') = 0\n",
       "\n",
       "_C88: x_('Nissan',_4,_('Tambov',_'Moscow'))\n",
       " + x_('Nissan',_4,_('Tambov',_'Voronezh')) - y_('Nissan',_4,_'Tambov') = 0\n",
       "\n",
       "_C89: x_('Nissan',_4,_('Moscow',_'Tambov'))\n",
       " + x_('Nissan',_4,_('Voronezh',_'Tambov')) - y_('Nissan',_4,_'Tambov') = 0\n",
       "\n",
       "_C90: x_('Nissan',_5,_('Tambov',_'Moscow'))\n",
       " + x_('Nissan',_5,_('Tambov',_'Voronezh')) - y_('Nissan',_5,_'Tambov') = 0\n",
       "\n",
       "_C91: x_('Nissan',_5,_('Moscow',_'Tambov'))\n",
       " + x_('Nissan',_5,_('Voronezh',_'Tambov')) - y_('Nissan',_5,_'Tambov') = 0\n",
       "\n",
       "_C92: x_('Nissan',_6,_('Tambov',_'Moscow'))\n",
       " + x_('Nissan',_6,_('Tambov',_'Voronezh')) - y_('Nissan',_6,_'Tambov') = 0\n",
       "\n",
       "_C93: x_('Nissan',_6,_('Moscow',_'Tambov'))\n",
       " + x_('Nissan',_6,_('Voronezh',_'Tambov')) - y_('Nissan',_6,_'Tambov') = 0\n",
       "\n",
       "_C94: x_('Nissan',_1,_('Moscow',_'Tambov'))\n",
       " + x_('Nissan',_1,_('Moscow',_'Voronezh')) - y_('Nissan',_1,_'Moscow') = 0\n",
       "\n",
       "_C95: x_('Nissan',_1,_('Tambov',_'Moscow'))\n",
       " + x_('Nissan',_1,_('Voronezh',_'Moscow')) - y_('Nissan',_1,_'Moscow') = 0\n",
       "\n",
       "_C96: x_('Nissan',_2,_('Moscow',_'Tambov'))\n",
       " + x_('Nissan',_2,_('Moscow',_'Voronezh')) - y_('Nissan',_2,_'Moscow') = 0\n",
       "\n",
       "_C97: x_('Nissan',_2,_('Tambov',_'Moscow'))\n",
       " + x_('Nissan',_2,_('Voronezh',_'Moscow')) - y_('Nissan',_2,_'Moscow') = 0\n",
       "\n",
       "_C98: x_('Nissan',_3,_('Moscow',_'Tambov'))\n",
       " + x_('Nissan',_3,_('Moscow',_'Voronezh')) - y_('Nissan',_3,_'Moscow') = 0\n",
       "\n",
       "_C99: x_('Nissan',_3,_('Tambov',_'Moscow'))\n",
       " + x_('Nissan',_3,_('Voronezh',_'Moscow')) - y_('Nissan',_3,_'Moscow') = 0\n",
       "\n",
       "_C100: x_('Nissan',_4,_('Moscow',_'Tambov'))\n",
       " + x_('Nissan',_4,_('Moscow',_'Voronezh')) - y_('Nissan',_4,_'Moscow') = 0\n",
       "\n",
       "_C101: x_('Nissan',_4,_('Tambov',_'Moscow'))\n",
       " + x_('Nissan',_4,_('Voronezh',_'Moscow')) - y_('Nissan',_4,_'Moscow') = 0\n",
       "\n",
       "_C102: x_('Nissan',_5,_('Moscow',_'Tambov'))\n",
       " + x_('Nissan',_5,_('Moscow',_'Voronezh')) - y_('Nissan',_5,_'Moscow') = 0\n",
       "\n",
       "_C103: x_('Nissan',_5,_('Tambov',_'Moscow'))\n",
       " + x_('Nissan',_5,_('Voronezh',_'Moscow')) - y_('Nissan',_5,_'Moscow') = 0\n",
       "\n",
       "_C104: x_('Nissan',_6,_('Moscow',_'Tambov'))\n",
       " + x_('Nissan',_6,_('Moscow',_'Voronezh')) - y_('Nissan',_6,_'Moscow') = 0\n",
       "\n",
       "_C105: x_('Nissan',_6,_('Tambov',_'Moscow'))\n",
       " + x_('Nissan',_6,_('Voronezh',_'Moscow')) - y_('Nissan',_6,_'Moscow') = 0\n",
       "\n",
       "_C106: x_('Nissan',_1,_('Voronezh',_'Moscow'))\n",
       " + x_('Nissan',_1,_('Voronezh',_'Tambov')) - y_('Nissan',_1,_'Voronezh') = 0\n",
       "\n",
       "_C107: x_('Nissan',_1,_('Moscow',_'Voronezh'))\n",
       " + x_('Nissan',_1,_('Tambov',_'Voronezh')) - y_('Nissan',_1,_'Voronezh') = 0\n",
       "\n",
       "_C108: x_('Nissan',_2,_('Voronezh',_'Moscow'))\n",
       " + x_('Nissan',_2,_('Voronezh',_'Tambov')) - y_('Nissan',_2,_'Voronezh') = 0\n",
       "\n",
       "_C109: x_('Nissan',_2,_('Moscow',_'Voronezh'))\n",
       " + x_('Nissan',_2,_('Tambov',_'Voronezh')) - y_('Nissan',_2,_'Voronezh') = 0\n",
       "\n",
       "_C110: x_('Nissan',_3,_('Voronezh',_'Moscow'))\n",
       " + x_('Nissan',_3,_('Voronezh',_'Tambov')) - y_('Nissan',_3,_'Voronezh') = 0\n",
       "\n",
       "_C111: x_('Nissan',_3,_('Moscow',_'Voronezh'))\n",
       " + x_('Nissan',_3,_('Tambov',_'Voronezh')) - y_('Nissan',_3,_'Voronezh') = 0\n",
       "\n",
       "_C112: x_('Nissan',_4,_('Voronezh',_'Moscow'))\n",
       " + x_('Nissan',_4,_('Voronezh',_'Tambov')) - y_('Nissan',_4,_'Voronezh') = 0\n",
       "\n",
       "_C113: x_('Nissan',_4,_('Moscow',_'Voronezh'))\n",
       " + x_('Nissan',_4,_('Tambov',_'Voronezh')) - y_('Nissan',_4,_'Voronezh') = 0\n",
       "\n",
       "_C114: x_('Nissan',_5,_('Voronezh',_'Moscow'))\n",
       " + x_('Nissan',_5,_('Voronezh',_'Tambov')) - y_('Nissan',_5,_'Voronezh') = 0\n",
       "\n",
       "_C115: x_('Nissan',_5,_('Moscow',_'Voronezh'))\n",
       " + x_('Nissan',_5,_('Tambov',_'Voronezh')) - y_('Nissan',_5,_'Voronezh') = 0\n",
       "\n",
       "_C116: x_('Nissan',_6,_('Voronezh',_'Moscow'))\n",
       " + x_('Nissan',_6,_('Voronezh',_'Tambov')) - y_('Nissan',_6,_'Voronezh') = 0\n",
       "\n",
       "_C117: x_('Nissan',_6,_('Moscow',_'Voronezh'))\n",
       " + x_('Nissan',_6,_('Tambov',_'Voronezh')) - y_('Nissan',_6,_'Voronezh') = 0\n",
       "\n",
       "_C118: d_('Nissan',_1,_'Tambov') + d_('Nissan',_1,_'Voronezh') <= 60\n",
       "\n",
       "_C119: d_('Nissan',_1,_'Tambov') - 60 y_('Nissan',_1,_'Tambov') <= 0\n",
       "\n",
       "_C120: d_('Nissan',_1,_'Voronezh') - 60 y_('Nissan',_1,_'Voronezh') <= 0\n",
       "\n",
       "_C121: d_('Nissan',_2,_'Tambov') + d_('Nissan',_2,_'Voronezh') <= 60\n",
       "\n",
       "_C122: d_('Nissan',_2,_'Tambov') - 60 y_('Nissan',_2,_'Tambov') <= 0\n",
       "\n",
       "_C123: d_('Nissan',_2,_'Voronezh') - 60 y_('Nissan',_2,_'Voronezh') <= 0\n",
       "\n",
       "_C124: d_('Nissan',_3,_'Tambov') + d_('Nissan',_3,_'Voronezh') <= 60\n",
       "\n",
       "_C125: d_('Nissan',_3,_'Tambov') - 60 y_('Nissan',_3,_'Tambov') <= 0\n",
       "\n",
       "_C126: d_('Nissan',_3,_'Voronezh') - 60 y_('Nissan',_3,_'Voronezh') <= 0\n",
       "\n",
       "_C127: d_('Nissan',_4,_'Tambov') + d_('Nissan',_4,_'Voronezh') <= 60\n",
       "\n",
       "_C128: d_('Nissan',_4,_'Tambov') - 60 y_('Nissan',_4,_'Tambov') <= 0\n",
       "\n",
       "_C129: d_('Nissan',_4,_'Voronezh') - 60 y_('Nissan',_4,_'Voronezh') <= 0\n",
       "\n",
       "_C130: d_('Nissan',_5,_'Tambov') + d_('Nissan',_5,_'Voronezh') <= 60\n",
       "\n",
       "_C131: d_('Nissan',_5,_'Tambov') - 60 y_('Nissan',_5,_'Tambov') <= 0\n",
       "\n",
       "_C132: d_('Nissan',_5,_'Voronezh') - 60 y_('Nissan',_5,_'Voronezh') <= 0\n",
       "\n",
       "_C133: d_('Nissan',_6,_'Tambov') + d_('Nissan',_6,_'Voronezh') <= 60\n",
       "\n",
       "_C134: d_('Nissan',_6,_'Tambov') - 60 y_('Nissan',_6,_'Tambov') <= 0\n",
       "\n",
       "_C135: d_('Nissan',_6,_'Voronezh') - 60 y_('Nissan',_6,_'Voronezh') <= 0\n",
       "\n",
       "VARIABLES\n",
       "d_('Nissan',_1,_'Tambov') Continuous\n",
       "d_('Nissan',_1,_'Voronezh') Continuous\n",
       "d_('Nissan',_2,_'Tambov') Continuous\n",
       "d_('Nissan',_2,_'Voronezh') Continuous\n",
       "d_('Nissan',_3,_'Tambov') Continuous\n",
       "d_('Nissan',_3,_'Voronezh') Continuous\n",
       "d_('Nissan',_4,_'Tambov') Continuous\n",
       "d_('Nissan',_4,_'Voronezh') Continuous\n",
       "d_('Nissan',_5,_'Tambov') Continuous\n",
       "d_('Nissan',_5,_'Voronezh') Continuous\n",
       "d_('Nissan',_6,_'Tambov') Continuous\n",
       "d_('Nissan',_6,_'Voronezh') Continuous\n",
       "lack_Tambov Continuous\n",
       "lack_Voronezh Continuous\n",
       "t_('Nissan',_1,_'Moscow') Continuous\n",
       "t_('Nissan',_1,_'Tambov') Continuous\n",
       "t_('Nissan',_1,_'Voronezh') Continuous\n",
       "t_('Nissan',_2,_'Moscow') Continuous\n",
       "t_('Nissan',_2,_'Tambov') Continuous\n",
       "t_('Nissan',_2,_'Voronezh') Continuous\n",
       "t_('Nissan',_3,_'Moscow') Continuous\n",
       "t_('Nissan',_3,_'Tambov') Continuous\n",
       "t_('Nissan',_3,_'Voronezh') Continuous\n",
       "t_('Nissan',_4,_'Moscow') Continuous\n",
       "t_('Nissan',_4,_'Tambov') Continuous\n",
       "t_('Nissan',_4,_'Voronezh') Continuous\n",
       "t_('Nissan',_5,_'Moscow') Continuous\n",
       "t_('Nissan',_5,_'Tambov') Continuous\n",
       "t_('Nissan',_5,_'Voronezh') Continuous\n",
       "t_('Nissan',_6,_'Moscow') Continuous\n",
       "t_('Nissan',_6,_'Tambov') Continuous\n",
       "t_('Nissan',_6,_'Voronezh') Continuous\n",
       "te_('Nissan',_1) Continuous\n",
       "te_('Nissan',_2) Continuous\n",
       "te_('Nissan',_3) Continuous\n",
       "te_('Nissan',_4) Continuous\n",
       "te_('Nissan',_5) Continuous\n",
       "te_('Nissan',_6) Continuous\n",
       "0 <= x_('Nissan',_1,_('Moscow',_'Tambov')) <= 1 Integer\n",
       "0 <= x_('Nissan',_1,_('Moscow',_'Voronezh')) <= 1 Integer\n",
       "0 <= x_('Nissan',_1,_('Tambov',_'Moscow')) <= 1 Integer\n",
       "0 <= x_('Nissan',_1,_('Tambov',_'Voronezh')) <= 1 Integer\n",
       "0 <= x_('Nissan',_1,_('Voronezh',_'Moscow')) <= 1 Integer\n",
       "0 <= x_('Nissan',_1,_('Voronezh',_'Tambov')) <= 1 Integer\n",
       "0 <= x_('Nissan',_2,_('Moscow',_'Tambov')) <= 1 Integer\n",
       "0 <= x_('Nissan',_2,_('Moscow',_'Voronezh')) <= 1 Integer\n",
       "0 <= x_('Nissan',_2,_('Tambov',_'Moscow')) <= 1 Integer\n",
       "0 <= x_('Nissan',_2,_('Tambov',_'Voronezh')) <= 1 Integer\n",
       "0 <= x_('Nissan',_2,_('Voronezh',_'Moscow')) <= 1 Integer\n",
       "0 <= x_('Nissan',_2,_('Voronezh',_'Tambov')) <= 1 Integer\n",
       "0 <= x_('Nissan',_3,_('Moscow',_'Tambov')) <= 1 Integer\n",
       "0 <= x_('Nissan',_3,_('Moscow',_'Voronezh')) <= 1 Integer\n",
       "0 <= x_('Nissan',_3,_('Tambov',_'Moscow')) <= 1 Integer\n",
       "0 <= x_('Nissan',_3,_('Tambov',_'Voronezh')) <= 1 Integer\n",
       "0 <= x_('Nissan',_3,_('Voronezh',_'Moscow')) <= 1 Integer\n",
       "0 <= x_('Nissan',_3,_('Voronezh',_'Tambov')) <= 1 Integer\n",
       "0 <= x_('Nissan',_4,_('Moscow',_'Tambov')) <= 1 Integer\n",
       "0 <= x_('Nissan',_4,_('Moscow',_'Voronezh')) <= 1 Integer\n",
       "0 <= x_('Nissan',_4,_('Tambov',_'Moscow')) <= 1 Integer\n",
       "0 <= x_('Nissan',_4,_('Tambov',_'Voronezh')) <= 1 Integer\n",
       "0 <= x_('Nissan',_4,_('Voronezh',_'Moscow')) <= 1 Integer\n",
       "0 <= x_('Nissan',_4,_('Voronezh',_'Tambov')) <= 1 Integer\n",
       "0 <= x_('Nissan',_5,_('Moscow',_'Tambov')) <= 1 Integer\n",
       "0 <= x_('Nissan',_5,_('Moscow',_'Voronezh')) <= 1 Integer\n",
       "0 <= x_('Nissan',_5,_('Tambov',_'Moscow')) <= 1 Integer\n",
       "0 <= x_('Nissan',_5,_('Tambov',_'Voronezh')) <= 1 Integer\n",
       "0 <= x_('Nissan',_5,_('Voronezh',_'Moscow')) <= 1 Integer\n",
       "0 <= x_('Nissan',_5,_('Voronezh',_'Tambov')) <= 1 Integer\n",
       "0 <= x_('Nissan',_6,_('Moscow',_'Tambov')) <= 1 Integer\n",
       "0 <= x_('Nissan',_6,_('Moscow',_'Voronezh')) <= 1 Integer\n",
       "0 <= x_('Nissan',_6,_('Tambov',_'Moscow')) <= 1 Integer\n",
       "0 <= x_('Nissan',_6,_('Tambov',_'Voronezh')) <= 1 Integer\n",
       "0 <= x_('Nissan',_6,_('Voronezh',_'Moscow')) <= 1 Integer\n",
       "0 <= x_('Nissan',_6,_('Voronezh',_'Tambov')) <= 1 Integer\n",
       "0 <= y_('Nissan',_1,_'Moscow') <= 1 Integer\n",
       "0 <= y_('Nissan',_1,_'Tambov') <= 1 Integer\n",
       "0 <= y_('Nissan',_1,_'Voronezh') <= 1 Integer\n",
       "0 <= y_('Nissan',_2,_'Moscow') <= 1 Integer\n",
       "0 <= y_('Nissan',_2,_'Tambov') <= 1 Integer\n",
       "0 <= y_('Nissan',_2,_'Voronezh') <= 1 Integer\n",
       "0 <= y_('Nissan',_3,_'Moscow') <= 1 Integer\n",
       "0 <= y_('Nissan',_3,_'Tambov') <= 1 Integer\n",
       "0 <= y_('Nissan',_3,_'Voronezh') <= 1 Integer\n",
       "0 <= y_('Nissan',_4,_'Moscow') <= 1 Integer\n",
       "0 <= y_('Nissan',_4,_'Tambov') <= 1 Integer\n",
       "0 <= y_('Nissan',_4,_'Voronezh') <= 1 Integer\n",
       "0 <= y_('Nissan',_5,_'Moscow') <= 1 Integer\n",
       "0 <= y_('Nissan',_5,_'Tambov') <= 1 Integer\n",
       "0 <= y_('Nissan',_5,_'Voronezh') <= 1 Integer\n",
       "0 <= y_('Nissan',_6,_'Moscow') <= 1 Integer\n",
       "0 <= y_('Nissan',_6,_'Tambov') <= 1 Integer\n",
       "0 <= y_('Nissan',_6,_'Voronezh') <= 1 Integer"
      ]
     },
     "execution_count": 39,
     "metadata": {},
     "output_type": "execute_result"
    }
   ],
   "source": [
    "pbm"
   ]
  },
  {
   "cell_type": "markdown",
   "metadata": {},
   "source": [
    "## Save result"
   ]
  },
  {
   "cell_type": "code",
   "execution_count": 35,
   "metadata": {
    "scrolled": true
   },
   "outputs": [],
   "source": [
    "cols = [\"CarName\",\n",
    "        \"TripNumber\",\n",
    "        \"City_From\", \n",
    "        \"City_To\", \n",
    "        \"DeliveredPerTrip\",\n",
    "        \"Lack\",\n",
    "        \"DepartueTime\",\n",
    "        \"ArrivalTime\", \"Deliver_From\", \"Deliver_To\"]\n",
    "result = pd.DataFrame(columns=cols)\n",
    "row_number = 0\n",
    "for k in cars:\n",
    "    for n in trips:\n",
    "        for i, j in routes:\n",
    "            #print(k, n, i, j, x[k, n, (i, j)].value())\n",
    "            if x[k, n, (i, j)].value() == 0:\n",
    "                continue\n",
    "            result.loc[row_number, cols] = k, n, i, j, \\\n",
    "                                        d[k, n, j].value() if j != depot else None, \\\n",
    "                                        None, \\\n",
    "                                        t[k, n, i].value(), \\\n",
    "                                        t[k, n, j].value() if j != depot else te[k, n].value(), \\\n",
    "                                        orders.loc[j].Deliver_from if j in cities else None, \\\n",
    "                                        orders.loc[j].Deliver_to if j in cities else None\n",
    "            row_number += 1\n",
    "\n",
    "            \n",
    "result = result.sort_values(by=[\"CarName\", \"TripNumber\", \"ArrivalTime\"])\n",
    "#result"
   ]
  },
  {
   "cell_type": "code",
   "execution_count": 36,
   "metadata": {},
   "outputs": [
    {
     "data": {
      "text/html": [
       "<div>\n",
       "<style scoped>\n",
       "    .dataframe tbody tr th:only-of-type {\n",
       "        vertical-align: middle;\n",
       "    }\n",
       "\n",
       "    .dataframe tbody tr th {\n",
       "        vertical-align: top;\n",
       "    }\n",
       "\n",
       "    .dataframe thead th {\n",
       "        text-align: right;\n",
       "    }\n",
       "</style>\n",
       "<table border=\"1\" class=\"dataframe\">\n",
       "  <thead>\n",
       "    <tr style=\"text-align: right;\">\n",
       "      <th></th>\n",
       "      <th>CarName</th>\n",
       "      <th>TripNumber</th>\n",
       "      <th>City_From</th>\n",
       "      <th>City_To</th>\n",
       "      <th>Delivered</th>\n",
       "      <th>Lack</th>\n",
       "      <th>DepartueTime</th>\n",
       "      <th>ArrivalTime</th>\n",
       "      <th>Deliver_From</th>\n",
       "      <th>Deliver_To</th>\n",
       "    </tr>\n",
       "  </thead>\n",
       "  <tbody>\n",
       "    <tr>\n",
       "      <th>1</th>\n",
       "      <td>Nissan</td>\n",
       "      <td>1</td>\n",
       "      <td>Moscow</td>\n",
       "      <td>Tambov</td>\n",
       "      <td>60</td>\n",
       "      <td>140</td>\n",
       "      <td>0</td>\n",
       "      <td>3</td>\n",
       "      <td>3</td>\n",
       "      <td>15</td>\n",
       "    </tr>\n",
       "    <tr>\n",
       "      <th>0</th>\n",
       "      <td>Nissan</td>\n",
       "      <td>1</td>\n",
       "      <td>Tambov</td>\n",
       "      <td>Moscow</td>\n",
       "      <td>None</td>\n",
       "      <td>None</td>\n",
       "      <td>3</td>\n",
       "      <td>6</td>\n",
       "      <td>None</td>\n",
       "      <td>None</td>\n",
       "    </tr>\n",
       "    <tr>\n",
       "      <th>3</th>\n",
       "      <td>Nissan</td>\n",
       "      <td>3</td>\n",
       "      <td>Moscow</td>\n",
       "      <td>Tambov</td>\n",
       "      <td>60</td>\n",
       "      <td>80</td>\n",
       "      <td>6</td>\n",
       "      <td>9</td>\n",
       "      <td>3</td>\n",
       "      <td>15</td>\n",
       "    </tr>\n",
       "    <tr>\n",
       "      <th>2</th>\n",
       "      <td>Nissan</td>\n",
       "      <td>3</td>\n",
       "      <td>Tambov</td>\n",
       "      <td>Moscow</td>\n",
       "      <td>None</td>\n",
       "      <td>None</td>\n",
       "      <td>9</td>\n",
       "      <td>12</td>\n",
       "      <td>None</td>\n",
       "      <td>None</td>\n",
       "    </tr>\n",
       "    <tr>\n",
       "      <th>4</th>\n",
       "      <td>Nissan</td>\n",
       "      <td>6</td>\n",
       "      <td>Moscow</td>\n",
       "      <td>Voronezh</td>\n",
       "      <td>60</td>\n",
       "      <td>40</td>\n",
       "      <td>12</td>\n",
       "      <td>17</td>\n",
       "      <td>17</td>\n",
       "      <td>24</td>\n",
       "    </tr>\n",
       "    <tr>\n",
       "      <th>5</th>\n",
       "      <td>Nissan</td>\n",
       "      <td>6</td>\n",
       "      <td>Voronezh</td>\n",
       "      <td>Moscow</td>\n",
       "      <td>None</td>\n",
       "      <td>None</td>\n",
       "      <td>17</td>\n",
       "      <td>22</td>\n",
       "      <td>None</td>\n",
       "      <td>None</td>\n",
       "    </tr>\n",
       "  </tbody>\n",
       "</table>\n",
       "</div>"
      ],
      "text/plain": [
       "  CarName TripNumber City_From   City_To Delivered  Lack DepartueTime  \\\n",
       "1  Nissan          1    Moscow    Tambov        60   140            0   \n",
       "0  Nissan          1    Tambov    Moscow      None  None            3   \n",
       "3  Nissan          3    Moscow    Tambov        60    80            6   \n",
       "2  Nissan          3    Tambov    Moscow      None  None            9   \n",
       "4  Nissan          6    Moscow  Voronezh        60    40           12   \n",
       "5  Nissan          6  Voronezh    Moscow      None  None           17   \n",
       "\n",
       "  ArrivalTime Deliver_From Deliver_To  \n",
       "1           3            3         15  \n",
       "0           6         None       None  \n",
       "3           9            3         15  \n",
       "2          12         None       None  \n",
       "4          17           17         24  \n",
       "5          22         None       None  "
      ]
     },
     "execution_count": 36,
     "metadata": {},
     "output_type": "execute_result"
    }
   ],
   "source": [
    "for city in cities:\n",
    "    curr_lack = orders.loc[city].Demand\n",
    "    for line in result[result.City_To == city].itertuples():\n",
    "        curr_lack -= line.Delivered\n",
    "        result.loc[line.Index, \"Lack\"] = curr_lack\n",
    "result"
   ]
  },
  {
   "cell_type": "code",
   "execution_count": 37,
   "metadata": {},
   "outputs": [
    {
     "data": {
      "text/html": [
       "<div>\n",
       "<style scoped>\n",
       "    .dataframe tbody tr th:only-of-type {\n",
       "        vertical-align: middle;\n",
       "    }\n",
       "\n",
       "    .dataframe tbody tr th {\n",
       "        vertical-align: top;\n",
       "    }\n",
       "\n",
       "    .dataframe thead th {\n",
       "        text-align: right;\n",
       "    }\n",
       "</style>\n",
       "<table border=\"1\" class=\"dataframe\">\n",
       "  <thead>\n",
       "    <tr style=\"text-align: right;\">\n",
       "      <th></th>\n",
       "      <th>City</th>\n",
       "      <th>Delivered</th>\n",
       "      <th>Demand</th>\n",
       "      <th>Lack</th>\n",
       "    </tr>\n",
       "  </thead>\n",
       "  <tbody>\n",
       "    <tr>\n",
       "      <th>0</th>\n",
       "      <td>Tambov</td>\n",
       "      <td>120</td>\n",
       "      <td>200</td>\n",
       "      <td>80</td>\n",
       "    </tr>\n",
       "    <tr>\n",
       "      <th>1</th>\n",
       "      <td>Voronezh</td>\n",
       "      <td>60</td>\n",
       "      <td>100</td>\n",
       "      <td>40</td>\n",
       "    </tr>\n",
       "  </tbody>\n",
       "</table>\n",
       "</div>"
      ],
      "text/plain": [
       "       City Delivered Demand Lack\n",
       "0    Tambov       120    200   80\n",
       "1  Voronezh        60    100   40"
      ]
     },
     "execution_count": 37,
     "metadata": {},
     "output_type": "execute_result"
    }
   ],
   "source": [
    "cols = [\"City\",\n",
    "        \"Delivered\",\n",
    "        \"Demand\",\n",
    "        \"Lack\"]\n",
    "delivery = pd.DataFrame(columns=cols)\n",
    "row_number = 0\n",
    "for i in cities:\n",
    "    delivered = sum((d[k, n, i].value() for k in cars for n in trips))\n",
    "    delivery.loc[row_number, cols] = i, delivered, orders.loc[i].Demand, lack[i].value()\n",
    "    row_number += 1\n",
    "delivery"
   ]
  },
  {
   "cell_type": "code",
   "execution_count": 40,
   "metadata": {},
   "outputs": [],
   "source": [
    "pbm.writeLP?"
   ]
  },
  {
   "cell_type": "code",
   "execution_count": null,
   "metadata": {},
   "outputs": [],
   "source": []
  },
  {
   "cell_type": "code",
   "execution_count": null,
   "metadata": {},
   "outputs": [],
   "source": []
  }
 ],
 "metadata": {
  "kernelspec": {
   "display_name": "Python 3",
   "language": "python",
   "name": "python3"
  },
  "language_info": {
   "codemirror_mode": {
    "name": "ipython",
    "version": 3
   },
   "file_extension": ".py",
   "mimetype": "text/x-python",
   "name": "python",
   "nbconvert_exporter": "python",
   "pygments_lexer": "ipython3",
   "version": "3.7.1"
  }
 },
 "nbformat": 4,
 "nbformat_minor": 2
}
