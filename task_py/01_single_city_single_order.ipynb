{
 "cells": [
  {
   "cell_type": "markdown",
   "metadata": {},
   "source": [
    "# Simple problem -- single city - single order\n",
    "\n",
    "\n"
   ]
  },
  {
   "cell_type": "code",
   "execution_count": 1,
   "metadata": {},
   "outputs": [],
   "source": [
    "import pandas as pd\n",
    "import pulp as plp"
   ]
  },
  {
   "cell_type": "code",
   "execution_count": 2,
   "metadata": {},
   "outputs": [],
   "source": [
    "input_file = \"../tests/data/test04_v4c7.xlsx\"\n",
    "output_file = \"../data/test_output.xlsx\""
   ]
  },
  {
   "cell_type": "markdown",
   "metadata": {},
   "source": [
    "## Data"
   ]
  },
  {
   "cell_type": "code",
   "execution_count": 3,
   "metadata": {},
   "outputs": [
    {
     "data": {
      "text/plain": [
       "(0, 25)"
      ]
     },
     "execution_count": 3,
     "metadata": {},
     "output_type": "execute_result"
    }
   ],
   "source": [
    "sheet_name = \"Parameters\"\n",
    "df_param = pd.read_excel(input_file, sheet_name=sheet_name)\n",
    "df_param.set_index(\"ParamName\", inplace=True)\n",
    "minPeriod = df_param.loc[\"minPeriod\"].ParamValue\n",
    "maxPeriod = df_param.loc[\"maxPeriod\"].ParamValue\n",
    "minPeriod, maxPeriod"
   ]
  },
  {
   "cell_type": "code",
   "execution_count": 4,
   "metadata": {
    "scrolled": false
   },
   "outputs": [
    {
     "data": {
      "text/html": [
       "<div>\n",
       "<style scoped>\n",
       "    .dataframe tbody tr th:only-of-type {\n",
       "        vertical-align: middle;\n",
       "    }\n",
       "\n",
       "    .dataframe tbody tr th {\n",
       "        vertical-align: top;\n",
       "    }\n",
       "\n",
       "    .dataframe thead th {\n",
       "        text-align: right;\n",
       "    }\n",
       "</style>\n",
       "<table border=\"1\" class=\"dataframe\">\n",
       "  <thead>\n",
       "    <tr style=\"text-align: right;\">\n",
       "      <th></th>\n",
       "      <th>City</th>\n",
       "      <th>Demand</th>\n",
       "      <th>Price_per_unit</th>\n",
       "      <th>Deliver_from</th>\n",
       "      <th>Deliver_to</th>\n",
       "    </tr>\n",
       "  </thead>\n",
       "  <tbody>\n",
       "    <tr>\n",
       "      <th>0</th>\n",
       "      <td>Tambov</td>\n",
       "      <td>200</td>\n",
       "      <td>800</td>\n",
       "      <td>3</td>\n",
       "      <td>6</td>\n",
       "    </tr>\n",
       "    <tr>\n",
       "      <th>1</th>\n",
       "      <td>Voronezh</td>\n",
       "      <td>100</td>\n",
       "      <td>1100</td>\n",
       "      <td>18</td>\n",
       "      <td>22</td>\n",
       "    </tr>\n",
       "    <tr>\n",
       "      <th>2</th>\n",
       "      <td>Belgorod</td>\n",
       "      <td>70</td>\n",
       "      <td>1000</td>\n",
       "      <td>10</td>\n",
       "      <td>14</td>\n",
       "    </tr>\n",
       "    <tr>\n",
       "      <th>3</th>\n",
       "      <td>Lipetsk</td>\n",
       "      <td>250</td>\n",
       "      <td>750</td>\n",
       "      <td>12</td>\n",
       "      <td>15</td>\n",
       "    </tr>\n",
       "    <tr>\n",
       "      <th>4</th>\n",
       "      <td>Ryazan</td>\n",
       "      <td>120</td>\n",
       "      <td>850</td>\n",
       "      <td>9</td>\n",
       "      <td>12</td>\n",
       "    </tr>\n",
       "  </tbody>\n",
       "</table>\n",
       "</div>"
      ],
      "text/plain": [
       "       City  Demand  Price_per_unit  Deliver_from  Deliver_to\n",
       "0    Tambov     200             800             3           6\n",
       "1  Voronezh     100            1100            18          22\n",
       "2  Belgorod      70            1000            10          14\n",
       "3   Lipetsk     250             750            12          15\n",
       "4    Ryazan     120             850             9          12"
      ]
     },
     "execution_count": 4,
     "metadata": {},
     "output_type": "execute_result"
    }
   ],
   "source": [
    "sheet_name = \"Orders\"\n",
    "df_orders = pd.read_excel(input_file, sheet_name=sheet_name)\n",
    "df_orders.head()"
   ]
  },
  {
   "cell_type": "code",
   "execution_count": 5,
   "metadata": {},
   "outputs": [
    {
     "data": {
      "text/html": [
       "<div>\n",
       "<style scoped>\n",
       "    .dataframe tbody tr th:only-of-type {\n",
       "        vertical-align: middle;\n",
       "    }\n",
       "\n",
       "    .dataframe tbody tr th {\n",
       "        vertical-align: top;\n",
       "    }\n",
       "\n",
       "    .dataframe thead th {\n",
       "        text-align: right;\n",
       "    }\n",
       "</style>\n",
       "<table border=\"1\" class=\"dataframe\">\n",
       "  <thead>\n",
       "    <tr style=\"text-align: right;\">\n",
       "      <th></th>\n",
       "      <th>From</th>\n",
       "      <th>To</th>\n",
       "      <th>Time</th>\n",
       "      <th>Distance</th>\n",
       "    </tr>\n",
       "  </thead>\n",
       "  <tbody>\n",
       "    <tr>\n",
       "      <th>0</th>\n",
       "      <td>Voronezh</td>\n",
       "      <td>Lipetsk</td>\n",
       "      <td>1.222222</td>\n",
       "      <td>110</td>\n",
       "    </tr>\n",
       "    <tr>\n",
       "      <th>1</th>\n",
       "      <td>Lipetsk</td>\n",
       "      <td>Voronezh</td>\n",
       "      <td>1.222222</td>\n",
       "      <td>110</td>\n",
       "    </tr>\n",
       "    <tr>\n",
       "      <th>2</th>\n",
       "      <td>Tambov</td>\n",
       "      <td>Lipetsk</td>\n",
       "      <td>1.333333</td>\n",
       "      <td>120</td>\n",
       "    </tr>\n",
       "    <tr>\n",
       "      <th>3</th>\n",
       "      <td>Lipetsk</td>\n",
       "      <td>Tambov</td>\n",
       "      <td>1.333333</td>\n",
       "      <td>120</td>\n",
       "    </tr>\n",
       "    <tr>\n",
       "      <th>4</th>\n",
       "      <td>Moscow</td>\n",
       "      <td>Ryazan</td>\n",
       "      <td>2.000000</td>\n",
       "      <td>180</td>\n",
       "    </tr>\n",
       "  </tbody>\n",
       "</table>\n",
       "</div>"
      ],
      "text/plain": [
       "       From        To      Time  Distance\n",
       "0  Voronezh   Lipetsk  1.222222       110\n",
       "1   Lipetsk  Voronezh  1.222222       110\n",
       "2    Tambov   Lipetsk  1.333333       120\n",
       "3   Lipetsk    Tambov  1.333333       120\n",
       "4    Moscow    Ryazan  2.000000       180"
      ]
     },
     "execution_count": 5,
     "metadata": {},
     "output_type": "execute_result"
    }
   ],
   "source": [
    "sheet_name = \"Routes\"\n",
    "df_routes = pd.read_excel(input_file, sheet_name=sheet_name)\n",
    "df_routes.head()"
   ]
  },
  {
   "cell_type": "code",
   "execution_count": 6,
   "metadata": {},
   "outputs": [
    {
     "data": {
      "text/html": [
       "<div>\n",
       "<style scoped>\n",
       "    .dataframe tbody tr th:only-of-type {\n",
       "        vertical-align: middle;\n",
       "    }\n",
       "\n",
       "    .dataframe tbody tr th {\n",
       "        vertical-align: top;\n",
       "    }\n",
       "\n",
       "    .dataframe thead th {\n",
       "        text-align: right;\n",
       "    }\n",
       "</style>\n",
       "<table border=\"1\" class=\"dataframe\">\n",
       "  <thead>\n",
       "    <tr style=\"text-align: right;\">\n",
       "      <th></th>\n",
       "      <th>City</th>\n",
       "    </tr>\n",
       "  </thead>\n",
       "  <tbody>\n",
       "    <tr>\n",
       "      <th>0</th>\n",
       "      <td>Moscow</td>\n",
       "    </tr>\n",
       "    <tr>\n",
       "      <th>1</th>\n",
       "      <td>Tambov</td>\n",
       "    </tr>\n",
       "    <tr>\n",
       "      <th>2</th>\n",
       "      <td>Voronezh</td>\n",
       "    </tr>\n",
       "    <tr>\n",
       "      <th>3</th>\n",
       "      <td>Belgorod</td>\n",
       "    </tr>\n",
       "    <tr>\n",
       "      <th>4</th>\n",
       "      <td>Lipetsk</td>\n",
       "    </tr>\n",
       "  </tbody>\n",
       "</table>\n",
       "</div>"
      ],
      "text/plain": [
       "       City\n",
       "0    Moscow\n",
       "1    Tambov\n",
       "2  Voronezh\n",
       "3  Belgorod\n",
       "4   Lipetsk"
      ]
     },
     "execution_count": 6,
     "metadata": {},
     "output_type": "execute_result"
    }
   ],
   "source": [
    "sheet_name = \"Cities\"\n",
    "df_cities = pd.read_excel(input_file, sheet_name=sheet_name)\n",
    "df_cities.head()"
   ]
  },
  {
   "cell_type": "code",
   "execution_count": 7,
   "metadata": {
    "scrolled": true
   },
   "outputs": [
    {
     "data": {
      "text/html": [
       "<div>\n",
       "<style scoped>\n",
       "    .dataframe tbody tr th:only-of-type {\n",
       "        vertical-align: middle;\n",
       "    }\n",
       "\n",
       "    .dataframe tbody tr th {\n",
       "        vertical-align: top;\n",
       "    }\n",
       "\n",
       "    .dataframe thead th {\n",
       "        text-align: right;\n",
       "    }\n",
       "</style>\n",
       "<table border=\"1\" class=\"dataframe\">\n",
       "  <thead>\n",
       "    <tr style=\"text-align: right;\">\n",
       "      <th></th>\n",
       "      <th>CarName</th>\n",
       "      <th>Capacity</th>\n",
       "      <th>Price_per_km</th>\n",
       "    </tr>\n",
       "  </thead>\n",
       "  <tbody>\n",
       "    <tr>\n",
       "      <th>0</th>\n",
       "      <td>Nissan</td>\n",
       "      <td>60</td>\n",
       "      <td>9</td>\n",
       "    </tr>\n",
       "    <tr>\n",
       "      <th>1</th>\n",
       "      <td>Toyota</td>\n",
       "      <td>50</td>\n",
       "      <td>8</td>\n",
       "    </tr>\n",
       "    <tr>\n",
       "      <th>2</th>\n",
       "      <td>Mitsubishi</td>\n",
       "      <td>100</td>\n",
       "      <td>15</td>\n",
       "    </tr>\n",
       "    <tr>\n",
       "      <th>3</th>\n",
       "      <td>Mazda</td>\n",
       "      <td>80</td>\n",
       "      <td>10</td>\n",
       "    </tr>\n",
       "  </tbody>\n",
       "</table>\n",
       "</div>"
      ],
      "text/plain": [
       "      CarName  Capacity  Price_per_km\n",
       "0      Nissan        60             9\n",
       "1      Toyota        50             8\n",
       "2  Mitsubishi       100            15\n",
       "3       Mazda        80            10"
      ]
     },
     "execution_count": 7,
     "metadata": {},
     "output_type": "execute_result"
    }
   ],
   "source": [
    "sheet_name = \"Vehicles\"\n",
    "df_cars= pd.read_excel(input_file, sheet_name=sheet_name, nrows=None)\n",
    "df_cars.head()"
   ]
  },
  {
   "cell_type": "code",
   "execution_count": 8,
   "metadata": {},
   "outputs": [
    {
     "data": {
      "text/plain": [
       "290"
      ]
     },
     "execution_count": 8,
     "metadata": {},
     "output_type": "execute_result"
    }
   ],
   "source": [
    "TOT_CAPACITY = df_cars.Capacity.sum()\n",
    "TOT_CAPACITY"
   ]
  },
  {
   "cell_type": "markdown",
   "metadata": {},
   "source": [
    "## Structures\n",
    "\n",
    "Moscow - origin depot and destination depot"
   ]
  },
  {
   "cell_type": "code",
   "execution_count": 9,
   "metadata": {},
   "outputs": [],
   "source": [
    "def convert_dataframe_to_dict(dataframe, key_columns, value_column):\n",
    "    return (\n",
    "        dataframe.loc[:, key_columns + [value_column]]\n",
    "        .set_index(key_columns)\n",
    "        .to_dict()[value_column]\n",
    "    )"
   ]
  },
  {
   "cell_type": "code",
   "execution_count": 10,
   "metadata": {},
   "outputs": [],
   "source": [
    "def convert_dataframe_to_set(dataframe, key_columns, value_column):\n",
    "    return set(\n",
    "        list(convert_dataframe_to_dict(dataframe, key_columns, value_column).keys())\n",
    "    )"
   ]
  },
  {
   "cell_type": "code",
   "execution_count": 11,
   "metadata": {},
   "outputs": [
    {
     "data": {
      "text/plain": [
       "('Moscow',\n",
       " {'Belgorod', 'Lipetsk', 'Moscow', 'Penza', 'Ryazan', 'Tambov', 'Voronezh'})"
      ]
     },
     "execution_count": 11,
     "metadata": {},
     "output_type": "execute_result"
    }
   ],
   "source": [
    "depot = df_cities.City[0]\n",
    "\n",
    "cities = set(df_cities.City.values).difference(set([depot]))\n",
    "\n",
    "#origin_depot = default_depot + '_start'\n",
    "#destination_depot = default_depot + '_end'\n",
    "\n",
    "all_cities = cities.union([depot])\n",
    "depot, all_cities"
   ]
  },
  {
   "cell_type": "code",
   "execution_count": 12,
   "metadata": {},
   "outputs": [
    {
     "data": {
      "text/plain": [
       "{'Nissan': 60, 'Toyota': 50, 'Mitsubishi': 100, 'Mazda': 80}"
      ]
     },
     "execution_count": 12,
     "metadata": {},
     "output_type": "execute_result"
    }
   ],
   "source": [
    "capacity = convert_dataframe_to_dict(df_cars, [\"CarName\"], \"Capacity\")\n",
    "capacity"
   ]
  },
  {
   "cell_type": "code",
   "execution_count": 13,
   "metadata": {},
   "outputs": [
    {
     "data": {
      "text/plain": [
       "{'Nissan': 9, 'Toyota': 8, 'Mitsubishi': 15, 'Mazda': 10}"
      ]
     },
     "execution_count": 13,
     "metadata": {},
     "output_type": "execute_result"
    }
   ],
   "source": [
    "car_price = convert_dataframe_to_dict(df_cars, [\"CarName\"], \"Price_per_km\")\n",
    "car_price"
   ]
  },
  {
   "cell_type": "code",
   "execution_count": 14,
   "metadata": {},
   "outputs": [],
   "source": [
    "routes = convert_dataframe_to_set(df_routes, [\"From\", \"To\"], \"Distance\")"
   ]
  },
  {
   "cell_type": "code",
   "execution_count": 15,
   "metadata": {},
   "outputs": [],
   "source": [
    "route_time = convert_dataframe_to_dict(df_routes, [\"From\", \"To\"], \"Time\")\n",
    "route_distance = convert_dataframe_to_dict(df_routes, [\"From\", \"To\"], \"Distance\")"
   ]
  },
  {
   "cell_type": "code",
   "execution_count": 16,
   "metadata": {},
   "outputs": [],
   "source": [
    "#route_time, route_distance, routes"
   ]
  },
  {
   "cell_type": "code",
   "execution_count": 17,
   "metadata": {},
   "outputs": [
    {
     "data": {
      "text/html": [
       "<div>\n",
       "<style scoped>\n",
       "    .dataframe tbody tr th:only-of-type {\n",
       "        vertical-align: middle;\n",
       "    }\n",
       "\n",
       "    .dataframe tbody tr th {\n",
       "        vertical-align: top;\n",
       "    }\n",
       "\n",
       "    .dataframe thead th {\n",
       "        text-align: right;\n",
       "    }\n",
       "</style>\n",
       "<table border=\"1\" class=\"dataframe\">\n",
       "  <thead>\n",
       "    <tr style=\"text-align: right;\">\n",
       "      <th></th>\n",
       "      <th>Demand</th>\n",
       "      <th>Price_per_unit</th>\n",
       "      <th>Deliver_from</th>\n",
       "      <th>Deliver_to</th>\n",
       "    </tr>\n",
       "    <tr>\n",
       "      <th>City</th>\n",
       "      <th></th>\n",
       "      <th></th>\n",
       "      <th></th>\n",
       "      <th></th>\n",
       "    </tr>\n",
       "  </thead>\n",
       "  <tbody>\n",
       "    <tr>\n",
       "      <th>Tambov</th>\n",
       "      <td>200</td>\n",
       "      <td>800</td>\n",
       "      <td>3</td>\n",
       "      <td>6</td>\n",
       "    </tr>\n",
       "    <tr>\n",
       "      <th>Voronezh</th>\n",
       "      <td>100</td>\n",
       "      <td>1100</td>\n",
       "      <td>18</td>\n",
       "      <td>22</td>\n",
       "    </tr>\n",
       "    <tr>\n",
       "      <th>Belgorod</th>\n",
       "      <td>70</td>\n",
       "      <td>1000</td>\n",
       "      <td>10</td>\n",
       "      <td>14</td>\n",
       "    </tr>\n",
       "    <tr>\n",
       "      <th>Lipetsk</th>\n",
       "      <td>250</td>\n",
       "      <td>750</td>\n",
       "      <td>12</td>\n",
       "      <td>15</td>\n",
       "    </tr>\n",
       "    <tr>\n",
       "      <th>Ryazan</th>\n",
       "      <td>120</td>\n",
       "      <td>850</td>\n",
       "      <td>9</td>\n",
       "      <td>12</td>\n",
       "    </tr>\n",
       "    <tr>\n",
       "      <th>Penza</th>\n",
       "      <td>300</td>\n",
       "      <td>2000</td>\n",
       "      <td>6</td>\n",
       "      <td>7</td>\n",
       "    </tr>\n",
       "  </tbody>\n",
       "</table>\n",
       "</div>"
      ],
      "text/plain": [
       "          Demand  Price_per_unit  Deliver_from  Deliver_to\n",
       "City                                                      \n",
       "Tambov       200             800             3           6\n",
       "Voronezh     100            1100            18          22\n",
       "Belgorod      70            1000            10          14\n",
       "Lipetsk      250             750            12          15\n",
       "Ryazan       120             850             9          12\n",
       "Penza        300            2000             6           7"
      ]
     },
     "execution_count": 17,
     "metadata": {},
     "output_type": "execute_result"
    }
   ],
   "source": [
    "orders = df_orders.set_index(\"City\")\n",
    "orders"
   ]
  },
  {
   "cell_type": "code",
   "execution_count": 18,
   "metadata": {},
   "outputs": [
    {
     "data": {
      "text/plain": [
       "1040"
      ]
     },
     "execution_count": 18,
     "metadata": {},
     "output_type": "execute_result"
    }
   ],
   "source": [
    "TOT_DEMAND = df_orders.Demand.sum()\n",
    "TOT_DEMAND"
   ]
  },
  {
   "cell_type": "code",
   "execution_count": null,
   "metadata": {},
   "outputs": [
    {
     "data": {
      "text/plain": [
       "{'Mazda', 'Mitsubishi', 'Nissan', 'Toyota'}"
      ]
     },
     "execution_count": 19,
     "metadata": {},
     "output_type": "execute_result"
    }
   ],
   "source": [
    "cars = convert_dataframe_to_set(df_cars, [\"CarName\"], \"Price_per_km\")\n",
    "cars"
   ]
  },
  {
   "cell_type": "code",
   "execution_count": null,
   "metadata": {},
   "outputs": [
    {
     "data": {
      "text/plain": [
       "([1, 2, 3, 4], 4)"
      ]
     },
     "execution_count": 20,
     "metadata": {},
     "output_type": "execute_result"
    }
   ],
   "source": [
    "# trips - number of trips performed by one vehicle\n",
    "#trips = list(range(1, len(cities)))\n",
    "trips = list(range(1, TOT_DEMAND//TOT_CAPACITY + 2))\n",
    "fin_trip = trips[-1]\n",
    "trips, fin_trip"
   ]
  },
  {
   "cell_type": "markdown",
   "metadata": {},
   "source": [
    "## Task"
   ]
  },
  {
   "cell_type": "code",
   "execution_count": null,
   "metadata": {},
   "outputs": [],
   "source": [
    "pbm = plp.LpProblem(\"VRPTW\", plp.LpMaximize)"
   ]
  },
  {
   "cell_type": "code",
   "execution_count": null,
   "metadata": {},
   "outputs": [],
   "source": [
    "x = plp.LpVariable.dicts(\"x\", [(k, n, r) for k in cars for n in trips for r in routes], cat=plp.LpBinary)"
   ]
  },
  {
   "cell_type": "code",
   "execution_count": null,
   "metadata": {},
   "outputs": [],
   "source": [
    "y = plp.LpVariable.dicts(\"y\", [(k, n, i) for k in cars for n in trips for i in all_cities], cat=plp.LpBinary)"
   ]
  },
  {
   "cell_type": "code",
   "execution_count": null,
   "metadata": {},
   "outputs": [],
   "source": [
    "d = plp.LpVariable.dicts(\"d\", [(k, n, i) for k in cars for n in trips for i in cities], cat=plp.LpContinuous, lowBound=0)"
   ]
  },
  {
   "cell_type": "code",
   "execution_count": null,
   "metadata": {},
   "outputs": [],
   "source": [
    "#lack\n",
    "lack = plp.LpVariable.dicts(\"lack\", [i for i in cities], cat=plp.LpContinuous, lowBound=0)"
   ]
  },
  {
   "cell_type": "code",
   "execution_count": null,
   "metadata": {},
   "outputs": [],
   "source": [
    "t = plp.LpVariable.dicts(\"t\", [(k, n, i) for k in cars for n in trips for i in all_cities], cat=plp.LpContinuous, lowBound=0)"
   ]
  },
  {
   "cell_type": "code",
   "execution_count": null,
   "metadata": {},
   "outputs": [],
   "source": [
    "# end time of the trip n\n",
    "te = plp.LpVariable.dicts(\"te\", [(k, n) for k in cars for n in trips], cat=plp.LpContinuous, lowBound=0)"
   ]
  },
  {
   "cell_type": "code",
   "execution_count": null,
   "metadata": {},
   "outputs": [],
   "source": [
    "# maximize revenue\n",
    "#revenue = sales_profit - devlivery_cost + expensive_undelivered\n",
    "pbm += plp.lpSum(orders.loc[i].Price_per_unit * d[k, n, i] for k in cars for n in trips for i in cities) \\\n",
    "    - plp.lpSum(route_distance[r] * car_price[k] * x[k, n, r] for k in cars for n in trips for r in routes) \\\n",
    "    - plp.lpSum(te[k, n] for k in cars for n in trips) \\\n",
    "    - plp.lpSum(100 * orders.loc[i].Price_per_unit * lack[i] for i in cities)"
   ]
  },
  {
   "cell_type": "code",
   "execution_count": null,
   "metadata": {},
   "outputs": [],
   "source": [
    "# time constraints\n",
    "for k in cars:\n",
    "    pbm += t[k, 1, depot] == 0\n",
    "    for n in trips:\n",
    "        if n != fin_trip:\n",
    "            pbm += te[k, n] <= t[k, n+1, depot]\n",
    "            pbm += t[k, n, depot] <= t[k, n+1, depot]\n",
    "        pbm += te[k, n] <= maxPeriod\n",
    "        \n",
    "        for i, j in routes:\n",
    "            if j == depot:\n",
    "                continue\n",
    "            pbm += t[k, n, i] + route_time[i, j] <= t[k, n, j] + maxPeriod * (1 - x[k, n, (i, j)])\n",
    "        for i in cities:\n",
    "            pbm += t[k, n, i] + route_time[i, depot] <= te[k, n] + maxPeriod * (1 - x[k, n, (i, depot)])\n",
    "            pbm += t[k, n, i] >= orders.loc[i].Deliver_from * y[k, n, i]\n",
    "            pbm += t[k, n, i] <= orders.loc[i].Deliver_to * y[k, n, i]"
   ]
  },
  {
   "cell_type": "code",
   "execution_count": null,
   "metadata": {},
   "outputs": [],
   "source": [
    "for i in cities:\n",
    "    # every city visited at least once by one vehicle\n",
    "    pbm += plp.lpSum(y[k, n, i] for k in cars for n in trips) >= 1\n",
    "\n",
    "    # demand\n",
    "    pbm += plp.lpSum(d[k, n, i] for k in cars for n in trips) == orders.loc[i].Demand - lack[i]\n",
    "    \n",
    "    \n",
    "for k in cars:\n",
    "    for i in all_cities:\n",
    "        for n in trips:\n",
    "            pbm += plp.lpSum(x[k, n, (i, j)] for j in all_cities if i != j) == y[k, n, i]\n",
    "            pbm += plp.lpSum(x[k, n, (j, i)] for j in all_cities if i != j) == y[k, n, i]\n",
    "    \n",
    "    for n in trips:\n",
    "        pbm += plp.lpSum(d[k, n, i] for i in cities) <= capacity[k] \n",
    "        for i in cities:\n",
    "            pbm += d[k, n, i] <= capacity[k] * y[k, n, i] "
   ]
  },
  {
   "cell_type": "code",
   "execution_count": null,
   "metadata": {},
   "outputs": [],
   "source": [
    "%%time\n",
    "pbm.solve(plp.PULP_CBC_CMD(msg=True))"
   ]
  },
  {
   "cell_type": "code",
   "execution_count": null,
   "metadata": {
    "scrolled": false
   },
   "outputs": [],
   "source": [
    "plp.LpStatus[pbm.status], plp.value(pbm.objective)"
   ]
  },
  {
   "cell_type": "code",
   "execution_count": null,
   "metadata": {},
   "outputs": [],
   "source": [
    "revenue = sum(orders.loc[i].Price_per_unit * d[k, n, i].value() for k in cars for n in trips for i in cities) \\\n",
    "    - sum(route_distance[r] * car_price[k] * x[k, n, r].value() for k in cars for n in trips for r in routes)\n",
    "revenue"
   ]
  },
  {
   "cell_type": "code",
   "execution_count": null,
   "metadata": {},
   "outputs": [],
   "source": [
    "#pbm"
   ]
  },
  {
   "cell_type": "markdown",
   "metadata": {},
   "source": [
    "## Save result"
   ]
  },
  {
   "cell_type": "code",
   "execution_count": null,
   "metadata": {
    "scrolled": true
   },
   "outputs": [],
   "source": [
    "cols = [\"CarName\",\n",
    "        \"TripNumber\",\n",
    "        \"City_From\", \n",
    "        \"City_To\", \n",
    "        \"DeliveredPerTrip\",\n",
    "        \"Lack\",\n",
    "        \"DepartueTime\",\n",
    "        \"ArrivalTime\", \"Deliver_From\", \"Deliver_To\"]\n",
    "result = pd.DataFrame(columns=cols)\n",
    "row_number = 0\n",
    "for k in cars:\n",
    "    for n in trips:\n",
    "        for i, j in routes:\n",
    "            #print(k, n, i, j, x[k, n, (i, j)].value())\n",
    "            if x[k, n, (i, j)].value() == 0:\n",
    "                continue\n",
    "            result.loc[row_number, cols] = k, n, i, j, \\\n",
    "                                        d[k, n, j].value() if j != depot else None, \\\n",
    "                                        None, \\\n",
    "                                        t[k, n, i].value(), \\\n",
    "                                        t[k, n, j].value() if j != depot else te[k, n].value(), \\\n",
    "                                        orders.loc[j].Deliver_from if j in cities else None, \\\n",
    "                                        orders.loc[j].Deliver_to if j in cities else None\n",
    "            row_number += 1\n",
    "\n",
    "            \n",
    "result = result.sort_values(by=[\"CarName\", \"TripNumber\", \"ArrivalTime\"])\n",
    "#result"
   ]
  },
  {
   "cell_type": "code",
   "execution_count": null,
   "metadata": {},
   "outputs": [],
   "source": [
    "for city in cities:\n",
    "    curr_lack = orders.loc[city].Demand\n",
    "    for line in result[result.City_To == city].itertuples():\n",
    "        curr_lack -= line.DeliveredPerTrip\n",
    "        result.loc[line.Index, \"Lack\"] = curr_lack\n",
    "result"
   ]
  },
  {
   "cell_type": "code",
   "execution_count": null,
   "metadata": {},
   "outputs": [],
   "source": [
    "cols = [\"City\",\n",
    "        \"Delivered\",\n",
    "        \"Demand\",\n",
    "        \"Lack\"]\n",
    "delivery = pd.DataFrame(columns=cols)\n",
    "row_number = 0\n",
    "for i in cities:\n",
    "    delivered = sum((d[k, n, i].value() for k in cars for n in trips))\n",
    "    delivery.loc[row_number, cols] = i, delivered, orders.loc[i].Demand, lack[i].value()\n",
    "    row_number += 1\n",
    "delivery"
   ]
  },
  {
   "cell_type": "code",
   "execution_count": null,
   "metadata": {},
   "outputs": [],
   "source": []
  },
  {
   "cell_type": "code",
   "execution_count": null,
   "metadata": {},
   "outputs": [],
   "source": []
  }
 ],
 "metadata": {
  "kernelspec": {
   "display_name": "Python 3",
   "language": "python",
   "name": "python3"
  },
  "language_info": {
   "codemirror_mode": {
    "name": "ipython",
    "version": 3
   },
   "file_extension": ".py",
   "mimetype": "text/x-python",
   "name": "python",
   "nbconvert_exporter": "python",
   "pygments_lexer": "ipython3",
   "version": "3.7.1"
  }
 },
 "nbformat": 4,
 "nbformat_minor": 2
}
