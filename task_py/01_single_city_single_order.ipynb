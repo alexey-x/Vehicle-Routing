{
 "cells": [
  {
   "cell_type": "markdown",
   "metadata": {},
   "source": [
    "# Simple problem -- single city - single order\n",
    "\n",
    "\n"
   ]
  },
  {
   "cell_type": "code",
   "execution_count": 1,
   "metadata": {},
   "outputs": [],
   "source": [
    "import pandas as pd\n",
    "import pulp as plp"
   ]
  },
  {
   "cell_type": "code",
   "execution_count": 2,
   "metadata": {},
   "outputs": [],
   "source": [
    "input_file = \"../data/test_input.xlsx\"\n",
    "output_file = \"../data/test_output.xlsx\""
   ]
  },
  {
   "cell_type": "markdown",
   "metadata": {},
   "source": [
    "## Data"
   ]
  },
  {
   "cell_type": "code",
   "execution_count": 3,
   "metadata": {},
   "outputs": [
    {
     "data": {
      "text/plain": [
       "(0, 25)"
      ]
     },
     "execution_count": 3,
     "metadata": {},
     "output_type": "execute_result"
    }
   ],
   "source": [
    "sheet_name = \"Parameters\"\n",
    "df_param = pd.read_excel(input_file, sheet_name=sheet_name)\n",
    "df_param.set_index(\"ParamName\", inplace=True)\n",
    "minPeriod = df_param.loc[\"minPeriod\"].ParamValue\n",
    "maxPeriod = df_param.loc[\"maxPeriod\"].ParamValue\n",
    "minPeriod, maxPeriod"
   ]
  },
  {
   "cell_type": "code",
   "execution_count": 4,
   "metadata": {
    "scrolled": false
   },
   "outputs": [
    {
     "data": {
      "text/html": [
       "<div>\n",
       "<style scoped>\n",
       "    .dataframe tbody tr th:only-of-type {\n",
       "        vertical-align: middle;\n",
       "    }\n",
       "\n",
       "    .dataframe tbody tr th {\n",
       "        vertical-align: top;\n",
       "    }\n",
       "\n",
       "    .dataframe thead th {\n",
       "        text-align: right;\n",
       "    }\n",
       "</style>\n",
       "<table border=\"1\" class=\"dataframe\">\n",
       "  <thead>\n",
       "    <tr style=\"text-align: right;\">\n",
       "      <th></th>\n",
       "      <th>ID</th>\n",
       "      <th>City</th>\n",
       "      <th>Demand</th>\n",
       "      <th>Price_per_unit</th>\n",
       "      <th>Deliver_from</th>\n",
       "      <th>Deliver_to</th>\n",
       "    </tr>\n",
       "  </thead>\n",
       "  <tbody>\n",
       "    <tr>\n",
       "      <th>0</th>\n",
       "      <td>1</td>\n",
       "      <td>Tambov</td>\n",
       "      <td>200</td>\n",
       "      <td>80</td>\n",
       "      <td>3</td>\n",
       "      <td>13</td>\n",
       "    </tr>\n",
       "    <tr>\n",
       "      <th>1</th>\n",
       "      <td>2</td>\n",
       "      <td>Voronezh</td>\n",
       "      <td>100</td>\n",
       "      <td>110</td>\n",
       "      <td>17</td>\n",
       "      <td>24</td>\n",
       "    </tr>\n",
       "  </tbody>\n",
       "</table>\n",
       "</div>"
      ],
      "text/plain": [
       "   ID      City  Demand  Price_per_unit  Deliver_from  Deliver_to\n",
       "0   1    Tambov     200              80             3          13\n",
       "1   2  Voronezh     100             110            17          24"
      ]
     },
     "execution_count": 4,
     "metadata": {},
     "output_type": "execute_result"
    }
   ],
   "source": [
    "sheet_name = \"SimpleOrders\"\n",
    "#sheet_name = \"Orders\"\n",
    "df_orders = pd.read_excel(input_file, sheet_name=sheet_name)\n",
    "df_orders.head()"
   ]
  },
  {
   "cell_type": "code",
   "execution_count": 5,
   "metadata": {},
   "outputs": [
    {
     "data": {
      "text/html": [
       "<div>\n",
       "<style scoped>\n",
       "    .dataframe tbody tr th:only-of-type {\n",
       "        vertical-align: middle;\n",
       "    }\n",
       "\n",
       "    .dataframe tbody tr th {\n",
       "        vertical-align: top;\n",
       "    }\n",
       "\n",
       "    .dataframe thead th {\n",
       "        text-align: right;\n",
       "    }\n",
       "</style>\n",
       "<table border=\"1\" class=\"dataframe\">\n",
       "  <thead>\n",
       "    <tr style=\"text-align: right;\">\n",
       "      <th></th>\n",
       "      <th>ID</th>\n",
       "      <th>From</th>\n",
       "      <th>To</th>\n",
       "      <th>Time</th>\n",
       "      <th>Distance</th>\n",
       "    </tr>\n",
       "  </thead>\n",
       "  <tbody>\n",
       "    <tr>\n",
       "      <th>0</th>\n",
       "      <td>1</td>\n",
       "      <td>Moscow</td>\n",
       "      <td>Tambov</td>\n",
       "      <td>4</td>\n",
       "      <td>500</td>\n",
       "    </tr>\n",
       "    <tr>\n",
       "      <th>1</th>\n",
       "      <td>2</td>\n",
       "      <td>Moscow</td>\n",
       "      <td>Voronezh</td>\n",
       "      <td>3</td>\n",
       "      <td>400</td>\n",
       "    </tr>\n",
       "    <tr>\n",
       "      <th>2</th>\n",
       "      <td>3</td>\n",
       "      <td>Tambov</td>\n",
       "      <td>Moscow</td>\n",
       "      <td>4</td>\n",
       "      <td>500</td>\n",
       "    </tr>\n",
       "    <tr>\n",
       "      <th>3</th>\n",
       "      <td>4</td>\n",
       "      <td>Tambov</td>\n",
       "      <td>Voronezh</td>\n",
       "      <td>2</td>\n",
       "      <td>200</td>\n",
       "    </tr>\n",
       "    <tr>\n",
       "      <th>4</th>\n",
       "      <td>5</td>\n",
       "      <td>Voronezh</td>\n",
       "      <td>Moscow</td>\n",
       "      <td>3</td>\n",
       "      <td>400</td>\n",
       "    </tr>\n",
       "  </tbody>\n",
       "</table>\n",
       "</div>"
      ],
      "text/plain": [
       "   ID      From        To  Time  Distance\n",
       "0   1    Moscow    Tambov     4       500\n",
       "1   2    Moscow  Voronezh     3       400\n",
       "2   3    Tambov    Moscow     4       500\n",
       "3   4    Tambov  Voronezh     2       200\n",
       "4   5  Voronezh    Moscow     3       400"
      ]
     },
     "execution_count": 5,
     "metadata": {},
     "output_type": "execute_result"
    }
   ],
   "source": [
    "sheet_name = \"Routes\"\n",
    "df_routes = pd.read_excel(input_file, sheet_name=sheet_name)\n",
    "df_routes.head()"
   ]
  },
  {
   "cell_type": "code",
   "execution_count": 6,
   "metadata": {},
   "outputs": [
    {
     "data": {
      "text/html": [
       "<div>\n",
       "<style scoped>\n",
       "    .dataframe tbody tr th:only-of-type {\n",
       "        vertical-align: middle;\n",
       "    }\n",
       "\n",
       "    .dataframe tbody tr th {\n",
       "        vertical-align: top;\n",
       "    }\n",
       "\n",
       "    .dataframe thead th {\n",
       "        text-align: right;\n",
       "    }\n",
       "</style>\n",
       "<table border=\"1\" class=\"dataframe\">\n",
       "  <thead>\n",
       "    <tr style=\"text-align: right;\">\n",
       "      <th></th>\n",
       "      <th>ID</th>\n",
       "      <th>City</th>\n",
       "    </tr>\n",
       "  </thead>\n",
       "  <tbody>\n",
       "    <tr>\n",
       "      <th>0</th>\n",
       "      <td>1</td>\n",
       "      <td>Moscow</td>\n",
       "    </tr>\n",
       "    <tr>\n",
       "      <th>1</th>\n",
       "      <td>2</td>\n",
       "      <td>Tambov</td>\n",
       "    </tr>\n",
       "    <tr>\n",
       "      <th>2</th>\n",
       "      <td>3</td>\n",
       "      <td>Voronezh</td>\n",
       "    </tr>\n",
       "  </tbody>\n",
       "</table>\n",
       "</div>"
      ],
      "text/plain": [
       "   ID      City\n",
       "0   1    Moscow\n",
       "1   2    Tambov\n",
       "2   3  Voronezh"
      ]
     },
     "execution_count": 6,
     "metadata": {},
     "output_type": "execute_result"
    }
   ],
   "source": [
    "sheet_name = \"Cities\"\n",
    "df_cities = pd.read_excel(input_file, sheet_name=sheet_name)\n",
    "df_cities.head()"
   ]
  },
  {
   "cell_type": "code",
   "execution_count": 7,
   "metadata": {},
   "outputs": [
    {
     "data": {
      "text/html": [
       "<div>\n",
       "<style scoped>\n",
       "    .dataframe tbody tr th:only-of-type {\n",
       "        vertical-align: middle;\n",
       "    }\n",
       "\n",
       "    .dataframe tbody tr th {\n",
       "        vertical-align: top;\n",
       "    }\n",
       "\n",
       "    .dataframe thead th {\n",
       "        text-align: right;\n",
       "    }\n",
       "</style>\n",
       "<table border=\"1\" class=\"dataframe\">\n",
       "  <thead>\n",
       "    <tr style=\"text-align: right;\">\n",
       "      <th></th>\n",
       "      <th>ID</th>\n",
       "      <th>CarName</th>\n",
       "      <th>Capacity</th>\n",
       "      <th>Price_per_km</th>\n",
       "    </tr>\n",
       "  </thead>\n",
       "  <tbody>\n",
       "    <tr>\n",
       "      <th>0</th>\n",
       "      <td>1</td>\n",
       "      <td>big</td>\n",
       "      <td>60</td>\n",
       "      <td>10</td>\n",
       "    </tr>\n",
       "    <tr>\n",
       "      <th>1</th>\n",
       "      <td>2</td>\n",
       "      <td>small</td>\n",
       "      <td>50</td>\n",
       "      <td>8</td>\n",
       "    </tr>\n",
       "  </tbody>\n",
       "</table>\n",
       "</div>"
      ],
      "text/plain": [
       "   ID CarName  Capacity  Price_per_km\n",
       "0   1     big        60            10\n",
       "1   2   small        50             8"
      ]
     },
     "execution_count": 7,
     "metadata": {},
     "output_type": "execute_result"
    }
   ],
   "source": [
    "sheet_name = \"Cars\"\n",
    "df_cars= pd.read_excel(input_file, sheet_name=sheet_name, nrows=None)\n",
    "df_cars.head()"
   ]
  },
  {
   "cell_type": "code",
   "execution_count": 8,
   "metadata": {},
   "outputs": [
    {
     "data": {
      "text/plain": [
       "110"
      ]
     },
     "execution_count": 8,
     "metadata": {},
     "output_type": "execute_result"
    }
   ],
   "source": [
    "TOT_CAPACITY = df_cars.Capacity.sum()\n",
    "TOT_CAPACITY"
   ]
  },
  {
   "cell_type": "markdown",
   "metadata": {},
   "source": [
    "## Structures\n",
    "\n",
    "Moscow - origin depot and destination depot"
   ]
  },
  {
   "cell_type": "code",
   "execution_count": 9,
   "metadata": {},
   "outputs": [],
   "source": [
    "def convert_dataframe_to_dict(dataframe, key_columns, value_column):\n",
    "    return (\n",
    "        dataframe.loc[:, key_columns + [value_column]]\n",
    "        .set_index(key_columns)\n",
    "        .to_dict()[value_column]\n",
    "    )\n",
    "\n",
    "def convert_dataframe_to_set(dataframe, key_columns, value_column):\n",
    "    return set(\n",
    "        list(convert_dataframe_to_dict(dataframe, key_columns, value_column).keys())\n",
    "    )\n"
   ]
  },
  {
   "cell_type": "code",
   "execution_count": 10,
   "metadata": {},
   "outputs": [
    {
     "data": {
      "text/plain": [
       "{'Moscow', 'Tambov', 'Voronezh'}"
      ]
     },
     "execution_count": 10,
     "metadata": {},
     "output_type": "execute_result"
    }
   ],
   "source": [
    "depot = df_cities.City[0]\n",
    "\n",
    "cities = set(df_cities.City.values).difference(set([depot]))\n",
    "\n",
    "#origin_depot = default_depot + '_start'\n",
    "#destination_depot = default_depot + '_end'\n",
    "\n",
    "all_cities = cities.union([depot])\n",
    "all_cities"
   ]
  },
  {
   "cell_type": "code",
   "execution_count": 11,
   "metadata": {},
   "outputs": [
    {
     "data": {
      "text/plain": [
       "'Moscow'"
      ]
     },
     "execution_count": 11,
     "metadata": {},
     "output_type": "execute_result"
    }
   ],
   "source": [
    "depot"
   ]
  },
  {
   "cell_type": "code",
   "execution_count": 12,
   "metadata": {},
   "outputs": [
    {
     "data": {
      "text/plain": [
       "{'big': 60, 'small': 50}"
      ]
     },
     "execution_count": 12,
     "metadata": {},
     "output_type": "execute_result"
    }
   ],
   "source": [
    "car_capacity = convert_dataframe_to_dict(df_cars, [\"CarName\"], \"Capacity\")\n",
    "car_capacity"
   ]
  },
  {
   "cell_type": "code",
   "execution_count": 13,
   "metadata": {},
   "outputs": [
    {
     "data": {
      "text/plain": [
       "{'big': 10, 'small': 8}"
      ]
     },
     "execution_count": 13,
     "metadata": {},
     "output_type": "execute_result"
    }
   ],
   "source": [
    "car_price = convert_dataframe_to_dict(df_cars, [\"CarName\"], \"Price_per_km\")\n",
    "car_price"
   ]
  },
  {
   "cell_type": "code",
   "execution_count": 14,
   "metadata": {},
   "outputs": [
    {
     "data": {
      "text/plain": [
       "{('Moscow', 'Tambov'),\n",
       " ('Moscow', 'Voronezh'),\n",
       " ('Tambov', 'Moscow'),\n",
       " ('Tambov', 'Voronezh'),\n",
       " ('Voronezh', 'Moscow'),\n",
       " ('Voronezh', 'Tambov')}"
      ]
     },
     "execution_count": 14,
     "metadata": {},
     "output_type": "execute_result"
    }
   ],
   "source": [
    "routes = convert_dataframe_to_set(df_routes, [\"From\", \"To\"], \"Distance\")\n",
    "routes"
   ]
  },
  {
   "cell_type": "code",
   "execution_count": 15,
   "metadata": {},
   "outputs": [],
   "source": [
    "route_time = convert_dataframe_to_dict(df_routes, [\"From\", \"To\"], \"Time\")\n",
    "route_distance = convert_dataframe_to_dict(df_routes, [\"From\", \"To\"], \"Distance\")"
   ]
  },
  {
   "cell_type": "code",
   "execution_count": 16,
   "metadata": {},
   "outputs": [
    {
     "data": {
      "text/plain": [
       "({('Moscow', 'Tambov'): 4,\n",
       "  ('Moscow', 'Voronezh'): 3,\n",
       "  ('Tambov', 'Moscow'): 4,\n",
       "  ('Tambov', 'Voronezh'): 2,\n",
       "  ('Voronezh', 'Moscow'): 3,\n",
       "  ('Voronezh', 'Tambov'): 2},\n",
       " {('Moscow', 'Tambov'): 500,\n",
       "  ('Moscow', 'Voronezh'): 400,\n",
       "  ('Tambov', 'Moscow'): 500,\n",
       "  ('Tambov', 'Voronezh'): 200,\n",
       "  ('Voronezh', 'Moscow'): 400,\n",
       "  ('Voronezh', 'Tambov'): 200},\n",
       " {('Moscow', 'Tambov'),\n",
       "  ('Moscow', 'Voronezh'),\n",
       "  ('Tambov', 'Moscow'),\n",
       "  ('Tambov', 'Voronezh'),\n",
       "  ('Voronezh', 'Moscow'),\n",
       "  ('Voronezh', 'Tambov')})"
      ]
     },
     "execution_count": 16,
     "metadata": {},
     "output_type": "execute_result"
    }
   ],
   "source": [
    "route_time, route_distance, routes"
   ]
  },
  {
   "cell_type": "code",
   "execution_count": 17,
   "metadata": {},
   "outputs": [
    {
     "data": {
      "text/html": [
       "<div>\n",
       "<style scoped>\n",
       "    .dataframe tbody tr th:only-of-type {\n",
       "        vertical-align: middle;\n",
       "    }\n",
       "\n",
       "    .dataframe tbody tr th {\n",
       "        vertical-align: top;\n",
       "    }\n",
       "\n",
       "    .dataframe thead th {\n",
       "        text-align: right;\n",
       "    }\n",
       "</style>\n",
       "<table border=\"1\" class=\"dataframe\">\n",
       "  <thead>\n",
       "    <tr style=\"text-align: right;\">\n",
       "      <th></th>\n",
       "      <th>Demand</th>\n",
       "      <th>Price_per_unit</th>\n",
       "      <th>Deliver_from</th>\n",
       "      <th>Deliver_to</th>\n",
       "    </tr>\n",
       "    <tr>\n",
       "      <th>City</th>\n",
       "      <th></th>\n",
       "      <th></th>\n",
       "      <th></th>\n",
       "      <th></th>\n",
       "    </tr>\n",
       "  </thead>\n",
       "  <tbody>\n",
       "    <tr>\n",
       "      <th>Tambov</th>\n",
       "      <td>200</td>\n",
       "      <td>80</td>\n",
       "      <td>3</td>\n",
       "      <td>13</td>\n",
       "    </tr>\n",
       "    <tr>\n",
       "      <th>Voronezh</th>\n",
       "      <td>100</td>\n",
       "      <td>110</td>\n",
       "      <td>17</td>\n",
       "      <td>24</td>\n",
       "    </tr>\n",
       "  </tbody>\n",
       "</table>\n",
       "</div>"
      ],
      "text/plain": [
       "          Demand  Price_per_unit  Deliver_from  Deliver_to\n",
       "City                                                      \n",
       "Tambov       200              80             3          13\n",
       "Voronezh     100             110            17          24"
      ]
     },
     "execution_count": 17,
     "metadata": {},
     "output_type": "execute_result"
    }
   ],
   "source": [
    "orders = df_orders.drop(\"ID\", axis=1).set_index(\"City\")\n",
    "orders"
   ]
  },
  {
   "cell_type": "code",
   "execution_count": 18,
   "metadata": {},
   "outputs": [
    {
     "data": {
      "text/plain": [
       "300"
      ]
     },
     "execution_count": 18,
     "metadata": {},
     "output_type": "execute_result"
    }
   ],
   "source": [
    "TOT_DEMAND = df_orders.Demand.sum()\n",
    "TOT_DEMAND"
   ]
  },
  {
   "cell_type": "code",
   "execution_count": 19,
   "metadata": {},
   "outputs": [
    {
     "data": {
      "text/plain": [
       "{'big', 'small'}"
      ]
     },
     "execution_count": 19,
     "metadata": {},
     "output_type": "execute_result"
    }
   ],
   "source": [
    "cars = convert_dataframe_to_set(df_cars, [\"CarName\"], \"Price_per_km\")\n",
    "cars"
   ]
  },
  {
   "cell_type": "code",
   "execution_count": 20,
   "metadata": {},
   "outputs": [
    {
     "data": {
      "text/plain": [
       "([1, 2, 3], 3)"
      ]
     },
     "execution_count": 20,
     "metadata": {},
     "output_type": "execute_result"
    }
   ],
   "source": [
    "# trips - number of trips performed by one vehicle\n",
    "trips = list(range(1, len(cities)))\n",
    "trips = list(range(1, TOT_DEMAND//TOT_CAPACITY + 2))\n",
    "fin_trip = trips[-1]\n",
    "trips, fin_trip"
   ]
  },
  {
   "cell_type": "markdown",
   "metadata": {},
   "source": [
    "## Task"
   ]
  },
  {
   "cell_type": "markdown",
   "metadata": {},
   "source": [
    "k - cars\n",
    "\n",
    "n - trips\n",
    "\n",
    "r - routes\n",
    "\n",
    "$$\n",
    "x^{kn}_{ij} = 1 if trip n \\in TRIPS of vehicle v \\in V travels through arc (i,j) \\in A, 0 otherwise,\n",
    "$$"
   ]
  },
  {
   "cell_type": "code",
   "execution_count": 21,
   "metadata": {},
   "outputs": [],
   "source": [
    "pbm = plp.LpProblem(\"VRPTW\", plp.LpMaximize)"
   ]
  },
  {
   "cell_type": "code",
   "execution_count": 22,
   "metadata": {},
   "outputs": [],
   "source": [
    "x = plp.LpVariable.dicts(\"x\", [(k, n, r) for k in cars for n in trips for r in routes], cat=plp.LpBinary)"
   ]
  },
  {
   "cell_type": "code",
   "execution_count": 23,
   "metadata": {},
   "outputs": [],
   "source": [
    "y = plp.LpVariable.dicts(\"y\", [(k, n, i) for k in cars for n in trips for i in all_cities], cat=plp.LpBinary)"
   ]
  },
  {
   "cell_type": "code",
   "execution_count": 24,
   "metadata": {},
   "outputs": [],
   "source": [
    "d = plp.LpVariable.dicts(\"d\", [(k, n, i) for k in cars for n in trips for i in cities], cat=plp.LpContinuous, lowBound=0)"
   ]
  },
  {
   "cell_type": "code",
   "execution_count": 25,
   "metadata": {},
   "outputs": [],
   "source": [
    "#lack\n",
    "lack = plp.LpVariable.dicts(\"lack\", [i for i in cities], cat=plp.LpContinuous, lowBound=0)"
   ]
  },
  {
   "cell_type": "code",
   "execution_count": 26,
   "metadata": {},
   "outputs": [],
   "source": [
    "t = plp.LpVariable.dicts(\"t\", [(k, n, i) for k in cars for n in trips for i in all_cities], cat=plp.LpContinuous, lowBound=0)"
   ]
  },
  {
   "cell_type": "code",
   "execution_count": 27,
   "metadata": {},
   "outputs": [],
   "source": [
    "# end time of the trip n\n",
    "te = plp.LpVariable.dicts(\"te\", [(k, n) for k in cars for n in trips], cat=plp.LpContinuous, lowBound=0)"
   ]
  },
  {
   "cell_type": "code",
   "execution_count": 28,
   "metadata": {},
   "outputs": [],
   "source": [
    "# maximize revenue\n",
    "#revenue = sales_profit - devlivery_cost + expensive_undelivered\n",
    "pbm += plp.lpSum(orders.loc[i].Price_per_unit * d[k, n, i] for k in cars for n in trips for i in cities) \\\n",
    "    - plp.lpSum(route_distance[r] * car_price[k] * x[k, n, r] for k in cars for n in trips for r in routes) \\\n",
    "    - plp.lpSum(te[k, n] for k in cars for n in trips) \\\n",
    "    - plp.lpSum(100 * orders.loc[i].Price_per_unit * lack[i] for i in cities)"
   ]
  },
  {
   "cell_type": "markdown",
   "metadata": {},
   "source": [
    "minimize travel time\n",
    "```python\n",
    "pbm += plp.lpSum(route_time[r] * x[k, n, r] for k in cars for n in trips for r in routes)\n",
    "```\n",
    "\n",
    "minimize distance cost\n",
    "```python\n",
    "prob += plp.lpSum(route_distance[r] * car_price[k] * x[k, n, r] for k in cars for n in trips for r in routes)\n",
    "```"
   ]
  },
  {
   "cell_type": "code",
   "execution_count": 30,
   "metadata": {},
   "outputs": [],
   "source": [
    "# time constraints\n",
    "for k in cars:\n",
    "    pbm += t[k, 1, depot] == 0\n",
    "    for n in trips:\n",
    "        if n != fin_trip:\n",
    "            pbm += te[k, n] <= t[k, n+1, depot]\n",
    "            pbm += t[k, n, depot] <= t[k, n+1, depot]\n",
    "        pbm += te[k, n] <= maxPeriod\n",
    "        \n",
    "        for i, j in routes:\n",
    "            if j == depot:\n",
    "                continue\n",
    "            pbm += t[k, n, i] + route_time[i, j] <= t[k, n, j] + maxPeriod * (1 - x[k, n, (i, j)])\n",
    "        for i in cities:\n",
    "            pbm += t[k, n, i] + route_time[i, depot] <= te[k, n] + maxPeriod * (1 - x[k, n, (i, depot)])\n",
    "            pbm += t[k, n, i] >= orders.loc[i].Deliver_from * y[k, n, i]\n",
    "            pbm += t[k, n, i] <= orders.loc[i].Deliver_to * y[k, n, i]"
   ]
  },
  {
   "cell_type": "code",
   "execution_count": 31,
   "metadata": {},
   "outputs": [],
   "source": [
    "for i in cities:\n",
    "    # every city visited at least once by one vehicle\n",
    "    pbm += plp.lpSum(y[k, n, i] for k in cars for n in trips) >= 1\n",
    "\n",
    "    # demand\n",
    "    pbm += plp.lpSum(d[k, n, i] for k in cars for n in trips) == orders.loc[i].Demand - lack[i]\n",
    "    \n",
    "    \n",
    "for k in cars:\n",
    "    for i in all_cities:\n",
    "        for n in trips:\n",
    "            pbm += plp.lpSum(x[k, n, (i, j)] for j in all_cities if i != j) == y[k, n, i]\n",
    "            pbm += plp.lpSum(x[k, n, (j, i)] for j in all_cities if i != j) == y[k, n, i]\n",
    "    \n",
    "    for n in trips:\n",
    "        pbm += plp.lpSum(d[k, n, i] for i in cities) <= car_capacity[k] \n",
    "        for i in cities:\n",
    "            pbm += d[k, n, i] <= car_capacity[k] * y[k, n, i] "
   ]
  },
  {
   "cell_type": "code",
   "execution_count": 32,
   "metadata": {},
   "outputs": [
    {
     "data": {
      "text/plain": [
       "1"
      ]
     },
     "execution_count": 32,
     "metadata": {},
     "output_type": "execute_result"
    }
   ],
   "source": [
    "pbm.solve()"
   ]
  },
  {
   "cell_type": "code",
   "execution_count": 33,
   "metadata": {
    "scrolled": false
   },
   "outputs": [
    {
     "data": {
      "text/plain": [
       "('Optimal', -23492.0)"
      ]
     },
     "execution_count": 33,
     "metadata": {},
     "output_type": "execute_result"
    }
   ],
   "source": [
    "plp.LpStatus[pbm.status], plp.value(pbm.objective)"
   ]
  },
  {
   "cell_type": "code",
   "execution_count": 34,
   "metadata": {},
   "outputs": [
    {
     "data": {
      "text/plain": [
       "-23400.0"
      ]
     },
     "execution_count": 34,
     "metadata": {},
     "output_type": "execute_result"
    }
   ],
   "source": [
    "revenue = sum(orders.loc[i].Price_per_unit * d[k, n, i].value() for k in cars for n in trips for i in cities) \\\n",
    "    - sum(route_distance[r] * car_price[k] * x[k, n, r].value() for k in cars for n in trips for r in routes)\n",
    "revenue"
   ]
  },
  {
   "cell_type": "code",
   "execution_count": 35,
   "metadata": {},
   "outputs": [],
   "source": [
    "#pbm"
   ]
  },
  {
   "cell_type": "markdown",
   "metadata": {},
   "source": [
    "## Save result"
   ]
  },
  {
   "cell_type": "code",
   "execution_count": 36,
   "metadata": {},
   "outputs": [
    {
     "data": {
      "text/html": [
       "<div>\n",
       "<style scoped>\n",
       "    .dataframe tbody tr th:only-of-type {\n",
       "        vertical-align: middle;\n",
       "    }\n",
       "\n",
       "    .dataframe tbody tr th {\n",
       "        vertical-align: top;\n",
       "    }\n",
       "\n",
       "    .dataframe thead th {\n",
       "        text-align: right;\n",
       "    }\n",
       "</style>\n",
       "<table border=\"1\" class=\"dataframe\">\n",
       "  <thead>\n",
       "    <tr style=\"text-align: right;\">\n",
       "      <th></th>\n",
       "      <th>CarName</th>\n",
       "      <th>TripNumber</th>\n",
       "      <th>City_From</th>\n",
       "      <th>City_To</th>\n",
       "      <th>Delivered</th>\n",
       "      <th>Lack</th>\n",
       "      <th>StartTime</th>\n",
       "      <th>ArrivalTime</th>\n",
       "      <th>Deliver_From</th>\n",
       "      <th>Deliver_To</th>\n",
       "    </tr>\n",
       "  </thead>\n",
       "  <tbody>\n",
       "    <tr>\n",
       "      <th>1</th>\n",
       "      <td>big</td>\n",
       "      <td>1</td>\n",
       "      <td>Moscow</td>\n",
       "      <td>Tambov</td>\n",
       "      <td>60</td>\n",
       "      <td>0</td>\n",
       "      <td>0</td>\n",
       "      <td>4</td>\n",
       "      <td>3</td>\n",
       "      <td>13</td>\n",
       "    </tr>\n",
       "    <tr>\n",
       "      <th>0</th>\n",
       "      <td>big</td>\n",
       "      <td>1</td>\n",
       "      <td>Tambov</td>\n",
       "      <td>Moscow</td>\n",
       "      <td>None</td>\n",
       "      <td>None</td>\n",
       "      <td>4</td>\n",
       "      <td>8</td>\n",
       "      <td>None</td>\n",
       "      <td>None</td>\n",
       "    </tr>\n",
       "    <tr>\n",
       "      <th>3</th>\n",
       "      <td>big</td>\n",
       "      <td>2</td>\n",
       "      <td>Moscow</td>\n",
       "      <td>Tambov</td>\n",
       "      <td>60</td>\n",
       "      <td>0</td>\n",
       "      <td>8</td>\n",
       "      <td>12</td>\n",
       "      <td>3</td>\n",
       "      <td>13</td>\n",
       "    </tr>\n",
       "    <tr>\n",
       "      <th>2</th>\n",
       "      <td>big</td>\n",
       "      <td>2</td>\n",
       "      <td>Tambov</td>\n",
       "      <td>Moscow</td>\n",
       "      <td>None</td>\n",
       "      <td>None</td>\n",
       "      <td>12</td>\n",
       "      <td>16</td>\n",
       "      <td>None</td>\n",
       "      <td>None</td>\n",
       "    </tr>\n",
       "    <tr>\n",
       "      <th>5</th>\n",
       "      <td>big</td>\n",
       "      <td>3</td>\n",
       "      <td>Moscow</td>\n",
       "      <td>Voronezh</td>\n",
       "      <td>60</td>\n",
       "      <td>0</td>\n",
       "      <td>16</td>\n",
       "      <td>19</td>\n",
       "      <td>17</td>\n",
       "      <td>24</td>\n",
       "    </tr>\n",
       "    <tr>\n",
       "      <th>4</th>\n",
       "      <td>big</td>\n",
       "      <td>3</td>\n",
       "      <td>Voronezh</td>\n",
       "      <td>Moscow</td>\n",
       "      <td>None</td>\n",
       "      <td>None</td>\n",
       "      <td>19</td>\n",
       "      <td>22</td>\n",
       "      <td>None</td>\n",
       "      <td>None</td>\n",
       "    </tr>\n",
       "    <tr>\n",
       "      <th>7</th>\n",
       "      <td>small</td>\n",
       "      <td>1</td>\n",
       "      <td>Moscow</td>\n",
       "      <td>Tambov</td>\n",
       "      <td>50</td>\n",
       "      <td>0</td>\n",
       "      <td>0</td>\n",
       "      <td>4</td>\n",
       "      <td>3</td>\n",
       "      <td>13</td>\n",
       "    </tr>\n",
       "    <tr>\n",
       "      <th>6</th>\n",
       "      <td>small</td>\n",
       "      <td>1</td>\n",
       "      <td>Tambov</td>\n",
       "      <td>Moscow</td>\n",
       "      <td>None</td>\n",
       "      <td>None</td>\n",
       "      <td>4</td>\n",
       "      <td>8</td>\n",
       "      <td>None</td>\n",
       "      <td>None</td>\n",
       "    </tr>\n",
       "    <tr>\n",
       "      <th>9</th>\n",
       "      <td>small</td>\n",
       "      <td>2</td>\n",
       "      <td>Moscow</td>\n",
       "      <td>Tambov</td>\n",
       "      <td>30</td>\n",
       "      <td>0</td>\n",
       "      <td>8</td>\n",
       "      <td>12</td>\n",
       "      <td>3</td>\n",
       "      <td>13</td>\n",
       "    </tr>\n",
       "    <tr>\n",
       "      <th>8</th>\n",
       "      <td>small</td>\n",
       "      <td>2</td>\n",
       "      <td>Tambov</td>\n",
       "      <td>Moscow</td>\n",
       "      <td>None</td>\n",
       "      <td>None</td>\n",
       "      <td>12</td>\n",
       "      <td>16</td>\n",
       "      <td>None</td>\n",
       "      <td>None</td>\n",
       "    </tr>\n",
       "    <tr>\n",
       "      <th>11</th>\n",
       "      <td>small</td>\n",
       "      <td>3</td>\n",
       "      <td>Moscow</td>\n",
       "      <td>Voronezh</td>\n",
       "      <td>40</td>\n",
       "      <td>0</td>\n",
       "      <td>16</td>\n",
       "      <td>19</td>\n",
       "      <td>17</td>\n",
       "      <td>24</td>\n",
       "    </tr>\n",
       "    <tr>\n",
       "      <th>10</th>\n",
       "      <td>small</td>\n",
       "      <td>3</td>\n",
       "      <td>Voronezh</td>\n",
       "      <td>Moscow</td>\n",
       "      <td>None</td>\n",
       "      <td>None</td>\n",
       "      <td>19</td>\n",
       "      <td>22</td>\n",
       "      <td>None</td>\n",
       "      <td>None</td>\n",
       "    </tr>\n",
       "  </tbody>\n",
       "</table>\n",
       "</div>"
      ],
      "text/plain": [
       "   CarName TripNumber City_From   City_To Delivered  Lack StartTime  \\\n",
       "1      big          1    Moscow    Tambov        60     0         0   \n",
       "0      big          1    Tambov    Moscow      None  None         4   \n",
       "3      big          2    Moscow    Tambov        60     0         8   \n",
       "2      big          2    Tambov    Moscow      None  None        12   \n",
       "5      big          3    Moscow  Voronezh        60     0        16   \n",
       "4      big          3  Voronezh    Moscow      None  None        19   \n",
       "7    small          1    Moscow    Tambov        50     0         0   \n",
       "6    small          1    Tambov    Moscow      None  None         4   \n",
       "9    small          2    Moscow    Tambov        30     0         8   \n",
       "8    small          2    Tambov    Moscow      None  None        12   \n",
       "11   small          3    Moscow  Voronezh        40     0        16   \n",
       "10   small          3  Voronezh    Moscow      None  None        19   \n",
       "\n",
       "   ArrivalTime Deliver_From Deliver_To  \n",
       "1            4            3         13  \n",
       "0            8         None       None  \n",
       "3           12            3         13  \n",
       "2           16         None       None  \n",
       "5           19           17         24  \n",
       "4           22         None       None  \n",
       "7            4            3         13  \n",
       "6            8         None       None  \n",
       "9           12            3         13  \n",
       "8           16         None       None  \n",
       "11          19           17         24  \n",
       "10          22         None       None  "
      ]
     },
     "execution_count": 36,
     "metadata": {},
     "output_type": "execute_result"
    }
   ],
   "source": [
    "cols = [\"CarName\",\n",
    "        \"TripNumber\",\n",
    "        \"City_From\", \n",
    "        \"City_To\", \n",
    "        \"Delivered\",\n",
    "        \"Lack\",\n",
    "        \"StartTime\",\n",
    "        \"ArrivalTime\", \"Deliver_From\", \"Deliver_To\"]\n",
    "result = pd.DataFrame(columns=cols)\n",
    "row_number = 0\n",
    "for k in cars:\n",
    "    for n in trips:\n",
    "        for i, j in routes:\n",
    "            #print(k, n, i, j, x[k, n, (i, j)].value())\n",
    "            if x[k, n, (i, j)].value() == 0:\n",
    "                continue\n",
    "            result.loc[row_number, cols] = k, n, i, j, \\\n",
    "                                        d[k, n, j].value() if j != depot else None, \\\n",
    "                                        lack[j].value() if j != depot else None, \\\n",
    "                                         t[k, n, i].value(), \\\n",
    "                                         t[k, n, j].value() if j != depot else te[k, n].value(), \\\n",
    "                                         orders.loc[j].Deliver_from if j in cities else None, \\\n",
    "                                         orders.loc[j].Deliver_to if j in cities else None\n",
    "            row_number += 1\n",
    "\n",
    "            \n",
    "result.sort_values(by=[\"CarName\", \"TripNumber\", \"ArrivalTime\"])\n",
    "#result"
   ]
  },
  {
   "cell_type": "code",
   "execution_count": 37,
   "metadata": {},
   "outputs": [
    {
     "name": "stdout",
     "output_type": "stream",
     "text": [
      "big 1 8.0\n",
      "big 1 Voronezh 0.0 0.0\n",
      "big 1 Tambov 4.0 1.0\n",
      "big 1 Moscow 0.0 1.0\n",
      "big 2 16.0\n",
      "big 2 Voronezh 0.0 0.0\n",
      "big 2 Tambov 12.0 1.0\n",
      "big 2 Moscow 8.0 1.0\n",
      "big 3 22.0\n",
      "big 3 Voronezh 19.0 1.0\n",
      "big 3 Tambov 0.0 0.0\n",
      "big 3 Moscow 16.0 1.0\n",
      "small 1 8.0\n",
      "small 1 Voronezh 0.0 0.0\n",
      "small 1 Tambov 4.0 1.0\n",
      "small 1 Moscow 0.0 1.0\n",
      "small 2 16.0\n",
      "small 2 Voronezh 0.0 0.0\n",
      "small 2 Tambov 12.0 1.0\n",
      "small 2 Moscow 8.0 1.0\n",
      "small 3 22.0\n",
      "small 3 Voronezh 19.0 1.0\n",
      "small 3 Tambov 0.0 0.0\n",
      "small 3 Moscow 16.0 1.0\n"
     ]
    }
   ],
   "source": [
    "for k in cars:\n",
    "    for n in trips:\n",
    "        print(k, n, te[k, n].value())\n",
    "        for i in all_cities:\n",
    "            print(k, n, i, t[k, n, i].value(), y[k, n, i].value())"
   ]
  },
  {
   "cell_type": "code",
   "execution_count": null,
   "metadata": {},
   "outputs": [],
   "source": []
  },
  {
   "cell_type": "code",
   "execution_count": null,
   "metadata": {},
   "outputs": [],
   "source": []
  },
  {
   "cell_type": "code",
   "execution_count": null,
   "metadata": {},
   "outputs": [],
   "source": []
  },
  {
   "cell_type": "code",
   "execution_count": null,
   "metadata": {},
   "outputs": [],
   "source": []
  },
  {
   "cell_type": "code",
   "execution_count": null,
   "metadata": {},
   "outputs": [],
   "source": []
  }
 ],
 "metadata": {
  "kernelspec": {
   "display_name": "Python 3",
   "language": "python",
   "name": "python3"
  },
  "language_info": {
   "codemirror_mode": {
    "name": "ipython",
    "version": 3
   },
   "file_extension": ".py",
   "mimetype": "text/x-python",
   "name": "python",
   "nbconvert_exporter": "python",
   "pygments_lexer": "ipython3",
   "version": "3.7.1"
  }
 },
 "nbformat": 4,
 "nbformat_minor": 2
}
